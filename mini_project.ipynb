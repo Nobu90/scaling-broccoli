{
  "nbformat": 4,
  "nbformat_minor": 0,
  "metadata": {
    "colab": {
      "provenance": [],
      "mount_file_id": "14BkW9u0sJ7vy06PA06bCYrN4ZO5m6iSo",
      "authorship_tag": "ABX9TyPacGRwDsFjlxRjB91kr7FJ",
      "include_colab_link": true
    },
    "kernelspec": {
      "name": "python3",
      "display_name": "Python 3"
    },
    "language_info": {
      "name": "python"
    },
    "gpuClass": "premium"
  },
  "cells": [
    {
      "cell_type": "markdown",
      "metadata": {
        "id": "view-in-github",
        "colab_type": "text"
      },
      "source": [
        "<a href=\"https://colab.research.google.com/github/Nobu90/scaling-broccoli/blob/main/mini_project.ipynb\" target=\"_parent\"><img src=\"https://colab.research.google.com/assets/colab-badge.svg\" alt=\"Open In Colab\"/></a>"
      ]
    },
    {
      "cell_type": "markdown",
      "source": [
        "# 후기\n",
        "\n",
        "## 손 맛을 보았다\n",
        "\n",
        "중간에 통과하기 위해서 이미지도 키워보고 비슷하게 사진도 찍어보고 편법식으로 할까 했었는데 디스코드에 있는 대화를 보고 나도 조금 정석으로 해보자했는데 너무 힘들었다.\n",
        "그래도 모델링 만으로도 원하는 결과를 얻을 수 있다는 자신감을 얻어서 기쁘다.\n",
        "여러 파라미터를 생각 없이 이리저리 조정하다가 감으로 힌트를 얻어 에폭을 조정하면서 결국 원하는 결과를 얻었는데, 나중에는 감으로 이것 조정하지 않아도 머리로 예측하고 미리 그릴 수 있었으면 좋겠다.\n",
        "그러려면 역시 모델에 대한 이해와 각 파라미터의 관계 그리고 내가 훈련시키고자 하는 테스트에 대한 특성 등 여러가지를 알아야할 것 같다.\n",
        "그동안 아무리 배워도 어느 정도는 운 빨이 아닐까 하는 의심이 있었는데 이번에 그런 믿음이 깨진 것만으로도 충분히 만족스러웠다. "
      ],
      "metadata": {
        "id": "Z_alzBWPEuna"
      }
    },
    {
      "cell_type": "markdown",
      "source": [
        "## Change Parameters\n",
        "\n",
        "\n",
        "Version 1 - n_channel_1=32\n",
        "n_channel_2=64\n",
        "n_dense=32\n",
        "n_train_epoch=12 /test_accuracy: 0.38999998569488525\n",
        "\n",
        "Version 2 - n_channel_1=32\n",
        "n_channel_2=64\n",
        "n_dense=16\n",
        "n_train_epoch=12 /test_accuracy: 0.5733333230018616\n",
        "\n",
        "Version 3 - n_channel_1=32 n_channel_2=64 n_dense=12 n_train_epoch=12 /test_accuracy: 0.5533333420753479\n",
        "\n",
        "Version 4 - n_channel_1=32 n_channel_2=64 n_dense=12 n_train_epoch=14 /test_accuracy: 0.3333333333333333"
      ],
      "metadata": {
        "id": "LzHD1Wbri7oE"
      }
    },
    {
      "cell_type": "markdown",
      "source": [
        "## Change funciton and epoch\n",
        "\n",
        "Version 5 - model.add(keras.layers.Dense(10, activation='sigmoid')) from softmax to sigmoid\n",
        "n_channel_1=32\n",
        "n_channel_2=64\n",
        "n_dense=12\n",
        "n_train_epoch=20 /test_accuracy: 0.3633333444595337\n",
        "\n"
      ],
      "metadata": {
        "id": "ZGYpc9iG7XcV"
      }
    },
    {
      "cell_type": "markdown",
      "source": [
        "## Change Parameters"
      ],
      "metadata": {
        "id": "Kay0a_ovJM_d"
      }
    },
    {
      "cell_type": "markdown",
      "source": [
        "Version 6 - n_channel_1=32 n_channel_2=64 n_dense=24 n_train_epoch=20 /test_accuracy: 0.40666666626930237\n",
        "\n",
        "Version 7 - n_channel_1=32 n_channel_2=64 n_dense=24 n_train_epoch=15 /test_accuracy: 0.49666666984558105\n",
        "\n",
        "Version 8 - n_channel_1=16\n",
        "n_channel_2=16\n",
        "n_dense=12\n",
        "n_train_epoch=15 /test_accuracy: 0.43666623214445233\n",
        "\n",
        "Version 9 - n_channel_1=16\n",
        "n_channel_2=16\n",
        "n_dense=12\n",
        "n_train_epoch=40 /test_accuracy: 0.48444030666433212\n"
      ],
      "metadata": {
        "id": "jjOkv3H-JwwV"
      }
    },
    {
      "cell_type": "markdown",
      "source": [
        "## Increase epoch\n",
        "\n",
        "Version 10 - n_channel_1=16\n",
        "n_channel_2=16\n",
        "n_dense=12\n",
        "n_train_epoch=60 /test_accuracy: 0.5266666412353516\n",
        "\n",
        "Version 11 - n_channel_1=16\n",
        "n_channel_2=16\n",
        "n_dense=12\n",
        "n_train_epoch=80 /test_accuracy: 0.5699999928474426\n",
        "\n",
        "Version 12 - n_channel_1=16\n",
        "n_channel_2=16\n",
        "n_dense=12\n",
        "n_train_epoch=100 /test_accuracy: 0.5666666626930237"
      ],
      "metadata": {
        "id": "P5ysXrVU_zk3"
      }
    },
    {
      "cell_type": "markdown",
      "source": [
        "## Last Modification and Check\n",
        "\n",
        "Version 13 - n_channel_1=16 n_channel_2=16 n_dense=10 n_train_epoch=90 /test_accuracy: 0.6600000262260437\n",
        "\n",
        "Version 14 - n_channel_1=16 n_channel_2=16 n_dense=10 n_train_epoch=90 /test_accuracy: 0.6433333158493042\n",
        "\n",
        "Version 15 - n_channel_1=16 n_channel_2=16 n_dense=10 n_train_epoch=90 /test_accuracy: 0.653333306312561"
      ],
      "metadata": {
        "id": "qtveUcbHCWMR"
      }
    },
    {
      "cell_type": "markdown",
      "source": [],
      "metadata": {
        "id": "6slywsvkEWzp"
      }
    },
    {
      "cell_type": "markdown",
      "source": [
        "# Load Libraries, Train, Test"
      ],
      "metadata": {
        "id": "7lMyAEYnRzfu"
      }
    },
    {
      "cell_type": "code",
      "execution_count": 333,
      "metadata": {
        "id": "zk2G9JJGmtY9",
        "colab": {
          "base_uri": "https://localhost:8080/"
        },
        "outputId": "793036ba-66ed-4bdf-d25d-2316958f5705"
      },
      "outputs": [
        {
          "output_type": "stream",
          "name": "stdout",
          "text": [
            "2.9.2\n",
            "1.21.6\n"
          ]
        }
      ],
      "source": [
        "import tensorflow as tf\n",
        "import numpy as np\n",
        "import matplotlib.pyplot as plt\n",
        "from tensorflow import keras\n",
        "\n",
        "print(tf.__version__)\n",
        "print(np.__version__)\n",
        "\n",
        "from PIL import Image\n",
        "import glob\n",
        "import os"
      ]
    },
    {
      "cell_type": "markdown",
      "source": [
        "# Resize Images"
      ],
      "metadata": {
        "id": "dqRf0HfOR_Bu"
      }
    },
    {
      "cell_type": "code",
      "source": [
        "def resize_images(img_path):\n",
        "\timages=glob.glob(img_path + \"/*.jpg\")  \n",
        "    \n",
        "\tprint(len(images), \" images to be resized.\")\n",
        "\n",
        "\ttarget_size=(28,28)\n",
        "\tfor img in images:\n",
        "\t\told_img=Image.open(img)\n",
        "\t\tnew_img=old_img.resize(target_size,Image.ANTIALIAS)\n",
        "\t\tnew_img.save(img, \"JPEG\")\n",
        "    \n",
        "\tprint(len(images), \" images resized.\")"
      ],
      "metadata": {
        "id": "6qd0AFFgxr8C"
      },
      "execution_count": 334,
      "outputs": []
    },
    {
      "cell_type": "code",
      "source": [
        "image_dir_path = \"/content/drive/MyDrive/Exploration/data/scissor\"\n",
        "resize_images(image_dir_path)"
      ],
      "metadata": {
        "colab": {
          "base_uri": "https://localhost:8080/"
        },
        "id": "stVmerllSS9C",
        "outputId": "c1625872-7664-4274-d076-1786e6ee7b61"
      },
      "execution_count": 335,
      "outputs": [
        {
          "output_type": "stream",
          "name": "stdout",
          "text": [
            "100  images to be resized.\n",
            "100  images resized.\n"
          ]
        }
      ]
    },
    {
      "cell_type": "code",
      "source": [
        "image_dir_path = \"/content/drive/MyDrive/Exploration/data/rock\"\n",
        "resize_images(image_dir_path)"
      ],
      "metadata": {
        "colab": {
          "base_uri": "https://localhost:8080/"
        },
        "id": "ZdFo6fybN-ld",
        "outputId": "3f28c8ea-5c33-40c4-b5e4-28ca495df4ff"
      },
      "execution_count": 336,
      "outputs": [
        {
          "output_type": "stream",
          "name": "stdout",
          "text": [
            "100  images to be resized.\n",
            "100  images resized.\n"
          ]
        }
      ]
    },
    {
      "cell_type": "code",
      "source": [
        "image_dir_path = \"/content/drive/MyDrive/Exploration/data/paper\"\n",
        "resize_images(image_dir_path)"
      ],
      "metadata": {
        "colab": {
          "base_uri": "https://localhost:8080/"
        },
        "id": "kSjiaGv0ODKE",
        "outputId": "1cb6c665-bee8-47ef-c295-45dc19c1033d"
      },
      "execution_count": 337,
      "outputs": [
        {
          "output_type": "stream",
          "name": "stdout",
          "text": [
            "100  images to be resized.\n",
            "100  images resized.\n"
          ]
        }
      ]
    },
    {
      "cell_type": "markdown",
      "source": [
        "# Load data"
      ],
      "metadata": {
        "id": "1RQCD4wzSn5v"
      }
    },
    {
      "cell_type": "code",
      "source": [
        "def load_data(img_path, number_of_data=300):  \n",
        "\n",
        "    img_size=28\n",
        "    color=3\n",
        "\n",
        "    imgs=np.zeros(number_of_data*img_size*img_size*color,dtype=np.int32).reshape(number_of_data,img_size,img_size,color)\n",
        "    labels=np.zeros(number_of_data,dtype=np.int32)\n",
        "\n",
        "    idx=0\n",
        "    for file in glob.iglob(img_path+'/scissor/*.jpg'):\n",
        "        img = np.array(Image.open(file),dtype=np.int32)\n",
        "        imgs[idx,:,:,:]=img    \n",
        "        labels[idx]=0  \n",
        "        idx=idx+1\n",
        "\n",
        "    for file in glob.iglob(img_path+'/rock/*.jpg'):\n",
        "        img = np.array(Image.open(file),dtype=np.int32)\n",
        "        imgs[idx,:,:,:]=img  \n",
        "        labels[idx]=1  \n",
        "        idx=idx+1  \n",
        "    \n",
        "    for file in glob.iglob(img_path+'/paper/*.jpg'):\n",
        "        img = np.array(Image.open(file),dtype=np.int32)\n",
        "        imgs[idx,:,:,:]=img   \n",
        "        labels[idx]=2  \n",
        "        idx=idx+1\n",
        "\n",
        "    return imgs, labels\n",
        "\n",
        "image_dir_path = \"/content/drive/MyDrive/Exploration/data\"\n",
        "(x_train, y_train)=load_data(image_dir_path)\n",
        "x_train_norm = x_train/255.0   \n",
        "\n",
        "print(\"x_train shape: {}\".format(x_train.shape))\n",
        "print(\"y_train shape: {}\".format(y_train.shape))"
      ],
      "metadata": {
        "colab": {
          "base_uri": "https://localhost:8080/"
        },
        "id": "q440caIWO2nX",
        "outputId": "fc438dab-e974-4c85-d45f-75871f5baaea"
      },
      "execution_count": 338,
      "outputs": [
        {
          "output_type": "stream",
          "name": "stdout",
          "text": [
            "x_train shape: (300, 28, 28, 3)\n",
            "y_train shape: (300,)\n"
          ]
        }
      ]
    },
    {
      "cell_type": "markdown",
      "source": [
        "# Check the image"
      ],
      "metadata": {
        "id": "LKk0O6o1Te99"
      }
    },
    {
      "cell_type": "code",
      "source": [
        "plt.imshow(x_train[0])\n",
        "print('라벨: ', y_train[0])"
      ],
      "metadata": {
        "colab": {
          "base_uri": "https://localhost:8080/",
          "height": 282
        },
        "id": "cmc50DlAO8ax",
        "outputId": "91372169-ff4d-471a-dfc7-15a2adcdc808"
      },
      "execution_count": 339,
      "outputs": [
        {
          "output_type": "stream",
          "name": "stdout",
          "text": [
            "라벨:  0\n"
          ]
        },
        {
          "output_type": "display_data",
          "data": {
            "text/plain": [
              "<Figure size 432x288 with 1 Axes>"
            ],
            "image/png": "[encoded data removed]"
          },
          "metadata": {
            "needs_background": "light"
          }
        }
      ]
    },
    {
      "cell_type": "markdown",
      "source": [
        "# Design Model"
      ],
      "metadata": {
        "id": "UTdx_ZkgUh_6"
      }
    },
    {
      "cell_type": "code",
      "source": [
        "n_channel_1=16\n",
        "n_channel_2=16\n",
        "n_dense=10\n",
        "n_train_epoch=90\n",
        "\n",
        "model=keras.models.Sequential()\n",
        "model.add(keras.layers.Conv2D(n_channel_1, (3,3), activation='ReLU', input_shape=(28, 28,3)))\n",
        "model.add(keras.layers.MaxPool2D(2,2))\n",
        "model.add(keras.layers.Conv2D(n_channel_2, (3,3), activation='ReLU'))\n",
        "model.add(keras.layers.MaxPooling2D((2,2)))\n",
        "model.add(keras.layers.Flatten())\n",
        "model.add(keras.layers.Dense(n_dense, activation='ReLU'))\n",
        "model.add(keras.layers.Dense(6, activation='sigmoid'))\n",
        "\n",
        "print('Model에 추가된 Layer 개수: ', len(model.layers))\n",
        "\n",
        "model.summary()"
      ],
      "metadata": {
        "colab": {
          "base_uri": "https://localhost:8080/"
        },
        "id": "KsG9AF6QQbW6",
        "outputId": "46cf5b5f-87cb-46c4-eb5c-12e299b0952b"
      },
      "execution_count": 340,
      "outputs": [
        {
          "output_type": "stream",
          "name": "stdout",
          "text": [
            "Model에 추가된 Layer 개수:  7\n",
            "Model: \"sequential_20\"\n",
            "_________________________________________________________________\n",
            " Layer (type)                Output Shape              Param #   \n",
            "=================================================================\n",
            " conv2d_40 (Conv2D)          (None, 26, 26, 16)        448       \n",
            "                                                                 \n",
            " max_pooling2d_40 (MaxPoolin  (None, 13, 13, 16)       0         \n",
            " g2D)                                                            \n",
            "                                                                 \n",
            " conv2d_41 (Conv2D)          (None, 11, 11, 16)        2320      \n",
            "                                                                 \n",
            " max_pooling2d_41 (MaxPoolin  (None, 5, 5, 16)         0         \n",
            " g2D)                                                            \n",
            "                                                                 \n",
            " flatten_20 (Flatten)        (None, 400)               0         \n",
            "                                                                 \n",
            " dense_40 (Dense)            (None, 10)                4010      \n",
            "                                                                 \n",
            " dense_41 (Dense)            (None, 6)                 66        \n",
            "                                                                 \n",
            "=================================================================\n",
            "Total params: 6,844\n",
            "Trainable params: 6,844\n",
            "Non-trainable params: 0\n",
            "_________________________________________________________________\n"
          ]
        }
      ]
    },
    {
      "cell_type": "markdown",
      "source": [
        "# Train Model"
      ],
      "metadata": {
        "id": "V4oCjl_dA76Q"
      }
    },
    {
      "cell_type": "code",
      "source": [
        "x_train_reshaped=x_train_norm.reshape( -1, 28, 28, 3)\n",
        "\n",
        "model.compile(optimizer='Adam',\n",
        "             loss='sparse_categorical_crossentropy',\n",
        "             metrics=['accuracy'])\n",
        "\n",
        "print(\"x_train_reshaped.shape: {}\".format(x_train_reshaped.shape))\n"
      ],
      "metadata": {
        "colab": {
          "base_uri": "https://localhost:8080/"
        },
        "id": "DFil95cJSrYq",
        "outputId": "59b73fba-3f16-4d47-e9df-e8d411286bca"
      },
      "execution_count": 341,
      "outputs": [
        {
          "output_type": "stream",
          "name": "stdout",
          "text": [
            "x_train_reshaped.shape: (300, 28, 28, 3)\n"
          ]
        }
      ]
    },
    {
      "cell_type": "code",
      "source": [
        "history = model.fit(x_train_reshaped, y_train, validation_split=0.20, epochs=n_train_epoch, verbose=1)"
      ],
      "metadata": {
        "colab": {
          "base_uri": "https://localhost:8080/"
        },
        "id": "8aJcDjaoVDPi",
        "outputId": "06802245-0087-4282-df69-147aee21a027"
      },
      "execution_count": 342,
      "outputs": [
        {
          "output_type": "stream",
          "name": "stdout",
          "text": [
            "Epoch 1/90\n",
            "8/8 [==============================] - 2s 108ms/step - loss: 1.6965 - accuracy: 0.2792 - val_loss: 1.6374 - val_accuracy: 0.0000e+00\n",
            "Epoch 2/90\n",
            "8/8 [==============================] - 0s 52ms/step - loss: 1.2731 - accuracy: 0.4167 - val_loss: 1.7196 - val_accuracy: 0.0000e+00\n",
            "Epoch 3/90\n",
            "8/8 [==============================] - 0s 38ms/step - loss: 1.1089 - accuracy: 0.4167 - val_loss: 1.9731 - val_accuracy: 0.0000e+00\n",
            "Epoch 4/90\n",
            "8/8 [==============================] - 0s 42ms/step - loss: 1.0419 - accuracy: 0.3875 - val_loss: 2.0756 - val_accuracy: 0.0000e+00\n",
            "Epoch 5/90\n",
            "8/8 [==============================] - 0s 43ms/step - loss: 1.0262 - accuracy: 0.4792 - val_loss: 1.9000 - val_accuracy: 0.0000e+00\n",
            "Epoch 6/90\n",
            "8/8 [==============================] - 0s 52ms/step - loss: 1.0091 - accuracy: 0.4667 - val_loss: 1.8499 - val_accuracy: 0.0000e+00\n",
            "Epoch 7/90\n",
            "8/8 [==============================] - 0s 52ms/step - loss: 0.9942 - accuracy: 0.6250 - val_loss: 1.8060 - val_accuracy: 0.0000e+00\n",
            "Epoch 8/90\n",
            "8/8 [==============================] - 0s 41ms/step - loss: 0.9808 - accuracy: 0.6208 - val_loss: 1.7113 - val_accuracy: 0.0000e+00\n",
            "Epoch 9/90\n",
            "8/8 [==============================] - 0s 49ms/step - loss: 0.9643 - accuracy: 0.6417 - val_loss: 1.7677 - val_accuracy: 0.0000e+00\n",
            "Epoch 10/90\n",
            "8/8 [==============================] - 0s 55ms/step - loss: 0.9532 - accuracy: 0.5875 - val_loss: 1.7250 - val_accuracy: 0.0000e+00\n",
            "Epoch 11/90\n",
            "8/8 [==============================] - 0s 49ms/step - loss: 0.9329 - accuracy: 0.5917 - val_loss: 1.7170 - val_accuracy: 0.0000e+00\n",
            "Epoch 12/90\n",
            "8/8 [==============================] - 0s 53ms/step - loss: 0.9073 - accuracy: 0.6583 - val_loss: 1.7731 - val_accuracy: 0.0000e+00\n",
            "Epoch 13/90\n",
            "8/8 [==============================] - 0s 55ms/step - loss: 0.8829 - accuracy: 0.6167 - val_loss: 1.6122 - val_accuracy: 0.0000e+00\n",
            "Epoch 14/90\n",
            "8/8 [==============================] - 0s 54ms/step - loss: 0.8534 - accuracy: 0.6333 - val_loss: 1.5472 - val_accuracy: 0.0000e+00\n",
            "Epoch 15/90\n",
            "8/8 [==============================] - 0s 49ms/step - loss: 0.8335 - accuracy: 0.6500 - val_loss: 1.6253 - val_accuracy: 0.0000e+00\n",
            "Epoch 16/90\n",
            "8/8 [==============================] - 0s 49ms/step - loss: 0.8013 - accuracy: 0.6208 - val_loss: 1.5827 - val_accuracy: 0.0000e+00\n",
            "Epoch 17/90\n",
            "8/8 [==============================] - 1s 73ms/step - loss: 0.7831 - accuracy: 0.6500 - val_loss: 1.5702 - val_accuracy: 0.0000e+00\n",
            "Epoch 18/90\n",
            "8/8 [==============================] - 0s 45ms/step - loss: 0.7513 - accuracy: 0.6625 - val_loss: 1.4785 - val_accuracy: 0.0000e+00\n",
            "Epoch 19/90\n",
            "8/8 [==============================] - 1s 88ms/step - loss: 0.7306 - accuracy: 0.6500 - val_loss: 1.1982 - val_accuracy: 0.0167\n",
            "Epoch 20/90\n",
            "8/8 [==============================] - 1s 84ms/step - loss: 0.7064 - accuracy: 0.6667 - val_loss: 1.3893 - val_accuracy: 0.0000e+00\n",
            "Epoch 21/90\n",
            "8/8 [==============================] - 1s 74ms/step - loss: 0.7126 - accuracy: 0.6417 - val_loss: 1.4111 - val_accuracy: 0.0167\n",
            "Epoch 22/90\n",
            "8/8 [==============================] - 1s 99ms/step - loss: 0.6416 - accuracy: 0.7333 - val_loss: 1.0961 - val_accuracy: 0.2167\n",
            "Epoch 23/90\n",
            "8/8 [==============================] - 0s 52ms/step - loss: 0.6173 - accuracy: 0.7375 - val_loss: 1.2246 - val_accuracy: 0.1833\n",
            "Epoch 24/90\n",
            "8/8 [==============================] - 1s 95ms/step - loss: 0.5958 - accuracy: 0.7542 - val_loss: 1.1096 - val_accuracy: 0.2000\n",
            "Epoch 25/90\n",
            "8/8 [==============================] - 1s 82ms/step - loss: 0.6287 - accuracy: 0.7125 - val_loss: 1.2828 - val_accuracy: 0.1833\n",
            "Epoch 26/90\n",
            "8/8 [==============================] - 0s 48ms/step - loss: 0.5814 - accuracy: 0.7667 - val_loss: 1.0877 - val_accuracy: 0.3000\n",
            "Epoch 27/90\n",
            "8/8 [==============================] - 0s 52ms/step - loss: 0.5954 - accuracy: 0.7375 - val_loss: 0.9152 - val_accuracy: 0.4167\n",
            "Epoch 28/90\n",
            "8/8 [==============================] - 1s 69ms/step - loss: 0.5453 - accuracy: 0.8000 - val_loss: 1.1964 - val_accuracy: 0.2333\n",
            "Epoch 29/90\n",
            "8/8 [==============================] - 0s 44ms/step - loss: 0.5199 - accuracy: 0.7750 - val_loss: 0.9303 - val_accuracy: 0.4667\n",
            "Epoch 30/90\n",
            "8/8 [==============================] - 0s 55ms/step - loss: 0.4856 - accuracy: 0.8292 - val_loss: 0.7554 - val_accuracy: 0.7000\n",
            "Epoch 31/90\n",
            "8/8 [==============================] - 0s 38ms/step - loss: 0.4612 - accuracy: 0.8292 - val_loss: 1.1766 - val_accuracy: 0.3333\n",
            "Epoch 32/90\n",
            "8/8 [==============================] - 0s 40ms/step - loss: 0.4530 - accuracy: 0.8292 - val_loss: 0.7291 - val_accuracy: 0.6500\n",
            "Epoch 33/90\n",
            "8/8 [==============================] - 0s 47ms/step - loss: 0.4578 - accuracy: 0.8000 - val_loss: 0.7303 - val_accuracy: 0.6333\n",
            "Epoch 34/90\n",
            "8/8 [==============================] - 0s 37ms/step - loss: 0.4213 - accuracy: 0.8458 - val_loss: 0.7490 - val_accuracy: 0.6333\n",
            "Epoch 35/90\n",
            "8/8 [==============================] - 0s 55ms/step - loss: 0.4068 - accuracy: 0.8542 - val_loss: 0.8534 - val_accuracy: 0.5667\n",
            "Epoch 36/90\n",
            "8/8 [==============================] - 0s 53ms/step - loss: 0.3919 - accuracy: 0.8625 - val_loss: 0.8658 - val_accuracy: 0.6000\n",
            "Epoch 37/90\n",
            "8/8 [==============================] - 0s 43ms/step - loss: 0.4000 - accuracy: 0.8500 - val_loss: 0.9339 - val_accuracy: 0.5167\n",
            "Epoch 38/90\n",
            "8/8 [==============================] - 0s 48ms/step - loss: 0.3775 - accuracy: 0.8625 - val_loss: 0.6051 - val_accuracy: 0.8000\n",
            "Epoch 39/90\n",
            "8/8 [==============================] - 0s 49ms/step - loss: 0.3755 - accuracy: 0.8708 - val_loss: 1.1245 - val_accuracy: 0.4000\n",
            "Epoch 40/90\n",
            "8/8 [==============================] - 0s 47ms/step - loss: 0.3970 - accuracy: 0.8583 - val_loss: 0.6141 - val_accuracy: 0.7833\n",
            "Epoch 41/90\n",
            "8/8 [==============================] - 0s 46ms/step - loss: 0.3495 - accuracy: 0.8917 - val_loss: 0.6643 - val_accuracy: 0.7167\n",
            "Epoch 42/90\n",
            "8/8 [==============================] - 0s 56ms/step - loss: 0.3322 - accuracy: 0.8958 - val_loss: 0.5716 - val_accuracy: 0.7833\n",
            "Epoch 43/90\n",
            "8/8 [==============================] - 0s 48ms/step - loss: 0.3205 - accuracy: 0.8917 - val_loss: 0.5916 - val_accuracy: 0.7833\n",
            "Epoch 44/90\n",
            "8/8 [==============================] - 0s 27ms/step - loss: 0.3106 - accuracy: 0.8958 - val_loss: 0.6223 - val_accuracy: 0.7833\n",
            "Epoch 45/90\n",
            "8/8 [==============================] - 0s 26ms/step - loss: 0.3319 - accuracy: 0.8833 - val_loss: 0.5996 - val_accuracy: 0.7667\n",
            "Epoch 46/90\n",
            "8/8 [==============================] - 0s 24ms/step - loss: 0.3075 - accuracy: 0.9083 - val_loss: 0.6319 - val_accuracy: 0.7500\n",
            "Epoch 47/90\n",
            "8/8 [==============================] - 0s 25ms/step - loss: 0.3142 - accuracy: 0.8875 - val_loss: 0.7119 - val_accuracy: 0.6833\n",
            "Epoch 48/90\n",
            "8/8 [==============================] - 0s 30ms/step - loss: 0.2755 - accuracy: 0.9333 - val_loss: 0.4823 - val_accuracy: 0.8333\n",
            "Epoch 49/90\n",
            "8/8 [==============================] - 0s 26ms/step - loss: 0.2782 - accuracy: 0.9375 - val_loss: 0.7323 - val_accuracy: 0.6333\n",
            "Epoch 50/90\n",
            "8/8 [==============================] - 0s 25ms/step - loss: 0.2682 - accuracy: 0.9042 - val_loss: 0.4282 - val_accuracy: 0.8667\n",
            "Epoch 51/90\n",
            "8/8 [==============================] - 0s 28ms/step - loss: 0.2651 - accuracy: 0.9250 - val_loss: 0.7774 - val_accuracy: 0.6167\n",
            "Epoch 52/90\n",
            "8/8 [==============================] - 0s 26ms/step - loss: 0.2658 - accuracy: 0.9042 - val_loss: 0.3725 - val_accuracy: 0.9167\n",
            "Epoch 53/90\n",
            "8/8 [==============================] - 0s 26ms/step - loss: 0.2531 - accuracy: 0.9167 - val_loss: 0.6318 - val_accuracy: 0.7667\n",
            "Epoch 54/90\n",
            "8/8 [==============================] - 0s 26ms/step - loss: 0.2466 - accuracy: 0.9375 - val_loss: 0.3562 - val_accuracy: 0.9167\n",
            "Epoch 55/90\n",
            "8/8 [==============================] - 0s 27ms/step - loss: 0.2318 - accuracy: 0.9208 - val_loss: 0.7623 - val_accuracy: 0.6167\n",
            "Epoch 56/90\n",
            "8/8 [==============================] - 0s 26ms/step - loss: 0.2405 - accuracy: 0.9417 - val_loss: 0.4314 - val_accuracy: 0.9000\n",
            "Epoch 57/90\n",
            "8/8 [==============================] - 0s 27ms/step - loss: 0.2327 - accuracy: 0.9500 - val_loss: 0.8847 - val_accuracy: 0.6167\n",
            "Epoch 58/90\n",
            "8/8 [==============================] - 0s 25ms/step - loss: 0.2452 - accuracy: 0.9292 - val_loss: 0.4630 - val_accuracy: 0.8667\n",
            "Epoch 59/90\n",
            "8/8 [==============================] - 0s 27ms/step - loss: 0.2123 - accuracy: 0.9458 - val_loss: 0.4701 - val_accuracy: 0.8500\n",
            "Epoch 60/90\n",
            "8/8 [==============================] - 0s 25ms/step - loss: 0.2186 - accuracy: 0.9292 - val_loss: 0.4638 - val_accuracy: 0.8500\n",
            "Epoch 61/90\n",
            "8/8 [==============================] - 0s 27ms/step - loss: 0.2331 - accuracy: 0.9292 - val_loss: 0.2309 - val_accuracy: 0.9500\n",
            "Epoch 62/90\n",
            "8/8 [==============================] - 0s 27ms/step - loss: 0.2480 - accuracy: 0.9125 - val_loss: 0.6102 - val_accuracy: 0.8000\n",
            "Epoch 63/90\n",
            "8/8 [==============================] - 0s 26ms/step - loss: 0.2557 - accuracy: 0.9292 - val_loss: 0.4572 - val_accuracy: 0.8833\n",
            "Epoch 64/90\n",
            "8/8 [==============================] - 0s 25ms/step - loss: 0.1958 - accuracy: 0.9667 - val_loss: 0.6434 - val_accuracy: 0.7667\n",
            "Epoch 65/90\n",
            "8/8 [==============================] - 0s 28ms/step - loss: 0.1994 - accuracy: 0.9458 - val_loss: 0.4172 - val_accuracy: 0.9000\n",
            "Epoch 66/90\n",
            "8/8 [==============================] - 0s 26ms/step - loss: 0.1970 - accuracy: 0.9542 - val_loss: 0.3498 - val_accuracy: 0.9000\n",
            "Epoch 67/90\n",
            "8/8 [==============================] - 0s 28ms/step - loss: 0.1946 - accuracy: 0.9458 - val_loss: 0.5491 - val_accuracy: 0.8167\n",
            "Epoch 68/90\n",
            "8/8 [==============================] - 0s 27ms/step - loss: 0.2030 - accuracy: 0.9542 - val_loss: 0.3994 - val_accuracy: 0.9000\n",
            "Epoch 69/90\n",
            "8/8 [==============================] - 0s 28ms/step - loss: 0.1879 - accuracy: 0.9417 - val_loss: 0.5655 - val_accuracy: 0.8167\n",
            "Epoch 70/90\n",
            "8/8 [==============================] - 0s 28ms/step - loss: 0.1959 - accuracy: 0.9458 - val_loss: 0.3658 - val_accuracy: 0.9000\n",
            "Epoch 71/90\n",
            "8/8 [==============================] - 0s 27ms/step - loss: 0.1983 - accuracy: 0.9458 - val_loss: 0.5515 - val_accuracy: 0.8333\n",
            "Epoch 72/90\n",
            "8/8 [==============================] - 0s 27ms/step - loss: 0.1946 - accuracy: 0.9500 - val_loss: 0.3569 - val_accuracy: 0.9000\n",
            "Epoch 73/90\n",
            "8/8 [==============================] - 0s 24ms/step - loss: 0.1725 - accuracy: 0.9458 - val_loss: 0.3026 - val_accuracy: 0.9167\n",
            "Epoch 74/90\n",
            "8/8 [==============================] - 0s 27ms/step - loss: 0.1895 - accuracy: 0.9417 - val_loss: 0.3327 - val_accuracy: 0.9000\n",
            "Epoch 75/90\n",
            "8/8 [==============================] - 0s 26ms/step - loss: 0.1849 - accuracy: 0.9458 - val_loss: 0.4432 - val_accuracy: 0.8833\n",
            "Epoch 76/90\n",
            "8/8 [==============================] - 0s 30ms/step - loss: 0.1485 - accuracy: 0.9708 - val_loss: 0.4638 - val_accuracy: 0.8667\n",
            "Epoch 77/90\n",
            "8/8 [==============================] - 0s 26ms/step - loss: 0.1510 - accuracy: 0.9708 - val_loss: 0.3095 - val_accuracy: 0.9167\n",
            "Epoch 78/90\n",
            "8/8 [==============================] - 0s 25ms/step - loss: 0.1520 - accuracy: 0.9667 - val_loss: 0.3830 - val_accuracy: 0.9000\n",
            "Epoch 79/90\n",
            "8/8 [==============================] - 0s 28ms/step - loss: 0.1417 - accuracy: 0.9667 - val_loss: 0.3913 - val_accuracy: 0.9000\n",
            "Epoch 80/90\n",
            "8/8 [==============================] - 0s 25ms/step - loss: 0.1321 - accuracy: 0.9750 - val_loss: 0.3691 - val_accuracy: 0.9000\n",
            "Epoch 81/90\n",
            "8/8 [==============================] - 0s 27ms/step - loss: 0.1401 - accuracy: 0.9667 - val_loss: 0.4454 - val_accuracy: 0.8667\n",
            "Epoch 82/90\n",
            "8/8 [==============================] - 0s 30ms/step - loss: 0.1486 - accuracy: 0.9667 - val_loss: 0.3070 - val_accuracy: 0.9167\n",
            "Epoch 83/90\n",
            "8/8 [==============================] - 0s 26ms/step - loss: 0.1379 - accuracy: 0.9708 - val_loss: 0.3586 - val_accuracy: 0.9000\n",
            "Epoch 84/90\n",
            "8/8 [==============================] - 0s 26ms/step - loss: 0.1267 - accuracy: 0.9792 - val_loss: 0.4201 - val_accuracy: 0.9000\n",
            "Epoch 85/90\n",
            "8/8 [==============================] - 0s 27ms/step - loss: 0.1379 - accuracy: 0.9583 - val_loss: 0.4354 - val_accuracy: 0.8833\n",
            "Epoch 86/90\n",
            "8/8 [==============================] - 0s 27ms/step - loss: 0.1294 - accuracy: 0.9583 - val_loss: 0.2704 - val_accuracy: 0.9500\n",
            "Epoch 87/90\n",
            "8/8 [==============================] - 0s 27ms/step - loss: 0.1405 - accuracy: 0.9625 - val_loss: 0.2859 - val_accuracy: 0.9333\n",
            "Epoch 88/90\n",
            "8/8 [==============================] - 0s 28ms/step - loss: 0.1154 - accuracy: 0.9750 - val_loss: 0.3075 - val_accuracy: 0.9167\n",
            "Epoch 89/90\n",
            "8/8 [==============================] - 0s 25ms/step - loss: 0.1157 - accuracy: 0.9833 - val_loss: 0.4346 - val_accuracy: 0.8667\n",
            "Epoch 90/90\n",
            "8/8 [==============================] - 0s 29ms/step - loss: 0.1100 - accuracy: 0.9792 - val_loss: 0.2721 - val_accuracy: 0.9500\n"
          ]
        }
      ]
    },
    {
      "cell_type": "code",
      "source": [
        "plt.plot(history.history['accuracy'])\n",
        "plt.plot(history.history['val_accuracy'])\n",
        "plt.title('Model accuracy')\n",
        "plt.xlabel('Epoch')\n",
        "plt.ylabel('Accuracy')\n",
        "plt.legend(['Train', 'Test'], loc='upper left')\n",
        "plt.show()"
      ],
      "metadata": {
        "colab": {
          "base_uri": "https://localhost:8080/",
          "height": 295
        },
        "id": "cidV-LSGF5zX",
        "outputId": "94579511-dc84-40c9-eaa2-9753c3db8775"
      },
      "execution_count": 343,
      "outputs": [
        {
          "output_type": "display_data",
          "data": {
            "text/plain": [
              "<Figure size 432x288 with 1 Axes>"
            ],
            "image/png": "[encoded data removed]"
          },
          "metadata": {
            "needs_background": "light"
          }
        }
      ]
    },
    {
      "cell_type": "code",
      "source": [
        "plt.plot(history.history['loss'])\n",
        "plt.plot(history.history['val_loss'])\n",
        "plt.title('Model loss')\n",
        "plt.xlabel('Epoch')\n",
        "plt.ylabel('Loss')\n",
        "plt.legend(['Train', 'Test'], loc='upper left')\n",
        "plt.show()"
      ],
      "metadata": {
        "colab": {
          "base_uri": "https://localhost:8080/",
          "height": 295
        },
        "id": "00tGeVYqG80Q",
        "outputId": "84cacdca-f265-4506-963d-90b217a2b643"
      },
      "execution_count": 344,
      "outputs": [
        {
          "output_type": "display_data",
          "data": {
            "text/plain": [
              "<Figure size 432x288 with 1 Axes>"
            ],
            "image/png": "[encoded data removed]"
          },
          "metadata": {
            "needs_background": "light"
          }
        }
      ]
    },
    {
      "cell_type": "markdown",
      "source": [
        "# Resize Test Images"
      ],
      "metadata": {
        "id": "3y878lXXBBBj"
      }
    },
    {
      "cell_type": "code",
      "source": [
        "\n",
        "image_dir_path = \"/content/drive/MyDrive/Colab Notebooks/data/rps/paper\"\n",
        "resize_images(image_dir_path)\n",
        "\n",
        "image_dir_path = \"/content/drive/MyDrive/Colab Notebooks/data/rps/rock\"\n",
        "resize_images(image_dir_path)\n",
        "\n",
        "image_dir_path = \"/content/drive/MyDrive/Colab Notebooks/data/rps/scissor\"\n",
        "resize_images(image_dir_path)"
      ],
      "metadata": {
        "colab": {
          "base_uri": "https://localhost:8080/"
        },
        "id": "m-6hWplYcOKZ",
        "outputId": "ba60459e-5f14-421f-edd0-1f30bd83bbbb"
      },
      "execution_count": 345,
      "outputs": [
        {
          "output_type": "stream",
          "name": "stdout",
          "text": [
            "100  images to be resized.\n",
            "100  images resized.\n",
            "100  images to be resized.\n",
            "100  images resized.\n",
            "100  images to be resized.\n",
            "100  images resized.\n"
          ]
        }
      ]
    },
    {
      "cell_type": "code",
      "source": [
        "image_dir_path = \"/content/drive/MyDrive/Colab Notebooks/data/rps\"\n",
        "(x_test, y_test)=load_data(image_dir_path)\n",
        "x_test_norm = x_test/255.0   # 입력은 0~1 사이의 값으로 정규화\n",
        "\n",
        "print(\"x_test shape: {}\".format(x_test.shape))\n",
        "print(\"y_test shape: {}\".format(y_test.shape))"
      ],
      "metadata": {
        "colab": {
          "base_uri": "https://localhost:8080/"
        },
        "id": "bhKXN6Uvajs3",
        "outputId": "d18b314a-84c5-4dd0-ef81-1ae8f5f4b1d2"
      },
      "execution_count": 346,
      "outputs": [
        {
          "output_type": "stream",
          "name": "stdout",
          "text": [
            "x_test shape: (300, 28, 28, 3)\n",
            "y_test shape: (300,)\n"
          ]
        }
      ]
    },
    {
      "cell_type": "code",
      "source": [
        "plt.imshow(x_test[0])\n",
        "print('라벨: ', y_test[0])"
      ],
      "metadata": {
        "colab": {
          "base_uri": "https://localhost:8080/",
          "height": 282
        },
        "id": "I0WB5-pugZj0",
        "outputId": "1375a31c-8224-45f9-ed5d-46587a7c126e"
      },
      "execution_count": 347,
      "outputs": [
        {
          "output_type": "stream",
          "name": "stdout",
          "text": [
            "라벨:  0\n"
          ]
        },
        {
          "output_type": "display_data",
          "data": {
            "text/plain": [
              "<Figure size 432x288 with 1 Axes>"
            ],
            "image/png": "[encoded data removed]"
          },
          "metadata": {
            "needs_background": "light"
          }
        }
      ]
    },
    {
      "cell_type": "code",
      "source": [
        "x_test_reshaped=x_test_norm.reshape( -1, 28, 28, 3)"
      ],
      "metadata": {
        "id": "issq4JfkfwK7"
      },
      "execution_count": 348,
      "outputs": []
    },
    {
      "cell_type": "markdown",
      "source": [
        "# Result"
      ],
      "metadata": {
        "id": "QZft25RvBX9G"
      }
    },
    {
      "cell_type": "code",
      "source": [
        "test_loss, test_accuracy = model.evaluate(x_test_reshaped,y_test, verbose=2)\n",
        "print(f\"test_loss: {test_loss}\")\n",
        "print(f\"test_accuracy: {test_accuracy}\")"
      ],
      "metadata": {
        "colab": {
          "base_uri": "https://localhost:8080/"
        },
        "id": "ZtYzhISqfrty",
        "outputId": "1bd27d3f-7576-43dc-ecb2-ecd740e00876"
      },
      "execution_count": 349,
      "outputs": [
        {
          "output_type": "stream",
          "name": "stdout",
          "text": [
            "10/10 - 0s - loss: 1.7365 - accuracy: 0.6533 - 92ms/epoch - 9ms/step\n",
            "test_loss: 1.736539363861084\n",
            "test_accuracy: 0.653333306312561\n"
          ]
        }
      ]
    }
  ]
}