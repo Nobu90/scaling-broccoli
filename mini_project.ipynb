{
  "nbformat": 4,
  "nbformat_minor": 0,
  "metadata": {
    "colab": {
      "provenance": [],
      "mount_file_id": "14BkW9u0sJ7vy06PA06bCYrN4ZO5m6iSo",
      "authorship_tag": "ABX9TyMp4onw8zVKokCqcKo1NbrK",
      "include_colab_link": true
    },
    "kernelspec": {
      "name": "python3",
      "display_name": "Python 3"
    },
    "language_info": {
      "name": "python"
    },
    "gpuClass": "premium"
  },
  "cells": [
    {
      "cell_type": "markdown",
      "metadata": {
        "id": "view-in-github",
        "colab_type": "text"
      },
      "source": [
        "<a href=\"https://colab.research.google.com/github/Nobu90/scaling-broccoli/blob/main/mini_project.ipynb\" target=\"_parent\"><img src=\"https://colab.research.google.com/assets/colab-badge.svg\" alt=\"Open In Colab\"/></a>"
      ]
    },
    {
      "cell_type": "markdown",
      "source": [
        "## Change Parameters\n",
        "\n",
        "\n",
        "Version 1 - n_channel_1=32\n",
        "n_channel_2=64\n",
        "n_dense=32\n",
        "n_train_epoch=12 /test_accuracy: 0.38999998569488525\n",
        "\n",
        "Version 2 - n_channel_1=32\n",
        "n_channel_2=64\n",
        "n_dense=16\n",
        "n_train_epoch=12 /test_accuracy: 0.5733333230018616\n",
        "\n",
        "Version 3 - n_channel_1=32 n_channel_2=64 n_dense=12 n_train_epoch=12 /test_accuracy: 0.5533333420753479\n",
        "\n",
        "Version 4 - n_channel_1=32 n_channel_2=64 n_dense=12 n_train_epoch=14 /test_accuracy: 0.3333333333333333"
      ],
      "metadata": {
        "id": "LzHD1Wbri7oE"
      }
    },
    {
      "cell_type": "markdown",
      "source": [
        "## Change funciton and epoch\n",
        "\n",
        "Version 5 - model.add(keras.layers.Dense(10, activation='sigmoid')) from softmax to sigmoid\n",
        "n_channel_1=32\n",
        "n_channel_2=64\n",
        "n_dense=12\n",
        "n_train_epoch=20 /test_accuracy: 0.3633333444595337\n",
        "\n"
      ],
      "metadata": {
        "id": "ZGYpc9iG7XcV"
      }
    },
    {
      "cell_type": "markdown",
      "source": [
        "## Change Parameters"
      ],
      "metadata": {
        "id": "Kay0a_ovJM_d"
      }
    },
    {
      "cell_type": "markdown",
      "source": [
        "Version 6 - n_channel_1=32 n_channel_2=64 n_dense=24 n_train_epoch=20 /test_accuracy: 0.40666666626930237\n",
        "\n",
        "Version 7 - n_channel_1=32 n_channel_2=64 n_dense=24 n_train_epoch=15 /test_accuracy: 0.49666666984558105\n",
        "\n",
        "Version 8 - n_channel_1=16\n",
        "n_channel_2=16\n",
        "n_dense=12\n",
        "n_train_epoch=15 /test_accuracy: 0.43666623214445233\n",
        "\n",
        "Version 9 - n_channel_1=16\n",
        "n_channel_2=16\n",
        "n_dense=12\n",
        "n_train_epoch=40 /test_accuracy: 0.48444030666433212\n"
      ],
      "metadata": {
        "id": "jjOkv3H-JwwV"
      }
    },
    {
      "cell_type": "markdown",
      "source": [
        "## Increase epoch\n",
        "\n",
        "Version 10 - n_channel_1=16\n",
        "n_channel_2=16\n",
        "n_dense=12\n",
        "n_train_epoch=60 /test_accuracy: 0.5266666412353516\n",
        "\n",
        "Version 11 - n_channel_1=16\n",
        "n_channel_2=16\n",
        "n_dense=12\n",
        "n_train_epoch=80 /test_accuracy: 0.5699999928474426\n",
        "\n",
        "Version 12 - n_channel_1=16\n",
        "n_channel_2=16\n",
        "n_dense=12\n",
        "n_train_epoch=100 /test_accuracy: 0.5666666626930237\n",
        "\n",
        "Version 13 - n_channel_1=16 n_channel_2=16 n_dense=10 n_train_epoch=90 /test_accuracy: 0.6600000262260437"
      ],
      "metadata": {
        "id": "P5ysXrVU_zk3"
      }
    },
    {
      "cell_type": "markdown",
      "source": [
        "# Load Libraries, Train, Test"
      ],
      "metadata": {
        "id": "7lMyAEYnRzfu"
      }
    },
    {
      "cell_type": "code",
      "execution_count": 205,
      "metadata": {
        "id": "zk2G9JJGmtY9",
        "colab": {
          "base_uri": "https://localhost:8080/"
        },
        "outputId": "97d4c21c-e994-45a4-f65d-f119c8dee519"
      },
      "outputs": [
        {
          "output_type": "stream",
          "name": "stdout",
          "text": [
            "2.9.2\n",
            "1.21.6\n"
          ]
        }
      ],
      "source": [
        "import tensorflow as tf\n",
        "import numpy as np\n",
        "import matplotlib.pyplot as plt\n",
        "from tensorflow import keras\n",
        "\n",
        "print(tf.__version__)\n",
        "print(np.__version__)\n",
        "\n",
        "from PIL import Image\n",
        "import glob\n",
        "import os"
      ]
    },
    {
      "cell_type": "markdown",
      "source": [
        "# Resize Images"
      ],
      "metadata": {
        "id": "dqRf0HfOR_Bu"
      }
    },
    {
      "cell_type": "code",
      "source": [
        "def resize_images(img_path):\n",
        "\timages=glob.glob(img_path + \"/*.jpg\")  \n",
        "    \n",
        "\tprint(len(images), \" images to be resized.\")\n",
        "\n",
        "\ttarget_size=(28,28)\n",
        "\tfor img in images:\n",
        "\t\told_img=Image.open(img)\n",
        "\t\tnew_img=old_img.resize(target_size,Image.ANTIALIAS)\n",
        "\t\tnew_img.save(img, \"JPEG\")\n",
        "    \n",
        "\tprint(len(images), \" images resized.\")"
      ],
      "metadata": {
        "id": "6qd0AFFgxr8C"
      },
      "execution_count": 206,
      "outputs": []
    },
    {
      "cell_type": "code",
      "source": [
        "image_dir_path = \"/content/drive/MyDrive/Exploration/data/scissor\"\n",
        "resize_images(image_dir_path)"
      ],
      "metadata": {
        "colab": {
          "base_uri": "https://localhost:8080/"
        },
        "id": "stVmerllSS9C",
        "outputId": "014dcf63-a113-4665-ad19-26facb0486b9"
      },
      "execution_count": 207,
      "outputs": [
        {
          "output_type": "stream",
          "name": "stdout",
          "text": [
            "100  images to be resized.\n",
            "100  images resized.\n"
          ]
        }
      ]
    },
    {
      "cell_type": "code",
      "source": [
        "image_dir_path = \"/content/drive/MyDrive/Exploration/data/rock\"\n",
        "resize_images(image_dir_path)"
      ],
      "metadata": {
        "colab": {
          "base_uri": "https://localhost:8080/"
        },
        "id": "ZdFo6fybN-ld",
        "outputId": "99e428ca-973e-4fe6-e541-8a29d3a068f3"
      },
      "execution_count": 208,
      "outputs": [
        {
          "output_type": "stream",
          "name": "stdout",
          "text": [
            "100  images to be resized.\n",
            "100  images resized.\n"
          ]
        }
      ]
    },
    {
      "cell_type": "code",
      "source": [
        "image_dir_path = \"/content/drive/MyDrive/Exploration/data/paper\"\n",
        "resize_images(image_dir_path)"
      ],
      "metadata": {
        "colab": {
          "base_uri": "https://localhost:8080/"
        },
        "id": "kSjiaGv0ODKE",
        "outputId": "a5099e02-895d-4f67-c373-ad50ebbfeb8d"
      },
      "execution_count": 209,
      "outputs": [
        {
          "output_type": "stream",
          "name": "stdout",
          "text": [
            "100  images to be resized.\n",
            "100  images resized.\n"
          ]
        }
      ]
    },
    {
      "cell_type": "markdown",
      "source": [
        "# Load data"
      ],
      "metadata": {
        "id": "1RQCD4wzSn5v"
      }
    },
    {
      "cell_type": "code",
      "source": [
        "def load_data(img_path, number_of_data=300):  \n",
        "\n",
        "    img_size=28\n",
        "    color=3\n",
        "\n",
        "    imgs=np.zeros(number_of_data*img_size*img_size*color,dtype=np.int32).reshape(number_of_data,img_size,img_size,color)\n",
        "    labels=np.zeros(number_of_data,dtype=np.int32)\n",
        "\n",
        "    idx=0\n",
        "    for file in glob.iglob(img_path+'/scissor/*.jpg'):\n",
        "        img = np.array(Image.open(file),dtype=np.int32)\n",
        "        imgs[idx,:,:,:]=img    \n",
        "        labels[idx]=0  \n",
        "        idx=idx+1\n",
        "\n",
        "    for file in glob.iglob(img_path+'/rock/*.jpg'):\n",
        "        img = np.array(Image.open(file),dtype=np.int32)\n",
        "        imgs[idx,:,:,:]=img  \n",
        "        labels[idx]=1  \n",
        "        idx=idx+1  \n",
        "    \n",
        "    for file in glob.iglob(img_path+'/paper/*.jpg'):\n",
        "        img = np.array(Image.open(file),dtype=np.int32)\n",
        "        imgs[idx,:,:,:]=img   \n",
        "        labels[idx]=2  \n",
        "        idx=idx+1\n",
        "\n",
        "    return imgs, labels\n",
        "\n",
        "image_dir_path = \"/content/drive/MyDrive/Exploration/data\"\n",
        "(x_train, y_train)=load_data(image_dir_path)\n",
        "x_train_norm = x_train/255.0   \n",
        "\n",
        "print(\"x_train shape: {}\".format(x_train.shape))\n",
        "print(\"y_train shape: {}\".format(y_train.shape))"
      ],
      "metadata": {
        "colab": {
          "base_uri": "https://localhost:8080/"
        },
        "id": "q440caIWO2nX",
        "outputId": "c6da8972-f8ec-4b0d-cff4-25a6a7949015"
      },
      "execution_count": 210,
      "outputs": [
        {
          "output_type": "stream",
          "name": "stdout",
          "text": [
            "x_train shape: (300, 28, 28, 3)\n",
            "y_train shape: (300,)\n"
          ]
        }
      ]
    },
    {
      "cell_type": "markdown",
      "source": [
        "# Check the image"
      ],
      "metadata": {
        "id": "LKk0O6o1Te99"
      }
    },
    {
      "cell_type": "code",
      "source": [
        "plt.imshow(x_train[0])\n",
        "print('라벨: ', y_train[0])"
      ],
      "metadata": {
        "colab": {
          "base_uri": "https://localhost:8080/",
          "height": 282
        },
        "id": "cmc50DlAO8ax",
        "outputId": "65c12e75-8a78-4e50-c860-026106b1f474"
      },
      "execution_count": 211,
      "outputs": [
        {
          "output_type": "stream",
          "name": "stdout",
          "text": [
            "라벨:  0\n"
          ]
        },
        {
          "output_type": "display_data",
          "data": {
            "text/plain": [
              "<Figure size 432x288 with 1 Axes>"
            ],
            "image/png": "[encoded data removed]"
          },
          "metadata": {
            "needs_background": "light"
          }
        }
      ]
    },
    {
      "cell_type": "markdown",
      "source": [
        "# Design Model"
      ],
      "metadata": {
        "id": "UTdx_ZkgUh_6"
      }
    },
    {
      "cell_type": "code",
      "source": [
        "n_channel_1=16\n",
        "n_channel_2=16\n",
        "n_dense=10\n",
        "n_train_epoch=90\n",
        "\n",
        "model=keras.models.Sequential()\n",
        "model.add(keras.layers.Conv2D(n_channel_1, (3,3), activation='ReLU', input_shape=(28, 28,3)))\n",
        "model.add(keras.layers.MaxPool2D(2,2))\n",
        "model.add(keras.layers.Conv2D(n_channel_2, (3,3), activation='ReLU'))\n",
        "model.add(keras.layers.MaxPooling2D((2,2)))\n",
        "model.add(keras.layers.Flatten())\n",
        "model.add(keras.layers.Dense(n_dense, activation='ReLU'))\n",
        "model.add(keras.layers.Dense(6, activation='sigmoid'))\n",
        "\n",
        "print('Model에 추가된 Layer 개수: ', len(model.layers))\n",
        "\n",
        "model.summary()"
      ],
      "metadata": {
        "colab": {
          "base_uri": "https://localhost:8080/"
        },
        "id": "KsG9AF6QQbW6",
        "outputId": "eab1a550-a2e5-4763-a98a-405be9fbe760"
      },
      "execution_count": 212,
      "outputs": [
        {
          "output_type": "stream",
          "name": "stdout",
          "text": [
            "Model에 추가된 Layer 개수:  7\n",
            "Model: \"sequential_12\"\n",
            "_________________________________________________________________\n",
            " Layer (type)                Output Shape              Param #   \n",
            "=================================================================\n",
            " conv2d_24 (Conv2D)          (None, 26, 26, 16)        448       \n",
            "                                                                 \n",
            " max_pooling2d_24 (MaxPoolin  (None, 13, 13, 16)       0         \n",
            " g2D)                                                            \n",
            "                                                                 \n",
            " conv2d_25 (Conv2D)          (None, 11, 11, 16)        2320      \n",
            "                                                                 \n",
            " max_pooling2d_25 (MaxPoolin  (None, 5, 5, 16)         0         \n",
            " g2D)                                                            \n",
            "                                                                 \n",
            " flatten_12 (Flatten)        (None, 400)               0         \n",
            "                                                                 \n",
            " dense_24 (Dense)            (None, 10)                4010      \n",
            "                                                                 \n",
            " dense_25 (Dense)            (None, 6)                 66        \n",
            "                                                                 \n",
            "=================================================================\n",
            "Total params: 6,844\n",
            "Trainable params: 6,844\n",
            "Non-trainable params: 0\n",
            "_________________________________________________________________\n"
          ]
        }
      ]
    },
    {
      "cell_type": "markdown",
      "source": [
        "# Train Model"
      ],
      "metadata": {
        "id": "V4oCjl_dA76Q"
      }
    },
    {
      "cell_type": "code",
      "source": [
        "x_train_reshaped=x_train_norm.reshape( -1, 28, 28, 3)\n",
        "\n",
        "model.compile(optimizer='Adam',\n",
        "             loss='sparse_categorical_crossentropy',\n",
        "             metrics=['accuracy'])\n",
        "\n",
        "print(\"x_train_reshaped.shape: {}\".format(x_train_reshaped.shape))\n"
      ],
      "metadata": {
        "colab": {
          "base_uri": "https://localhost:8080/"
        },
        "id": "DFil95cJSrYq",
        "outputId": "040c46af-23d1-4b5b-ee0e-f481d6f2b0ba"
      },
      "execution_count": 213,
      "outputs": [
        {
          "output_type": "stream",
          "name": "stdout",
          "text": [
            "x_train_reshaped.shape: (300, 28, 28, 3)\n"
          ]
        }
      ]
    },
    {
      "cell_type": "code",
      "source": [
        "history = model.fit(x_train_reshaped, y_train, validation_split=0.20, epochs=n_train_epoch, verbose=1)"
      ],
      "metadata": {
        "colab": {
          "base_uri": "https://localhost:8080/"
        },
        "id": "8aJcDjaoVDPi",
        "outputId": "1f0df82c-d320-45e9-fbb0-ffe52b29b696"
      },
      "execution_count": 214,
      "outputs": [
        {
          "output_type": "stream",
          "name": "stdout",
          "text": [
            "Epoch 1/90\n",
            "8/8 [==============================] - 1s 53ms/step - loss: 1.6777 - accuracy: 0.4000 - val_loss: 2.2150 - val_accuracy: 0.0000e+00\n",
            "Epoch 2/90\n",
            "8/8 [==============================] - 0s 31ms/step - loss: 1.4139 - accuracy: 0.4167 - val_loss: 2.4261 - val_accuracy: 0.0000e+00\n",
            "Epoch 3/90\n",
            "8/8 [==============================] - 0s 24ms/step - loss: 1.1693 - accuracy: 0.3875 - val_loss: 2.1020 - val_accuracy: 0.0000e+00\n",
            "Epoch 4/90\n",
            "8/8 [==============================] - 0s 28ms/step - loss: 1.1096 - accuracy: 0.4125 - val_loss: 2.6537 - val_accuracy: 0.0000e+00\n",
            "Epoch 5/90\n",
            "8/8 [==============================] - 0s 33ms/step - loss: 1.0825 - accuracy: 0.4375 - val_loss: 2.3637 - val_accuracy: 0.0000e+00\n",
            "Epoch 6/90\n",
            "8/8 [==============================] - 0s 33ms/step - loss: 1.0585 - accuracy: 0.3875 - val_loss: 2.0558 - val_accuracy: 0.0000e+00\n",
            "Epoch 7/90\n",
            "8/8 [==============================] - 0s 44ms/step - loss: 1.0454 - accuracy: 0.4583 - val_loss: 2.1373 - val_accuracy: 0.0000e+00\n",
            "Epoch 8/90\n",
            "8/8 [==============================] - 0s 50ms/step - loss: 1.0159 - accuracy: 0.4583 - val_loss: 1.9602 - val_accuracy: 0.0000e+00\n",
            "Epoch 9/90\n",
            "8/8 [==============================] - 0s 52ms/step - loss: 0.9970 - accuracy: 0.4625 - val_loss: 1.8713 - val_accuracy: 0.0000e+00\n",
            "Epoch 10/90\n",
            "8/8 [==============================] - 0s 49ms/step - loss: 0.9803 - accuracy: 0.4625 - val_loss: 1.6446 - val_accuracy: 0.0000e+00\n",
            "Epoch 11/90\n",
            "8/8 [==============================] - 0s 49ms/step - loss: 0.9626 - accuracy: 0.4917 - val_loss: 1.8254 - val_accuracy: 0.0000e+00\n",
            "Epoch 12/90\n",
            "8/8 [==============================] - 0s 56ms/step - loss: 0.9395 - accuracy: 0.5000 - val_loss: 1.6016 - val_accuracy: 0.0000e+00\n",
            "Epoch 13/90\n",
            "8/8 [==============================] - 0s 48ms/step - loss: 0.9301 - accuracy: 0.5458 - val_loss: 1.6924 - val_accuracy: 0.0000e+00\n",
            "Epoch 14/90\n",
            "8/8 [==============================] - 0s 53ms/step - loss: 0.9213 - accuracy: 0.5250 - val_loss: 1.4140 - val_accuracy: 0.0000e+00\n",
            "Epoch 15/90\n",
            "8/8 [==============================] - 0s 46ms/step - loss: 0.9320 - accuracy: 0.4875 - val_loss: 1.7471 - val_accuracy: 0.0000e+00\n",
            "Epoch 16/90\n",
            "8/8 [==============================] - 0s 42ms/step - loss: 0.9039 - accuracy: 0.5375 - val_loss: 1.2840 - val_accuracy: 0.0000e+00\n",
            "Epoch 17/90\n",
            "8/8 [==============================] - 0s 44ms/step - loss: 0.9122 - accuracy: 0.5042 - val_loss: 1.5018 - val_accuracy: 0.0000e+00\n",
            "Epoch 18/90\n",
            "8/8 [==============================] - 0s 55ms/step - loss: 0.8860 - accuracy: 0.5375 - val_loss: 1.4219 - val_accuracy: 0.0000e+00\n",
            "Epoch 19/90\n",
            "8/8 [==============================] - 0s 28ms/step - loss: 0.8627 - accuracy: 0.5500 - val_loss: 1.4526 - val_accuracy: 0.0667\n",
            "Epoch 20/90\n",
            "8/8 [==============================] - 0s 26ms/step - loss: 0.8539 - accuracy: 0.6000 - val_loss: 1.3286 - val_accuracy: 0.0167\n",
            "Epoch 21/90\n",
            "8/8 [==============================] - 0s 28ms/step - loss: 0.8705 - accuracy: 0.5250 - val_loss: 1.4433 - val_accuracy: 0.0833\n",
            "Epoch 22/90\n",
            "8/8 [==============================] - 0s 29ms/step - loss: 0.8212 - accuracy: 0.5917 - val_loss: 1.4812 - val_accuracy: 0.0667\n",
            "Epoch 23/90\n",
            "8/8 [==============================] - 0s 28ms/step - loss: 0.7955 - accuracy: 0.6292 - val_loss: 1.2079 - val_accuracy: 0.2167\n",
            "Epoch 24/90\n",
            "8/8 [==============================] - 0s 30ms/step - loss: 0.7873 - accuracy: 0.6333 - val_loss: 1.3599 - val_accuracy: 0.0833\n",
            "Epoch 25/90\n",
            "8/8 [==============================] - 0s 26ms/step - loss: 0.7634 - accuracy: 0.6667 - val_loss: 1.1553 - val_accuracy: 0.2500\n",
            "Epoch 26/90\n",
            "8/8 [==============================] - 0s 26ms/step - loss: 0.7384 - accuracy: 0.6958 - val_loss: 1.7047 - val_accuracy: 0.1667\n",
            "Epoch 27/90\n",
            "8/8 [==============================] - 0s 29ms/step - loss: 0.7075 - accuracy: 0.6833 - val_loss: 1.1335 - val_accuracy: 0.3167\n",
            "Epoch 28/90\n",
            "8/8 [==============================] - 0s 29ms/step - loss: 0.6778 - accuracy: 0.8167 - val_loss: 1.4408 - val_accuracy: 0.2000\n",
            "Epoch 29/90\n",
            "8/8 [==============================] - 0s 26ms/step - loss: 0.6429 - accuracy: 0.7875 - val_loss: 1.2579 - val_accuracy: 0.2500\n",
            "Epoch 30/90\n",
            "8/8 [==============================] - 0s 31ms/step - loss: 0.6114 - accuracy: 0.8208 - val_loss: 1.1680 - val_accuracy: 0.3167\n",
            "Epoch 31/90\n",
            "8/8 [==============================] - 0s 29ms/step - loss: 0.5932 - accuracy: 0.7667 - val_loss: 1.2849 - val_accuracy: 0.4000\n",
            "Epoch 32/90\n",
            "8/8 [==============================] - 0s 27ms/step - loss: 0.5833 - accuracy: 0.7750 - val_loss: 1.2947 - val_accuracy: 0.3833\n",
            "Epoch 33/90\n",
            "8/8 [==============================] - 0s 26ms/step - loss: 0.5736 - accuracy: 0.7500 - val_loss: 1.2856 - val_accuracy: 0.4167\n",
            "Epoch 34/90\n",
            "8/8 [==============================] - 0s 30ms/step - loss: 0.5571 - accuracy: 0.8125 - val_loss: 0.9476 - val_accuracy: 0.5833\n",
            "Epoch 35/90\n",
            "8/8 [==============================] - 0s 24ms/step - loss: 0.5102 - accuracy: 0.8250 - val_loss: 1.3140 - val_accuracy: 0.4000\n",
            "Epoch 36/90\n",
            "8/8 [==============================] - 0s 30ms/step - loss: 0.5033 - accuracy: 0.8333 - val_loss: 0.9938 - val_accuracy: 0.5333\n",
            "Epoch 37/90\n",
            "8/8 [==============================] - 0s 26ms/step - loss: 0.5032 - accuracy: 0.7958 - val_loss: 1.2368 - val_accuracy: 0.4333\n",
            "Epoch 38/90\n",
            "8/8 [==============================] - 0s 25ms/step - loss: 0.4760 - accuracy: 0.8042 - val_loss: 0.7211 - val_accuracy: 0.8000\n",
            "Epoch 39/90\n",
            "8/8 [==============================] - 0s 29ms/step - loss: 0.4665 - accuracy: 0.8333 - val_loss: 0.8602 - val_accuracy: 0.6500\n",
            "Epoch 40/90\n",
            "8/8 [==============================] - 0s 27ms/step - loss: 0.4398 - accuracy: 0.8792 - val_loss: 0.7634 - val_accuracy: 0.7167\n",
            "Epoch 41/90\n",
            "8/8 [==============================] - 0s 28ms/step - loss: 0.4285 - accuracy: 0.8542 - val_loss: 0.7213 - val_accuracy: 0.7500\n",
            "Epoch 42/90\n",
            "8/8 [==============================] - 0s 25ms/step - loss: 0.4216 - accuracy: 0.8500 - val_loss: 0.8001 - val_accuracy: 0.6500\n",
            "Epoch 43/90\n",
            "8/8 [==============================] - 0s 28ms/step - loss: 0.3810 - accuracy: 0.8792 - val_loss: 1.1627 - val_accuracy: 0.4167\n",
            "Epoch 44/90\n",
            "8/8 [==============================] - 0s 26ms/step - loss: 0.4544 - accuracy: 0.7833 - val_loss: 0.6833 - val_accuracy: 0.7833\n",
            "Epoch 45/90\n",
            "8/8 [==============================] - 0s 25ms/step - loss: 0.3842 - accuracy: 0.8750 - val_loss: 0.6120 - val_accuracy: 0.8500\n",
            "Epoch 46/90\n",
            "8/8 [==============================] - 0s 26ms/step - loss: 0.3953 - accuracy: 0.8625 - val_loss: 0.7013 - val_accuracy: 0.8000\n",
            "Epoch 47/90\n",
            "8/8 [==============================] - 0s 27ms/step - loss: 0.3430 - accuracy: 0.9292 - val_loss: 0.7328 - val_accuracy: 0.6833\n",
            "Epoch 48/90\n",
            "8/8 [==============================] - 0s 28ms/step - loss: 0.3303 - accuracy: 0.9000 - val_loss: 0.6840 - val_accuracy: 0.7833\n",
            "Epoch 49/90\n",
            "8/8 [==============================] - 0s 29ms/step - loss: 0.3100 - accuracy: 0.9292 - val_loss: 0.7803 - val_accuracy: 0.7000\n",
            "Epoch 50/90\n",
            "8/8 [==============================] - 0s 26ms/step - loss: 0.3015 - accuracy: 0.9292 - val_loss: 0.5859 - val_accuracy: 0.8333\n",
            "Epoch 51/90\n",
            "8/8 [==============================] - 0s 27ms/step - loss: 0.3476 - accuracy: 0.8833 - val_loss: 0.6533 - val_accuracy: 0.8333\n",
            "Epoch 52/90\n",
            "8/8 [==============================] - 0s 28ms/step - loss: 0.3597 - accuracy: 0.8625 - val_loss: 0.6593 - val_accuracy: 0.7833\n",
            "Epoch 53/90\n",
            "8/8 [==============================] - 0s 26ms/step - loss: 0.3005 - accuracy: 0.9083 - val_loss: 0.7010 - val_accuracy: 0.6833\n",
            "Epoch 54/90\n",
            "8/8 [==============================] - 0s 26ms/step - loss: 0.3082 - accuracy: 0.9000 - val_loss: 0.6008 - val_accuracy: 0.8500\n",
            "Epoch 55/90\n",
            "8/8 [==============================] - 0s 28ms/step - loss: 0.2798 - accuracy: 0.9208 - val_loss: 0.4889 - val_accuracy: 0.8667\n",
            "Epoch 56/90\n",
            "8/8 [==============================] - 0s 29ms/step - loss: 0.2481 - accuracy: 0.9417 - val_loss: 0.5602 - val_accuracy: 0.8333\n",
            "Epoch 57/90\n",
            "8/8 [==============================] - 0s 28ms/step - loss: 0.2503 - accuracy: 0.9458 - val_loss: 0.5241 - val_accuracy: 0.8667\n",
            "Epoch 58/90\n",
            "8/8 [==============================] - 0s 25ms/step - loss: 0.2393 - accuracy: 0.9417 - val_loss: 0.5574 - val_accuracy: 0.8333\n",
            "Epoch 59/90\n",
            "8/8 [==============================] - 0s 25ms/step - loss: 0.2450 - accuracy: 0.9083 - val_loss: 0.4987 - val_accuracy: 0.8833\n",
            "Epoch 60/90\n",
            "8/8 [==============================] - 0s 27ms/step - loss: 0.2903 - accuracy: 0.8917 - val_loss: 0.5891 - val_accuracy: 0.8500\n",
            "Epoch 61/90\n",
            "8/8 [==============================] - 0s 26ms/step - loss: 0.2575 - accuracy: 0.9333 - val_loss: 0.4475 - val_accuracy: 0.8833\n",
            "Epoch 62/90\n",
            "8/8 [==============================] - 0s 28ms/step - loss: 0.2205 - accuracy: 0.9583 - val_loss: 0.4635 - val_accuracy: 0.8833\n",
            "Epoch 63/90\n",
            "8/8 [==============================] - 0s 26ms/step - loss: 0.2200 - accuracy: 0.9542 - val_loss: 0.5012 - val_accuracy: 0.8833\n",
            "Epoch 64/90\n",
            "8/8 [==============================] - 0s 27ms/step - loss: 0.1999 - accuracy: 0.9583 - val_loss: 0.4672 - val_accuracy: 0.8833\n",
            "Epoch 65/90\n",
            "8/8 [==============================] - 0s 26ms/step - loss: 0.1969 - accuracy: 0.9625 - val_loss: 0.5016 - val_accuracy: 0.8500\n",
            "Epoch 66/90\n",
            "8/8 [==============================] - 0s 26ms/step - loss: 0.2003 - accuracy: 0.9458 - val_loss: 0.3815 - val_accuracy: 0.8833\n",
            "Epoch 67/90\n",
            "8/8 [==============================] - 0s 26ms/step - loss: 0.2105 - accuracy: 0.9500 - val_loss: 0.5972 - val_accuracy: 0.8000\n",
            "Epoch 68/90\n",
            "8/8 [==============================] - 0s 26ms/step - loss: 0.2031 - accuracy: 0.9458 - val_loss: 0.4530 - val_accuracy: 0.8833\n",
            "Epoch 69/90\n",
            "8/8 [==============================] - 0s 31ms/step - loss: 0.2066 - accuracy: 0.9500 - val_loss: 0.5178 - val_accuracy: 0.8833\n",
            "Epoch 70/90\n",
            "8/8 [==============================] - 0s 26ms/step - loss: 0.1773 - accuracy: 0.9542 - val_loss: 0.4221 - val_accuracy: 0.8833\n",
            "Epoch 71/90\n",
            "8/8 [==============================] - 0s 27ms/step - loss: 0.1656 - accuracy: 0.9625 - val_loss: 0.3742 - val_accuracy: 0.8833\n",
            "Epoch 72/90\n",
            "8/8 [==============================] - 0s 25ms/step - loss: 0.1664 - accuracy: 0.9500 - val_loss: 0.3764 - val_accuracy: 0.8833\n",
            "Epoch 73/90\n",
            "8/8 [==============================] - 0s 27ms/step - loss: 0.1624 - accuracy: 0.9500 - val_loss: 0.4884 - val_accuracy: 0.8833\n",
            "Epoch 74/90\n",
            "8/8 [==============================] - 0s 30ms/step - loss: 0.1740 - accuracy: 0.9542 - val_loss: 0.3725 - val_accuracy: 0.8833\n",
            "Epoch 75/90\n",
            "8/8 [==============================] - 0s 30ms/step - loss: 0.1654 - accuracy: 0.9458 - val_loss: 0.5393 - val_accuracy: 0.8333\n",
            "Epoch 76/90\n",
            "8/8 [==============================] - 0s 27ms/step - loss: 0.1493 - accuracy: 0.9750 - val_loss: 0.2858 - val_accuracy: 0.8833\n",
            "Epoch 77/90\n",
            "8/8 [==============================] - 0s 27ms/step - loss: 0.1439 - accuracy: 0.9625 - val_loss: 0.4054 - val_accuracy: 0.8833\n",
            "Epoch 78/90\n",
            "8/8 [==============================] - 0s 26ms/step - loss: 0.1446 - accuracy: 0.9542 - val_loss: 0.3193 - val_accuracy: 0.8833\n",
            "Epoch 79/90\n",
            "8/8 [==============================] - 0s 28ms/step - loss: 0.1454 - accuracy: 0.9625 - val_loss: 0.3316 - val_accuracy: 0.8833\n",
            "Epoch 80/90\n",
            "8/8 [==============================] - 0s 27ms/step - loss: 0.1357 - accuracy: 0.9750 - val_loss: 0.4115 - val_accuracy: 0.8833\n",
            "Epoch 81/90\n",
            "8/8 [==============================] - 0s 29ms/step - loss: 0.1286 - accuracy: 0.9583 - val_loss: 0.3406 - val_accuracy: 0.8833\n",
            "Epoch 82/90\n",
            "8/8 [==============================] - 0s 27ms/step - loss: 0.1299 - accuracy: 0.9750 - val_loss: 0.3894 - val_accuracy: 0.8833\n",
            "Epoch 83/90\n",
            "8/8 [==============================] - 0s 27ms/step - loss: 0.1440 - accuracy: 0.9583 - val_loss: 0.4176 - val_accuracy: 0.8833\n",
            "Epoch 84/90\n",
            "8/8 [==============================] - 0s 32ms/step - loss: 0.1535 - accuracy: 0.9542 - val_loss: 0.2949 - val_accuracy: 0.9167\n",
            "Epoch 85/90\n",
            "8/8 [==============================] - 0s 27ms/step - loss: 0.1831 - accuracy: 0.9417 - val_loss: 0.2192 - val_accuracy: 0.9333\n",
            "Epoch 86/90\n",
            "8/8 [==============================] - 0s 32ms/step - loss: 0.1778 - accuracy: 0.9417 - val_loss: 0.3488 - val_accuracy: 0.8833\n",
            "Epoch 87/90\n",
            "8/8 [==============================] - 0s 28ms/step - loss: 0.1289 - accuracy: 0.9625 - val_loss: 0.4165 - val_accuracy: 0.8667\n",
            "Epoch 88/90\n",
            "8/8 [==============================] - 0s 27ms/step - loss: 0.1181 - accuracy: 0.9750 - val_loss: 0.2882 - val_accuracy: 0.9000\n",
            "Epoch 89/90\n",
            "8/8 [==============================] - 0s 26ms/step - loss: 0.1026 - accuracy: 0.9708 - val_loss: 0.2692 - val_accuracy: 0.9000\n",
            "Epoch 90/90\n",
            "8/8 [==============================] - 0s 25ms/step - loss: 0.1028 - accuracy: 0.9708 - val_loss: 0.2472 - val_accuracy: 0.9000\n"
          ]
        }
      ]
    },
    {
      "cell_type": "code",
      "source": [
        "plt.plot(history.history['accuracy'])\n",
        "plt.plot(history.history['val_accuracy'])\n",
        "plt.title('Model accuracy')\n",
        "plt.xlabel('Epoch')\n",
        "plt.ylabel('Accuracy')\n",
        "plt.legend(['Train', 'Test'], loc='upper left')\n",
        "plt.show()"
      ],
      "metadata": {
        "colab": {
          "base_uri": "https://localhost:8080/",
          "height": 295
        },
        "id": "cidV-LSGF5zX",
        "outputId": "42548a7c-12da-4ea6-89db-4fd59c55d9c9"
      },
      "execution_count": 215,
      "outputs": [
        {
          "output_type": "display_data",
          "data": {
            "text/plain": [
              "<Figure size 432x288 with 1 Axes>"
            ],
            "image/png": "[encoded data removed]"
          },
          "metadata": {
            "needs_background": "light"
          }
        }
      ]
    },
    {
      "cell_type": "code",
      "source": [
        "plt.plot(history.history['loss'])\n",
        "plt.plot(history.history['val_loss'])\n",
        "plt.title('Model loss')\n",
        "plt.xlabel('Epoch')\n",
        "plt.ylabel('Loss')\n",
        "plt.legend(['Train', 'Test'], loc='upper left')\n",
        "plt.show()"
      ],
      "metadata": {
        "colab": {
          "base_uri": "https://localhost:8080/",
          "height": 295
        },
        "id": "00tGeVYqG80Q",
        "outputId": "cfccac13-26fd-4662-f793-659ba8ab9cf7"
      },
      "execution_count": 216,
      "outputs": [
        {
          "output_type": "display_data",
          "data": {
            "text/plain": [
              "<Figure size 432x288 with 1 Axes>"
            ],
            "image/png": "[encoded data removed]"
          },
          "metadata": {
            "needs_background": "light"
          }
        }
      ]
    },
    {
      "cell_type": "markdown",
      "source": [
        "# Resize Test Images"
      ],
      "metadata": {
        "id": "3y878lXXBBBj"
      }
    },
    {
      "cell_type": "code",
      "source": [
        "\n",
        "image_dir_path = \"/content/drive/MyDrive/Colab Notebooks/data/rps/paper\"\n",
        "resize_images(image_dir_path)\n",
        "\n",
        "image_dir_path = \"/content/drive/MyDrive/Colab Notebooks/data/rps/rock\"\n",
        "resize_images(image_dir_path)\n",
        "\n",
        "image_dir_path = \"/content/drive/MyDrive/Colab Notebooks/data/rps/scissor\"\n",
        "resize_images(image_dir_path)"
      ],
      "metadata": {
        "colab": {
          "base_uri": "https://localhost:8080/"
        },
        "id": "m-6hWplYcOKZ",
        "outputId": "c814b1b8-b32a-47eb-a057-7b819380a651"
      },
      "execution_count": 217,
      "outputs": [
        {
          "output_type": "stream",
          "name": "stdout",
          "text": [
            "100  images to be resized.\n",
            "100  images resized.\n",
            "100  images to be resized.\n",
            "100  images resized.\n",
            "100  images to be resized.\n",
            "100  images resized.\n"
          ]
        }
      ]
    },
    {
      "cell_type": "code",
      "source": [
        "image_dir_path = \"/content/drive/MyDrive/Colab Notebooks/data/rps\"\n",
        "(x_test, y_test)=load_data(image_dir_path)\n",
        "x_test_norm = x_test/255.0   # 입력은 0~1 사이의 값으로 정규화\n",
        "\n",
        "print(\"x_test shape: {}\".format(x_test.shape))\n",
        "print(\"y_test shape: {}\".format(y_test.shape))"
      ],
      "metadata": {
        "colab": {
          "base_uri": "https://localhost:8080/"
        },
        "id": "bhKXN6Uvajs3",
        "outputId": "4c9399b5-a20e-41c2-d461-45229032a2f7"
      },
      "execution_count": 218,
      "outputs": [
        {
          "output_type": "stream",
          "name": "stdout",
          "text": [
            "x_test shape: (300, 28, 28, 3)\n",
            "y_test shape: (300,)\n"
          ]
        }
      ]
    },
    {
      "cell_type": "code",
      "source": [
        "plt.imshow(x_test[0])\n",
        "print('라벨: ', y_test[0])"
      ],
      "metadata": {
        "colab": {
          "base_uri": "https://localhost:8080/",
          "height": 282
        },
        "id": "I0WB5-pugZj0",
        "outputId": "84513683-7617-48a3-c9ec-1692a0ad6aaa"
      },
      "execution_count": 219,
      "outputs": [
        {
          "output_type": "stream",
          "name": "stdout",
          "text": [
            "라벨:  0\n"
          ]
        },
        {
          "output_type": "display_data",
          "data": {
            "text/plain": [
              "<Figure size 432x288 with 1 Axes>"
            ],
            "image/png": "[encoded data removed]"
          },
          "metadata": {
            "needs_background": "light"
          }
        }
      ]
    },
    {
      "cell_type": "code",
      "source": [
        "x_test_reshaped=x_test_norm.reshape( -1, 28, 28, 3)"
      ],
      "metadata": {
        "id": "issq4JfkfwK7"
      },
      "execution_count": 220,
      "outputs": []
    },
    {
      "cell_type": "markdown",
      "source": [
        "# Result"
      ],
      "metadata": {
        "id": "QZft25RvBX9G"
      }
    },
    {
      "cell_type": "code",
      "source": [
        "test_loss, test_accuracy = model.evaluate(x_test_reshaped,y_test, verbose=2)\n",
        "print(f\"test_loss: {test_loss}\")\n",
        "print(f\"test_accuracy: {test_accuracy}\")"
      ],
      "metadata": {
        "colab": {
          "base_uri": "https://localhost:8080/"
        },
        "id": "ZtYzhISqfrty",
        "outputId": "0a55abde-f7e8-44dc-e82b-b8db13638a00"
      },
      "execution_count": 221,
      "outputs": [
        {
          "output_type": "stream",
          "name": "stdout",
          "text": [
            "10/10 - 0s - loss: 1.4326 - accuracy: 0.6600 - 93ms/epoch - 9ms/step\n",
            "test_loss: 1.4325636625289917\n",
            "test_accuracy: 0.6600000262260437\n"
          ]
        }
      ]
    }
  ]
}