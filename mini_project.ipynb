{
  "nbformat": 4,
  "nbformat_minor": 0,
  "metadata": {
    "colab": {
      "provenance": [],
      "mount_file_id": "14BkW9u0sJ7vy06PA06bCYrN4ZO5m6iSo",
      "authorship_tag": "ABX9TyPJuaJKgHlt1qj6UBuzk3Xk",
      "include_colab_link": true
    },
    "kernelspec": {
      "name": "python3",
      "display_name": "Python 3"
    },
    "language_info": {
      "name": "python"
    },
    "gpuClass": "premium"
  },
  "cells": [
    {
      "cell_type": "markdown",
      "metadata": {
        "id": "view-in-github",
        "colab_type": "text"
      },
      "source": [
        "<a href=\"https://colab.research.google.com/github/Nobu90/scaling-broccoli/blob/main/mini_project.ipynb\" target=\"_parent\"><img src=\"https://colab.research.google.com/assets/colab-badge.svg\" alt=\"Open In Colab\"/></a>"
      ]
    },
    {
      "cell_type": "markdown",
      "source": [
        "## Change Parameters\n",
        "\n",
        "\n",
        "Version 1 - n_channel_1=32\n",
        "n_channel_2=64\n",
        "n_dense=32\n",
        "n_train_epoch=12 /test_accuracy: 0.38999998569488525\n",
        "\n",
        "Version 2 - n_channel_1=32\n",
        "n_channel_2=64\n",
        "n_dense=16\n",
        "n_train_epoch=12 /test_accuracy: 0.5733333230018616\n",
        "\n",
        "Version 3 - n_channel_1=32 n_channel_2=64 n_dense=12 n_train_epoch=12 /test_accuracy: 0.5533333420753479\n",
        "\n",
        "Version 4 - n_channel_1=32 n_channel_2=64 n_dense=12 n_train_epoch=14 /test_accuracy: 0.3333333333333333"
      ],
      "metadata": {
        "id": "LzHD1Wbri7oE"
      }
    },
    {
      "cell_type": "markdown",
      "source": [
        "## Change funciton and epoch\n",
        "\n",
        "Version 5 - model.add(keras.layers.Dense(10, activation='sigmoid')) from softmax to sigmoid\n",
        "n_channel_1=32\n",
        "n_channel_2=64\n",
        "n_dense=12\n",
        "n_train_epoch=20 /test_accuracy: 0.3633333444595337\n",
        "\n"
      ],
      "metadata": {
        "id": "ZGYpc9iG7XcV"
      }
    },
    {
      "cell_type": "markdown",
      "source": [
        "## Change Parameters"
      ],
      "metadata": {
        "id": "Kay0a_ovJM_d"
      }
    },
    {
      "cell_type": "markdown",
      "source": [
        "Version 6 - n_channel_1=32 n_channel_2=64 n_dense=24 n_train_epoch=20 /test_accuracy: 0.40666666626930237\n",
        "\n",
        "Version 7 - n_channel_1=32 n_channel_2=64 n_dense=24 n_train_epoch=15 /test_accuracy: 0.49666666984558105\n",
        "\n",
        "Version 7 - n_channel_1=32 n_channel_2=64 n_dense=24 n_train_epoch=15 /test_accuracy: 0.49666666984558105\n",
        "\n",
        "Version 7 - n_channel_1=32 n_channel_2=64 n_dense=24 n_train_epoch=15 /test_accuracy: 0.5266666412353516\n",
        "\n",
        "Version 7 - n_channel_1=32 n_channel_2=64 n_dense=24 n_train_epoch=15 /test_accuracy: 0.5699999928474426"
      ],
      "metadata": {
        "id": "jjOkv3H-JwwV"
      }
    },
    {
      "cell_type": "markdown",
      "source": [
        "# Load Libraries, Train, Test"
      ],
      "metadata": {
        "id": "7lMyAEYnRzfu"
      }
    },
    {
      "cell_type": "code",
      "execution_count": null,
      "metadata": {
        "id": "zk2G9JJGmtY9",
        "colab": {
          "base_uri": "https://localhost:8080/"
        },
        "outputId": "03e4b4df-30f8-44cb-bb02-62fb6e071fb1"
      },
      "outputs": [
        {
          "output_type": "stream",
          "name": "stdout",
          "text": [
            "2.9.2\n",
            "1.21.6\n"
          ]
        }
      ],
      "source": [
        "import tensorflow as tf\n",
        "import numpy as np\n",
        "import matplotlib.pyplot as plt\n",
        "from tensorflow import keras\n",
        "\n",
        "print(tf.__version__)\n",
        "print(np.__version__)\n",
        "\n",
        "from PIL import Image\n",
        "import glob\n",
        "import os"
      ]
    },
    {
      "cell_type": "markdown",
      "source": [
        "# Resize Images"
      ],
      "metadata": {
        "id": "dqRf0HfOR_Bu"
      }
    },
    {
      "cell_type": "code",
      "source": [
        "def resize_images(img_path):\n",
        "\timages=glob.glob(img_path + \"/*.jpg\")  \n",
        "    \n",
        "\tprint(len(images), \" images to be resized.\")\n",
        "\n",
        "\ttarget_size=(28,28)\n",
        "\tfor img in images:\n",
        "\t\told_img=Image.open(img)\n",
        "\t\tnew_img=old_img.resize(target_size,Image.ANTIALIAS)\n",
        "\t\tnew_img.save(img, \"JPEG\")\n",
        "    \n",
        "\tprint(len(images), \" images resized.\")"
      ],
      "metadata": {
        "id": "6qd0AFFgxr8C"
      },
      "execution_count": null,
      "outputs": []
    },
    {
      "cell_type": "code",
      "source": [
        "image_dir_path = \"/content/drive/MyDrive/Exploration/data/scissor\"\n",
        "resize_images(image_dir_path)"
      ],
      "metadata": {
        "colab": {
          "base_uri": "https://localhost:8080/"
        },
        "id": "stVmerllSS9C",
        "outputId": "0d09a796-8edf-4ff5-fb07-7844ffb16db5"
      },
      "execution_count": null,
      "outputs": [
        {
          "output_type": "stream",
          "name": "stdout",
          "text": [
            "100  images to be resized.\n",
            "100  images resized.\n"
          ]
        }
      ]
    },
    {
      "cell_type": "code",
      "source": [
        "image_dir_path = \"/content/drive/MyDrive/Exploration/data/rock\"\n",
        "resize_images(image_dir_path)"
      ],
      "metadata": {
        "colab": {
          "base_uri": "https://localhost:8080/"
        },
        "id": "ZdFo6fybN-ld",
        "outputId": "fa24b13e-e308-4a37-fd8d-0ae8519008e6"
      },
      "execution_count": null,
      "outputs": [
        {
          "output_type": "stream",
          "name": "stdout",
          "text": [
            "100  images to be resized.\n",
            "100  images resized.\n"
          ]
        }
      ]
    },
    {
      "cell_type": "code",
      "source": [
        "image_dir_path = \"/content/drive/MyDrive/Exploration/data/paper\"\n",
        "resize_images(image_dir_path)"
      ],
      "metadata": {
        "colab": {
          "base_uri": "https://localhost:8080/"
        },
        "id": "kSjiaGv0ODKE",
        "outputId": "8c204d2c-b618-456b-f29e-6bf55db23868"
      },
      "execution_count": null,
      "outputs": [
        {
          "output_type": "stream",
          "name": "stdout",
          "text": [
            "100  images to be resized.\n",
            "100  images resized.\n"
          ]
        }
      ]
    },
    {
      "cell_type": "markdown",
      "source": [
        "# Load data"
      ],
      "metadata": {
        "id": "1RQCD4wzSn5v"
      }
    },
    {
      "cell_type": "code",
      "source": [
        "def load_data(img_path, number_of_data=300):  \n",
        "\n",
        "    img_size=28\n",
        "    color=3\n",
        "\n",
        "    imgs=np.zeros(number_of_data*img_size*img_size*color,dtype=np.int32).reshape(number_of_data,img_size,img_size,color)\n",
        "    labels=np.zeros(number_of_data,dtype=np.int32)\n",
        "\n",
        "    idx=0\n",
        "    for file in glob.iglob(img_path+'/scissor/*.jpg'):\n",
        "        img = np.array(Image.open(file),dtype=np.int32)\n",
        "        imgs[idx,:,:,:]=img    \n",
        "        labels[idx]=0  \n",
        "        idx=idx+1\n",
        "\n",
        "    for file in glob.iglob(img_path+'/rock/*.jpg'):\n",
        "        img = np.array(Image.open(file),dtype=np.int32)\n",
        "        imgs[idx,:,:,:]=img  \n",
        "        labels[idx]=1  \n",
        "        idx=idx+1  \n",
        "    \n",
        "    for file in glob.iglob(img_path+'/paper/*.jpg'):\n",
        "        img = np.array(Image.open(file),dtype=np.int32)\n",
        "        imgs[idx,:,:,:]=img   \n",
        "        labels[idx]=2  \n",
        "        idx=idx+1\n",
        "\n",
        "    return imgs, labels\n",
        "\n",
        "image_dir_path = \"/content/drive/MyDrive/Exploration/data\"\n",
        "(x_train, y_train)=load_data(image_dir_path)\n",
        "x_train_norm = x_train/255.0   \n",
        "\n",
        "print(\"x_train shape: {}\".format(x_train.shape))\n",
        "print(\"y_train shape: {}\".format(y_train.shape))"
      ],
      "metadata": {
        "colab": {
          "base_uri": "https://localhost:8080/"
        },
        "id": "q440caIWO2nX",
        "outputId": "8fc68875-540e-46af-b4ed-7d928c6f5eeb"
      },
      "execution_count": null,
      "outputs": [
        {
          "output_type": "stream",
          "name": "stdout",
          "text": [
            "x_train shape: (300, 28, 28, 3)\n",
            "y_train shape: (300,)\n"
          ]
        }
      ]
    },
    {
      "cell_type": "markdown",
      "source": [
        "# Check the image"
      ],
      "metadata": {
        "id": "LKk0O6o1Te99"
      }
    },
    {
      "cell_type": "code",
      "source": [
        "plt.imshow(x_train[0])\n",
        "print('라벨: ', y_train[0])"
      ],
      "metadata": {
        "colab": {
          "base_uri": "https://localhost:8080/",
          "height": 282
        },
        "id": "cmc50DlAO8ax",
        "outputId": "083f417f-7a22-4b22-ce12-d61a119e47e3"
      },
      "execution_count": null,
      "outputs": [
        {
          "output_type": "stream",
          "name": "stdout",
          "text": [
            "라벨:  0\n"
          ]
        },
        {
          "output_type": "display_data",
          "data": {
            "text/plain": [
              "<Figure size 432x288 with 1 Axes>"
            ],
            "image/png": "[encoded data removed]"
          },
          "metadata": {
            "needs_background": "light"
          }
        }
      ]
    },
    {
      "cell_type": "markdown",
      "source": [
        "# Design Model"
      ],
      "metadata": {
        "id": "UTdx_ZkgUh_6"
      }
    },
    {
      "cell_type": "code",
      "source": [
        "n_channel_1=16\n",
        "n_channel_2=16\n",
        "n_dense=12\n",
        "n_train_epoch=80\n",
        "\n",
        "model=keras.models.Sequential()\n",
        "model.add(keras.layers.Conv2D(n_channel_1, (3,3), activation='ReLU', input_shape=(28, 28,3)))\n",
        "model.add(keras.layers.MaxPool2D(2,2))\n",
        "model.add(keras.layers.Conv2D(n_channel_2, (3,3), activation='ReLU'))\n",
        "model.add(keras.layers.MaxPooling2D((2,2)))\n",
        "model.add(keras.layers.Flatten())\n",
        "model.add(keras.layers.Dense(n_dense, activation='ReLU'))\n",
        "model.add(keras.layers.Dense(6, activation='sigmoid'))\n",
        "\n",
        "print('Model에 추가된 Layer 개수: ', len(model.layers))\n",
        "\n",
        "model.summary()"
      ],
      "metadata": {
        "colab": {
          "base_uri": "https://localhost:8080/"
        },
        "id": "KsG9AF6QQbW6",
        "outputId": "fa51a1a1-03e8-4a12-95f8-3659b07fe0a8"
      },
      "execution_count": null,
      "outputs": [
        {
          "output_type": "stream",
          "name": "stdout",
          "text": [
            "Model에 추가된 Layer 개수:  7\n",
            "Model: \"sequential_10\"\n",
            "_________________________________________________________________\n",
            " Layer (type)                Output Shape              Param #   \n",
            "=================================================================\n",
            " conv2d_20 (Conv2D)          (None, 26, 26, 16)        448       \n",
            "                                                                 \n",
            " max_pooling2d_20 (MaxPoolin  (None, 13, 13, 16)       0         \n",
            " g2D)                                                            \n",
            "                                                                 \n",
            " conv2d_21 (Conv2D)          (None, 11, 11, 16)        2320      \n",
            "                                                                 \n",
            " max_pooling2d_21 (MaxPoolin  (None, 5, 5, 16)         0         \n",
            " g2D)                                                            \n",
            "                                                                 \n",
            " flatten_10 (Flatten)        (None, 400)               0         \n",
            "                                                                 \n",
            " dense_20 (Dense)            (None, 12)                4812      \n",
            "                                                                 \n",
            " dense_21 (Dense)            (None, 6)                 78        \n",
            "                                                                 \n",
            "=================================================================\n",
            "Total params: 7,658\n",
            "Trainable params: 7,658\n",
            "Non-trainable params: 0\n",
            "_________________________________________________________________\n"
          ]
        }
      ]
    },
    {
      "cell_type": "markdown",
      "source": [
        "# Train Model"
      ],
      "metadata": {
        "id": "V4oCjl_dA76Q"
      }
    },
    {
      "cell_type": "code",
      "source": [
        "x_train_reshaped=x_train_norm.reshape( -1, 28, 28, 3)\n",
        "\n",
        "model.compile(optimizer='Adam',\n",
        "             loss='sparse_categorical_crossentropy',\n",
        "             metrics=['accuracy'])\n",
        "\n",
        "print(\"x_train_reshaped.shape: {}\".format(x_train_reshaped.shape))\n"
      ],
      "metadata": {
        "colab": {
          "base_uri": "https://localhost:8080/"
        },
        "id": "DFil95cJSrYq",
        "outputId": "e7fe782d-a0cf-4d66-e391-6e3733b5592e"
      },
      "execution_count": null,
      "outputs": [
        {
          "output_type": "stream",
          "name": "stdout",
          "text": [
            "x_train_reshaped.shape: (300, 28, 28, 3)\n"
          ]
        }
      ]
    },
    {
      "cell_type": "code",
      "source": [
        "history = model.fit(x_train_reshaped, y_train, validation_split=0.20, epochs=n_train_epoch, verbose=1)"
      ],
      "metadata": {
        "colab": {
          "base_uri": "https://localhost:8080/"
        },
        "id": "8aJcDjaoVDPi",
        "outputId": "d8e848af-01af-4fdd-bf5f-d0ac781d3593"
      },
      "execution_count": null,
      "outputs": [
        {
          "output_type": "stream",
          "name": "stdout",
          "text": [
            "Epoch 1/80\n",
            "8/8 [==============================] - 1s 53ms/step - loss: 1.5960 - accuracy: 0.4125 - val_loss: 1.5621 - val_accuracy: 0.0000e+00\n",
            "Epoch 2/80\n",
            "8/8 [==============================] - 0s 24ms/step - loss: 1.2583 - accuracy: 0.4167 - val_loss: 1.5832 - val_accuracy: 0.0000e+00\n",
            "Epoch 3/80\n",
            "8/8 [==============================] - 0s 29ms/step - loss: 1.0721 - accuracy: 0.4125 - val_loss: 1.8565 - val_accuracy: 0.0000e+00\n",
            "Epoch 4/80\n",
            "8/8 [==============================] - 0s 27ms/step - loss: 1.0227 - accuracy: 0.4542 - val_loss: 1.8543 - val_accuracy: 0.0000e+00\n",
            "Epoch 5/80\n",
            "8/8 [==============================] - 0s 24ms/step - loss: 0.9984 - accuracy: 0.4833 - val_loss: 1.6123 - val_accuracy: 0.0000e+00\n",
            "Epoch 6/80\n",
            "8/8 [==============================] - 0s 23ms/step - loss: 0.9909 - accuracy: 0.5042 - val_loss: 1.8544 - val_accuracy: 0.0000e+00\n",
            "Epoch 7/80\n",
            "8/8 [==============================] - 0s 21ms/step - loss: 1.0269 - accuracy: 0.4208 - val_loss: 1.4714 - val_accuracy: 0.0000e+00\n",
            "Epoch 8/80\n",
            "8/8 [==============================] - 0s 24ms/step - loss: 0.9401 - accuracy: 0.5583 - val_loss: 1.8194 - val_accuracy: 0.0000e+00\n",
            "Epoch 9/80\n",
            "8/8 [==============================] - 0s 25ms/step - loss: 0.9301 - accuracy: 0.5458 - val_loss: 1.5835 - val_accuracy: 0.0000e+00\n",
            "Epoch 10/80\n",
            "8/8 [==============================] - 0s 24ms/step - loss: 0.9189 - accuracy: 0.5792 - val_loss: 1.5450 - val_accuracy: 0.0000e+00\n",
            "Epoch 11/80\n",
            "8/8 [==============================] - 0s 29ms/step - loss: 0.8818 - accuracy: 0.5792 - val_loss: 1.6571 - val_accuracy: 0.0000e+00\n",
            "Epoch 12/80\n",
            "8/8 [==============================] - 0s 26ms/step - loss: 0.8487 - accuracy: 0.6083 - val_loss: 1.4141 - val_accuracy: 0.1167\n",
            "Epoch 13/80\n",
            "8/8 [==============================] - 0s 26ms/step - loss: 0.8316 - accuracy: 0.6750 - val_loss: 1.2831 - val_accuracy: 0.2000\n",
            "Epoch 14/80\n",
            "8/8 [==============================] - 0s 24ms/step - loss: 0.7712 - accuracy: 0.7000 - val_loss: 1.5155 - val_accuracy: 0.1333\n",
            "Epoch 15/80\n",
            "8/8 [==============================] - 0s 24ms/step - loss: 0.7421 - accuracy: 0.7167 - val_loss: 1.2405 - val_accuracy: 0.3000\n",
            "Epoch 16/80\n",
            "8/8 [==============================] - 0s 28ms/step - loss: 0.7055 - accuracy: 0.7042 - val_loss: 1.2972 - val_accuracy: 0.3000\n",
            "Epoch 17/80\n",
            "8/8 [==============================] - 0s 24ms/step - loss: 0.6758 - accuracy: 0.7167 - val_loss: 1.1597 - val_accuracy: 0.3333\n",
            "Epoch 18/80\n",
            "8/8 [==============================] - 0s 26ms/step - loss: 0.6224 - accuracy: 0.7708 - val_loss: 0.8970 - val_accuracy: 0.5167\n",
            "Epoch 19/80\n",
            "8/8 [==============================] - 0s 26ms/step - loss: 0.6195 - accuracy: 0.7375 - val_loss: 0.9862 - val_accuracy: 0.3500\n",
            "Epoch 20/80\n",
            "8/8 [==============================] - 0s 22ms/step - loss: 0.6412 - accuracy: 0.7000 - val_loss: 0.8518 - val_accuracy: 0.4500\n",
            "Epoch 21/80\n",
            "8/8 [==============================] - 0s 23ms/step - loss: 0.6105 - accuracy: 0.7750 - val_loss: 0.9049 - val_accuracy: 0.5667\n",
            "Epoch 22/80\n",
            "8/8 [==============================] - 0s 23ms/step - loss: 0.5491 - accuracy: 0.8333 - val_loss: 0.7421 - val_accuracy: 0.5833\n",
            "Epoch 23/80\n",
            "8/8 [==============================] - 0s 30ms/step - loss: 0.5045 - accuracy: 0.8458 - val_loss: 0.8889 - val_accuracy: 0.5167\n",
            "Epoch 24/80\n",
            "8/8 [==============================] - 0s 21ms/step - loss: 0.5119 - accuracy: 0.8292 - val_loss: 0.7823 - val_accuracy: 0.5833\n",
            "Epoch 25/80\n",
            "8/8 [==============================] - 0s 23ms/step - loss: 0.4974 - accuracy: 0.8083 - val_loss: 0.7071 - val_accuracy: 0.6167\n",
            "Epoch 26/80\n",
            "8/8 [==============================] - 0s 24ms/step - loss: 0.4640 - accuracy: 0.8417 - val_loss: 0.5324 - val_accuracy: 0.8167\n",
            "Epoch 27/80\n",
            "8/8 [==============================] - 0s 25ms/step - loss: 0.4588 - accuracy: 0.8250 - val_loss: 0.7773 - val_accuracy: 0.5833\n",
            "Epoch 28/80\n",
            "8/8 [==============================] - 0s 25ms/step - loss: 0.4795 - accuracy: 0.8167 - val_loss: 0.6788 - val_accuracy: 0.6167\n",
            "Epoch 29/80\n",
            "8/8 [==============================] - 0s 26ms/step - loss: 0.4234 - accuracy: 0.8250 - val_loss: 0.6819 - val_accuracy: 0.6333\n",
            "Epoch 30/80\n",
            "8/8 [==============================] - 0s 25ms/step - loss: 0.4007 - accuracy: 0.8500 - val_loss: 0.5720 - val_accuracy: 0.7667\n",
            "Epoch 31/80\n",
            "8/8 [==============================] - 0s 26ms/step - loss: 0.3800 - accuracy: 0.8583 - val_loss: 0.7027 - val_accuracy: 0.6333\n",
            "Epoch 32/80\n",
            "8/8 [==============================] - 0s 25ms/step - loss: 0.3731 - accuracy: 0.8708 - val_loss: 0.6264 - val_accuracy: 0.7833\n",
            "Epoch 33/80\n",
            "8/8 [==============================] - 0s 27ms/step - loss: 0.3769 - accuracy: 0.8542 - val_loss: 0.7423 - val_accuracy: 0.6333\n",
            "Epoch 34/80\n",
            "8/8 [==============================] - 0s 25ms/step - loss: 0.3509 - accuracy: 0.8792 - val_loss: 0.5330 - val_accuracy: 0.8167\n",
            "Epoch 35/80\n",
            "8/8 [==============================] - 0s 24ms/step - loss: 0.3460 - accuracy: 0.8792 - val_loss: 0.5748 - val_accuracy: 0.7667\n",
            "Epoch 36/80\n",
            "8/8 [==============================] - 0s 26ms/step - loss: 0.3319 - accuracy: 0.9042 - val_loss: 0.6585 - val_accuracy: 0.7667\n",
            "Epoch 37/80\n",
            "8/8 [==============================] - 0s 24ms/step - loss: 0.3551 - accuracy: 0.8667 - val_loss: 0.5961 - val_accuracy: 0.7667\n",
            "Epoch 38/80\n",
            "8/8 [==============================] - 0s 23ms/step - loss: 0.3059 - accuracy: 0.9167 - val_loss: 0.4624 - val_accuracy: 0.8667\n",
            "Epoch 39/80\n",
            "8/8 [==============================] - 0s 24ms/step - loss: 0.3059 - accuracy: 0.9125 - val_loss: 0.5995 - val_accuracy: 0.7833\n",
            "Epoch 40/80\n",
            "8/8 [==============================] - 0s 24ms/step - loss: 0.3306 - accuracy: 0.8875 - val_loss: 0.3782 - val_accuracy: 0.9167\n",
            "Epoch 41/80\n",
            "8/8 [==============================] - 0s 28ms/step - loss: 0.2998 - accuracy: 0.8917 - val_loss: 0.7167 - val_accuracy: 0.6833\n",
            "Epoch 42/80\n",
            "8/8 [==============================] - 0s 27ms/step - loss: 0.2884 - accuracy: 0.9125 - val_loss: 0.4277 - val_accuracy: 0.9167\n",
            "Epoch 43/80\n",
            "8/8 [==============================] - 0s 28ms/step - loss: 0.2986 - accuracy: 0.9042 - val_loss: 0.6519 - val_accuracy: 0.7833\n",
            "Epoch 44/80\n",
            "8/8 [==============================] - 0s 24ms/step - loss: 0.2790 - accuracy: 0.9292 - val_loss: 0.4030 - val_accuracy: 0.9167\n",
            "Epoch 45/80\n",
            "8/8 [==============================] - 0s 25ms/step - loss: 0.2971 - accuracy: 0.8917 - val_loss: 0.6241 - val_accuracy: 0.7833\n",
            "Epoch 46/80\n",
            "8/8 [==============================] - 0s 23ms/step - loss: 0.2802 - accuracy: 0.9083 - val_loss: 0.5194 - val_accuracy: 0.8500\n",
            "Epoch 47/80\n",
            "8/8 [==============================] - 0s 31ms/step - loss: 0.2691 - accuracy: 0.9375 - val_loss: 0.5816 - val_accuracy: 0.8167\n",
            "Epoch 48/80\n",
            "8/8 [==============================] - 0s 26ms/step - loss: 0.2859 - accuracy: 0.9042 - val_loss: 0.3953 - val_accuracy: 0.9167\n",
            "Epoch 49/80\n",
            "8/8 [==============================] - 0s 26ms/step - loss: 0.2476 - accuracy: 0.9292 - val_loss: 0.5886 - val_accuracy: 0.7833\n",
            "Epoch 50/80\n",
            "8/8 [==============================] - 0s 24ms/step - loss: 0.2377 - accuracy: 0.9458 - val_loss: 0.4432 - val_accuracy: 0.9000\n",
            "Epoch 51/80\n",
            "8/8 [==============================] - 0s 23ms/step - loss: 0.2479 - accuracy: 0.9208 - val_loss: 0.4228 - val_accuracy: 0.9167\n",
            "Epoch 52/80\n",
            "8/8 [==============================] - 0s 26ms/step - loss: 0.2472 - accuracy: 0.9250 - val_loss: 0.5870 - val_accuracy: 0.8167\n",
            "Epoch 53/80\n",
            "8/8 [==============================] - 0s 25ms/step - loss: 0.2508 - accuracy: 0.9208 - val_loss: 0.4439 - val_accuracy: 0.9167\n",
            "Epoch 54/80\n",
            "8/8 [==============================] - 0s 27ms/step - loss: 0.2876 - accuracy: 0.8958 - val_loss: 0.6496 - val_accuracy: 0.7833\n",
            "Epoch 55/80\n",
            "8/8 [==============================] - 0s 27ms/step - loss: 0.2416 - accuracy: 0.9250 - val_loss: 0.3554 - val_accuracy: 0.9167\n",
            "Epoch 56/80\n",
            "8/8 [==============================] - 0s 25ms/step - loss: 0.2152 - accuracy: 0.9542 - val_loss: 0.3999 - val_accuracy: 0.9167\n",
            "Epoch 57/80\n",
            "8/8 [==============================] - 0s 27ms/step - loss: 0.2213 - accuracy: 0.9292 - val_loss: 0.6009 - val_accuracy: 0.7833\n",
            "Epoch 58/80\n",
            "8/8 [==============================] - 0s 27ms/step - loss: 0.2234 - accuracy: 0.9417 - val_loss: 0.3300 - val_accuracy: 0.9167\n",
            "Epoch 59/80\n",
            "8/8 [==============================] - 0s 25ms/step - loss: 0.2733 - accuracy: 0.9125 - val_loss: 0.4242 - val_accuracy: 0.9167\n",
            "Epoch 60/80\n",
            "8/8 [==============================] - 0s 25ms/step - loss: 0.2267 - accuracy: 0.9292 - val_loss: 0.4363 - val_accuracy: 0.9000\n",
            "Epoch 61/80\n",
            "8/8 [==============================] - 0s 23ms/step - loss: 0.2317 - accuracy: 0.9083 - val_loss: 0.4066 - val_accuracy: 0.9167\n",
            "Epoch 62/80\n",
            "8/8 [==============================] - 0s 26ms/step - loss: 0.2202 - accuracy: 0.9333 - val_loss: 0.3971 - val_accuracy: 0.9167\n",
            "Epoch 63/80\n",
            "8/8 [==============================] - 0s 27ms/step - loss: 0.2173 - accuracy: 0.9500 - val_loss: 0.3862 - val_accuracy: 0.9167\n",
            "Epoch 64/80\n",
            "8/8 [==============================] - 0s 25ms/step - loss: 0.2048 - accuracy: 0.9375 - val_loss: 0.4834 - val_accuracy: 0.8500\n",
            "Epoch 65/80\n",
            "8/8 [==============================] - 0s 27ms/step - loss: 0.1841 - accuracy: 0.9667 - val_loss: 0.3290 - val_accuracy: 0.9167\n",
            "Epoch 66/80\n",
            "8/8 [==============================] - 0s 27ms/step - loss: 0.1756 - accuracy: 0.9667 - val_loss: 0.4011 - val_accuracy: 0.9167\n",
            "Epoch 67/80\n",
            "8/8 [==============================] - 0s 26ms/step - loss: 0.1790 - accuracy: 0.9542 - val_loss: 0.4438 - val_accuracy: 0.9000\n",
            "Epoch 68/80\n",
            "8/8 [==============================] - 0s 27ms/step - loss: 0.1670 - accuracy: 0.9708 - val_loss: 0.3620 - val_accuracy: 0.9167\n",
            "Epoch 69/80\n",
            "8/8 [==============================] - 0s 31ms/step - loss: 0.1626 - accuracy: 0.9667 - val_loss: 0.3680 - val_accuracy: 0.9167\n",
            "Epoch 70/80\n",
            "8/8 [==============================] - 0s 26ms/step - loss: 0.1609 - accuracy: 0.9667 - val_loss: 0.4137 - val_accuracy: 0.9000\n",
            "Epoch 71/80\n",
            "8/8 [==============================] - 0s 27ms/step - loss: 0.1522 - accuracy: 0.9667 - val_loss: 0.3149 - val_accuracy: 0.9167\n",
            "Epoch 72/80\n",
            "8/8 [==============================] - 0s 24ms/step - loss: 0.1582 - accuracy: 0.9667 - val_loss: 0.4396 - val_accuracy: 0.9000\n",
            "Epoch 73/80\n",
            "8/8 [==============================] - 0s 24ms/step - loss: 0.1494 - accuracy: 0.9500 - val_loss: 0.2935 - val_accuracy: 0.9167\n",
            "Epoch 74/80\n",
            "8/8 [==============================] - 0s 24ms/step - loss: 0.1395 - accuracy: 0.9625 - val_loss: 0.3809 - val_accuracy: 0.9167\n",
            "Epoch 75/80\n",
            "8/8 [==============================] - 0s 25ms/step - loss: 0.1356 - accuracy: 0.9667 - val_loss: 0.2995 - val_accuracy: 0.9167\n",
            "Epoch 76/80\n",
            "8/8 [==============================] - 0s 26ms/step - loss: 0.1374 - accuracy: 0.9667 - val_loss: 0.3194 - val_accuracy: 0.9167\n",
            "Epoch 77/80\n",
            "8/8 [==============================] - 0s 25ms/step - loss: 0.1312 - accuracy: 0.9542 - val_loss: 0.4367 - val_accuracy: 0.9000\n",
            "Epoch 78/80\n",
            "8/8 [==============================] - 0s 25ms/step - loss: 0.1362 - accuracy: 0.9667 - val_loss: 0.2809 - val_accuracy: 0.9167\n",
            "Epoch 79/80\n",
            "8/8 [==============================] - 0s 33ms/step - loss: 0.1206 - accuracy: 0.9583 - val_loss: 0.3381 - val_accuracy: 0.9167\n",
            "Epoch 80/80\n",
            "8/8 [==============================] - 0s 26ms/step - loss: 0.1323 - accuracy: 0.9750 - val_loss: 0.3455 - val_accuracy: 0.9167\n"
          ]
        }
      ]
    },
    {
      "cell_type": "code",
      "source": [
        "plt.plot(history.history['accuracy'])\n",
        "plt.plot(history.history['val_accuracy'])\n",
        "plt.title('Model accuracy')\n",
        "plt.xlabel('Epoch')\n",
        "plt.ylabel('Accuracy')\n",
        "plt.legend(['Train', 'Test'], loc='upper left')\n",
        "plt.show()"
      ],
      "metadata": {
        "colab": {
          "base_uri": "https://localhost:8080/",
          "height": 295
        },
        "id": "cidV-LSGF5zX",
        "outputId": "d17423f7-f78c-416d-de40-d7746338be3e"
      },
      "execution_count": null,
      "outputs": [
        {
          "output_type": "display_data",
          "data": {
            "text/plain": [
              "<Figure size 432x288 with 1 Axes>"
            ],
            "image/png": "[encoded data removed]"
          },
          "metadata": {
            "needs_background": "light"
          }
        }
      ]
    },
    {
      "cell_type": "code",
      "source": [
        "plt.plot(history.history['loss'])\n",
        "plt.plot(history.history['val_loss'])\n",
        "plt.title('Model loss')\n",
        "plt.xlabel('Epoch')\n",
        "plt.ylabel('Loss')\n",
        "plt.legend(['Train', 'Test'], loc='upper left')\n",
        "plt.show()"
      ],
      "metadata": {
        "colab": {
          "base_uri": "https://localhost:8080/",
          "height": 295
        },
        "id": "00tGeVYqG80Q",
        "outputId": "bae3827b-ee1b-40e9-d5f0-6e2cd6776a77"
      },
      "execution_count": null,
      "outputs": [
        {
          "output_type": "display_data",
          "data": {
            "text/plain": [
              "<Figure size 432x288 with 1 Axes>"
            ],
            "image/png": "[encoded data removed]"
          },
          "metadata": {
            "needs_background": "light"
          }
        }
      ]
    },
    {
      "cell_type": "markdown",
      "source": [
        "# Resize Test Images"
      ],
      "metadata": {
        "id": "3y878lXXBBBj"
      }
    },
    {
      "cell_type": "code",
      "source": [
        "\n",
        "image_dir_path = \"/content/drive/MyDrive/Colab Notebooks/data/rps/paper\"\n",
        "resize_images(image_dir_path)\n",
        "\n",
        "image_dir_path = \"/content/drive/MyDrive/Colab Notebooks/data/rps/rock\"\n",
        "resize_images(image_dir_path)\n",
        "\n",
        "image_dir_path = \"/content/drive/MyDrive/Colab Notebooks/data/rps/scissor\"\n",
        "resize_images(image_dir_path)"
      ],
      "metadata": {
        "colab": {
          "base_uri": "https://localhost:8080/"
        },
        "id": "m-6hWplYcOKZ",
        "outputId": "f5bded9a-0f8a-42e4-dec8-f56f8c714773"
      },
      "execution_count": null,
      "outputs": [
        {
          "output_type": "stream",
          "name": "stdout",
          "text": [
            "100  images to be resized.\n",
            "100  images resized.\n",
            "100  images to be resized.\n",
            "100  images resized.\n",
            "100  images to be resized.\n",
            "100  images resized.\n"
          ]
        }
      ]
    },
    {
      "cell_type": "code",
      "source": [
        "image_dir_path = \"/content/drive/MyDrive/Colab Notebooks/data/rps\"\n",
        "(x_test, y_test)=load_data(image_dir_path)\n",
        "x_test_norm = x_test/255.0   # 입력은 0~1 사이의 값으로 정규화\n",
        "\n",
        "print(\"x_test shape: {}\".format(x_test.shape))\n",
        "print(\"y_test shape: {}\".format(y_test.shape))"
      ],
      "metadata": {
        "colab": {
          "base_uri": "https://localhost:8080/"
        },
        "id": "bhKXN6Uvajs3",
        "outputId": "e6ae546b-ee27-4613-f5bb-c17e638e8c26"
      },
      "execution_count": null,
      "outputs": [
        {
          "output_type": "stream",
          "name": "stdout",
          "text": [
            "x_test shape: (300, 28, 28, 3)\n",
            "y_test shape: (300,)\n"
          ]
        }
      ]
    },
    {
      "cell_type": "code",
      "source": [
        "plt.imshow(x_test[0])\n",
        "print('라벨: ', y_test[0])"
      ],
      "metadata": {
        "colab": {
          "base_uri": "https://localhost:8080/",
          "height": 282
        },
        "id": "I0WB5-pugZj0",
        "outputId": "3faa8337-2772-4b82-d9f5-0982df8bf51b"
      },
      "execution_count": null,
      "outputs": [
        {
          "output_type": "stream",
          "name": "stdout",
          "text": [
            "라벨:  0\n"
          ]
        },
        {
          "output_type": "display_data",
          "data": {
            "text/plain": [
              "<Figure size 432x288 with 1 Axes>"
            ],
            "image/png": "[encoded data removed]"
          },
          "metadata": {
            "needs_background": "light"
          }
        }
      ]
    },
    {
      "cell_type": "code",
      "source": [
        "x_test_reshaped=x_test_norm.reshape( -1, 28, 28, 3)"
      ],
      "metadata": {
        "id": "issq4JfkfwK7"
      },
      "execution_count": null,
      "outputs": []
    },
    {
      "cell_type": "markdown",
      "source": [
        "# Result"
      ],
      "metadata": {
        "id": "QZft25RvBX9G"
      }
    },
    {
      "cell_type": "code",
      "source": [
        "test_loss, test_accuracy = model.evaluate(x_test_reshaped,y_test, verbose=2)\n",
        "print(f\"test_loss: {test_loss}\")\n",
        "print(f\"test_accuracy: {test_accuracy}\")"
      ],
      "metadata": {
        "colab": {
          "base_uri": "https://localhost:8080/"
        },
        "id": "ZtYzhISqfrty",
        "outputId": "635a78e1-1b6c-4b09-bef5-5bc0813a4cf6"
      },
      "execution_count": null,
      "outputs": [
        {
          "output_type": "stream",
          "name": "stdout",
          "text": [
            "10/10 - 0s - loss: 1.4847 - accuracy: 0.5700 - 143ms/epoch - 14ms/step\n",
            "test_loss: 1.484686017036438\n",
            "test_accuracy: 0.5699999928474426\n"
          ]
        }
      ]
    }
  ]
}