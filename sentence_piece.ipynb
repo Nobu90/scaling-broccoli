{
  "nbformat": 4,
  "nbformat_minor": 0,
  "metadata": {
    "colab": {
      "provenance": [],
      "collapsed_sections": [
        "tfVF-Gf-SnG4",
        "n0Os04Y9DeiG"
      ],
      "toc_visible": true,
      "authorship_tag": "ABX9TyO6XqxGgAovpVw0EKFEA8nR",
      "include_colab_link": true
    },
    "kernelspec": {
      "name": "python3",
      "display_name": "Python 3"
    },
    "language_info": {
      "name": "python"
    },
    "accelerator": "GPU",
    "gpuClass": "standard"
  },
  "cells": [
    {
      "cell_type": "markdown",
      "metadata": {
        "id": "view-in-github",
        "colab_type": "text"
      },
      "source": [
        "<a href=\"https://colab.research.google.com/github/Nobu90/scaling-broccoli/blob/main/sentence_piece.ipynb\" target=\"_parent\"><img src=\"https://colab.research.google.com/assets/colab-badge.svg\" alt=\"Open In Colab\"/></a>"
      ]
    },
    {
      "cell_type": "markdown",
      "source": [
        "# 루브릭 "
      ],
      "metadata": {
        "id": "tfVF-Gf-SnG4"
      }
    },
    {
      "cell_type": "markdown",
      "source": [
        "|평가 문항|상세 기준|\n",
        "|:---|:---|\n",
        "|1. SentencePiece를 이용하여 모델을 만들기까지의 과정이 정상적으로 진행되었는가?| 코퍼스 분석, 전처리, SentencePiece 적용, 토크나이저 구현 및 동작이 빠짐없이 진행되었는가?|\n",
        "|2. SentencePiece를 통해 만든 Tokenizer가 자연어처리 모델과 결합하여 동작하는가?|SentencePiece 토크나이저가 적용된 Text Classifier 모델이 정상적으로 수렴하여 80% 이상의 test accuracy가 확인되었다.|\n",
        "|3. SentencePiece의 성능을 다각도로 비교분석하였는가?|SentencePiece 토크나이저를 활용했을 때의 성능을 다른 토크나이저 혹은 SentencePiece의 다른 옵션의 경우와 비교하여 분석을 체계적으로 진행하였다.|"
      ],
      "metadata": {
        "id": "5LIsgvdR82MB"
      }
    },
    {
      "cell_type": "markdown",
      "source": [
        "# 환경 세팅"
      ],
      "metadata": {
        "id": "n0Os04Y9DeiG"
      }
    },
    {
      "cell_type": "code",
      "execution_count": null,
      "metadata": {
        "id": "EimNRkwSrtEK"
      },
      "outputs": [],
      "source": [
        "! pip install sentencepiece\n",
        "! pip install matplotlib\n",
        "!sudo apt-get install g++ openjdk-7-jdk python-dev python3-dev   \n",
        "!pip3 install JPype1-py3\n",
        "!pip3 install konlpy   \n",
        "!sudo apt-get install curl\n",
        "!bash <(curl -s https://raw.githubusercontent.com/konlpy/konlpy/master/scripts/mecab.sh)"
      ]
    },
    {
      "cell_type": "code",
      "source": [
        "from google.colab import drive\n",
        "drive.mount('/content/drive')"
      ],
      "metadata": {
        "id": "8dkiyfvT9Qdg"
      },
      "execution_count": null,
      "outputs": []
    },
    {
      "cell_type": "code",
      "source": [
        "import pandas as pd\n",
        "import numpy as np\n",
        "\n",
        "import konlpy\n",
        "from konlpy.tag import Mecab\n",
        "\n",
        "from sklearn.model_selection import train_test_split\n",
        "import matplotlib.pyplot as plt \n",
        "\n",
        "import tensorflow as tf\n",
        "from tensorflow import keras\n",
        "from tensorflow.python.keras.initializers import Constant\n",
        "\n",
        "import gensim\n",
        "from gensim.models.keyedvectors import Word2VecKeyedVectors\n",
        "from gensim.models import KeyedVectors\n",
        "\n",
        "from collections import Counter\n",
        "\n",
        "import sentencepiece as spm\n",
        "import time\n",
        "import os\n",
        "\n",
        "import nltk\n",
        "nltk.download('punkt')\n",
        "\n",
        "from nltk.corpus import stopwords \n",
        "from nltk.tokenize import word_tokenize \n",
        "\n",
        "print(tf.__version__)\n",
        "print(np.__version__)\n",
        "print(pd.__version__)\n",
        "print(konlpy.__version__)\n",
        "print(gensim.__version__)\n",
        "!python --version"
      ],
      "metadata": {
        "id": "QnLDcLrOr8uJ"
      },
      "execution_count": null,
      "outputs": []
    },
    {
      "cell_type": "markdown",
      "source": [
        "# Mecab - Morphs"
      ],
      "metadata": {
        "id": "Jou47f78mMvo"
      }
    },
    {
      "cell_type": "markdown",
      "source": [
        "## 데이터 로드"
      ],
      "metadata": {
        "id": "xLFvqulgUQnh"
      }
    },
    {
      "cell_type": "code",
      "source": [
        "train_data = pd.read_table('/content/drive/MyDrive/Exploration/e08/data/ratings_train.txt')\n",
        "test_data = pd.read_table('/content/drive/MyDrive/Exploration/e08/data/ratings_test.txt')"
      ],
      "metadata": {
        "id": "GwSbfmgk9ap2"
      },
      "execution_count": 525,
      "outputs": []
    },
    {
      "cell_type": "markdown",
      "source": [
        "## 결측치 및 중복값 제거"
      ],
      "metadata": {
        "id": "bLRKZdxLmTEf"
      }
    },
    {
      "cell_type": "code",
      "source": [
        "train_data.drop_duplicates(subset=['document'], inplace=True)\n",
        "train_data = train_data.dropna(how = 'any') \n",
        "test_data.drop_duplicates(subset=['document'], inplace=True)\n",
        "test_data = test_data.dropna(how = 'any') "
      ],
      "metadata": {
        "id": "taIdNtRfWnD9"
      },
      "execution_count": 526,
      "outputs": []
    },
    {
      "cell_type": "markdown",
      "source": [
        "## 문장 길이 분석"
      ],
      "metadata": {
        "id": "R-Pau5ComXlv"
      }
    },
    {
      "cell_type": "code",
      "source": [
        "min_len = 999\n",
        "max_len = 0\n",
        "sum_len = 0\n",
        "\n",
        "for sen in train_data['document']:\n",
        "    length = len(sen)\n",
        "    if min_len > length: min_len = length\n",
        "    if max_len < length: max_len = length\n",
        "    sum_len += length\n",
        "\n",
        "print(\"문장의 최단 길이:\", min_len)\n",
        "print(\"문장의 최장 길이:\", max_len)\n",
        "print(\"문장의 평균 길이:\", sum_len // len(train_data['document']))\n",
        "\n",
        "sentence_length = np.zeros((max_len), dtype=int)\n",
        "\n",
        "for sen in train_data['document']:\n",
        "    sentence_length[len(sen)-1] += 1\n",
        "\n",
        "plt.bar(range(max_len), sentence_length, width=0.5)\n",
        "plt.title(\"Sentence Length Distribution\")\n",
        "plt.show()"
      ],
      "metadata": {
        "colab": {
          "base_uri": "https://localhost:8080/",
          "height": 333
        },
        "id": "5f0-Y618962y",
        "outputId": "dd15f8ce-9bee-480c-e677-f8d10b7a00bd"
      },
      "execution_count": 527,
      "outputs": [
        {
          "output_type": "stream",
          "name": "stdout",
          "text": [
            "문장의 최단 길이: 1\n",
            "문장의 최장 길이: 146\n",
            "문장의 평균 길이: 35\n"
          ]
        },
        {
          "output_type": "display_data",
          "data": {
            "text/plain": [
              "<Figure size 432x288 with 1 Axes>"
            ],
            "image/png": "[encoded data removed]"
          },
          "metadata": {
            "needs_background": "light"
          }
        }
      ]
    },
    {
      "cell_type": "code",
      "source": [
        "def check_sentence_with_length(raw, length):\n",
        "    count = 0\n",
        "    \n",
        "    for sen in train_data['document']:\n",
        "        if len(sen) == length:\n",
        "            print(sen)\n",
        "            count += 1\n",
        "            if count > 100: return\n",
        "\n",
        "check_sentence_with_length(train_data['document'], 1)"
      ],
      "metadata": {
        "id": "PjE-yHzn-1xD",
        "colab": {
          "base_uri": "https://localhost:8080/"
        },
        "outputId": "404c2af9-9d93-4b31-c09f-cbf77b252d97"
      },
      "execution_count": 528,
      "outputs": [
        {
          "output_type": "stream",
          "name": "stdout",
          "text": [
            "아\n",
            "잼\n",
            "1\n",
            "4\n",
            "굿\n",
            "짱\n",
            "휴\n",
            ".\n",
            "음\n",
            "?\n",
            "ㅎ\n",
            "ㅋ\n",
            "즐\n",
            "♥\n",
            "굳\n",
            "네\n",
            "ㅇ\n",
            "k\n",
            "ㅠ\n",
            "쒯\n",
            "♬\n",
            "토\n",
            "O\n",
            "똥\n",
            "z\n",
            "헐\n",
            "삼\n",
            "꽝\n",
            "!\n",
            "풉\n",
            "ㅅ\n",
            "왜\n",
            "ㄴ\n",
            "쉣\n",
            "봐\n",
            "뿌\n",
            "ㅜ\n",
            "♡\n",
            "ㅁ\n",
            "0\n",
            "ㅉ\n",
            "d\n",
            "흥\n",
            "乃\n",
            "찜\n",
            "귯\n",
            "린\n",
            "시\n",
            "ㅗ\n",
            "a\n",
            "c\n",
            "흠\n",
            "웅\n",
            "ㅣ\n",
            "오\n",
            "9\n",
            "쩜\n",
            "애\n",
            "헝\n",
            "쨩\n",
            "f\n",
            "움\n",
            "ㄳ\n",
            "업\n",
            "헉\n",
            "군\n",
            "b\n",
            ";\n",
            "g\n",
            "올\n",
            "걍\n",
            "허\n",
            "-\n",
            "쀍\n",
            "로\n",
            "ㄹ\n",
            "ㅂ\n",
            "갑\n",
            "즛\n",
            "킥\n",
            "함\n",
            "진\n",
            "ㅡ\n",
            "잠\n",
            "곧\n",
            "ㅍ\n",
            "h\n",
            "·\n",
            "캬\n",
            "ㅆ\n",
            ",\n",
            "풋\n",
            "ㄱ\n",
            "파\n",
            "ㄷ\n",
            "웩\n",
            "꺅\n",
            "욜\n",
            "ㅄ\n",
            "2\n",
            "핡\n"
          ]
        }
      ]
    },
    {
      "cell_type": "code",
      "source": [
        "check_sentence_with_length(train_data['document'], 146)"
      ],
      "metadata": {
        "colab": {
          "base_uri": "https://localhost:8080/"
        },
        "id": "W0mwbAwzDBcs",
        "outputId": "b76eef0d-cffd-49d7-ed70-3c13d069e0b8"
      },
      "execution_count": 529,
      "outputs": [
        {
          "output_type": "stream",
          "name": "stdout",
          "text": [
            "\"스폰으로 먹고사는 방송이라 어쩔수 없다고 하지만. 이건 그냥 비현실적인 자동차만;...독일3사&슈퍼카 홍보 프로그램도 아니구.대중적인 자동차 방송으로 이루어 졌으면 합니다. 보는내내 \"\"카탈로그 책자\"\"를 \"\"동영상으로 보여주는 방송\"\" 같아서 씁쓸하네요.!\"\n",
            "\"\"\"니 짓은 생각않고, 웬 복수!\"\"의 교훈이라! 그럼 \"\"서바이벌 액션\"\"으로 홍보하면 안되지! 초반 45분은 멋지게 열더니.. 억지 반전, 하드고어로 시간끌다가, 허둥지둥 화해로 끝내버리네. 90분 러닝타임에 엔딩자막만 11분 틀어주는 해괴망측한 영화~!\"\n",
            "\"2007.02.25_ 벌교의 한 국밥집_ 점심: \"\"갸는 첫째고, 저 놈은 우리 둘째~\"\" 재문: \"\"아줌마! 미안해~ 그냥.. 아줌마! 나 그 남방 잘 어울려ㅠ_ㅠ?\"\" 대식에게 복수하려던 1주일 전_ 대식의 엄마를 먼저 만났다. 사랑의 꽃남방도..^-^o\"\n"
          ]
        }
      ]
    },
    {
      "cell_type": "markdown",
      "source": [
        "## 문장 길이 조절"
      ],
      "metadata": {
        "id": "jz4hznid9lZ4"
      }
    },
    {
      "cell_type": "code",
      "source": [
        "max_len = 60\n",
        "min_len = 5\n",
        "\n",
        "train_data = train_data.loc[(train_data['document'].str.len() >= min_len) & (train_data['document'].str.len() < max_len)]\n",
        "y_train = train_data.loc[(train_data['document'].str.len() >= min_len) & (train_data['document'].str.len() < max_len)]\n",
        "\n",
        "test_data = test_data.loc[(test_data['document'].str.len() >= min_len) & (test_data['document'].str.len() < max_len)]\n",
        "y_test = test_data.loc[(test_data['document'].str.len() >= min_len) & (test_data['document'].str.len() < max_len)]\n",
        "\n",
        "print(train_data.shape)\n",
        "print(test_data.shape)"
      ],
      "metadata": {
        "id": "i3bpUXrLcbYu",
        "colab": {
          "base_uri": "https://localhost:8080/"
        },
        "outputId": "1285c8f1-3f48-4c03-8ffb-f2eae1c286d4"
      },
      "execution_count": 530,
      "outputs": [
        {
          "output_type": "stream",
          "name": "stdout",
          "text": [
            "(123040, 3)\n",
            "(41198, 3)\n"
          ]
        }
      ]
    },
    {
      "cell_type": "code",
      "source": [
        "sentence_length = np.zeros((max_len), dtype=int)\n",
        "\n",
        "for sen in train_data['document']:\n",
        "    sentence_length[len(sen)-1] += 1\n",
        "\n",
        "plt.bar(range(max_len), sentence_length, width=1.0)\n",
        "plt.title(\"Sentence Length Distribution\")\n",
        "plt.show()"
      ],
      "metadata": {
        "colab": {
          "base_uri": "https://localhost:8080/",
          "height": 281
        },
        "id": "qGoEntdbDQjF",
        "outputId": "519db411-554b-4d69-f741-ad1887ab27d7"
      },
      "execution_count": 531,
      "outputs": [
        {
          "output_type": "display_data",
          "data": {
            "text/plain": [
              "<Figure size 432x288 with 1 Axes>"
            ],
            "image/png": "[encoded data removed]"
          },
          "metadata": {
            "needs_background": "light"
          }
        }
      ]
    },
    {
      "cell_type": "code",
      "source": [
        "print(train_data.shape)\n",
        "print(test_data.shape)"
      ],
      "metadata": {
        "colab": {
          "base_uri": "https://localhost:8080/"
        },
        "id": "RJ2OmquChFHZ",
        "outputId": "a04404bd-5d42-4ac7-fc28-f91c6bbf600c"
      },
      "execution_count": 532,
      "outputs": [
        {
          "output_type": "stream",
          "name": "stdout",
          "text": [
            "(123040, 3)\n",
            "(41198, 3)\n"
          ]
        }
      ]
    },
    {
      "cell_type": "markdown",
      "source": [
        "## 불용어 제거 및 토큰화"
      ],
      "metadata": {
        "id": "2MUb4AVoWo2O"
      }
    },
    {
      "cell_type": "code",
      "source": [
        "start = time.time()\n",
        "\n",
        "tokenizer = Mecab()\n",
        "stopwords = ['의','가','이','은','들','는','좀','잘','걍','과','도','를','으로','자','에','와','한','하다']\n",
        "\n",
        "def load_data(train_data, test_data, num_words=50000):\n",
        "  \n",
        "    X_train = []\n",
        "    for sentence in train_data['document']:\n",
        "        temp_X = tokenizer.morphs(sentence) \n",
        "        temp_X = [word for word in temp_X if not word in stopwords] \n",
        "        X_train.append(temp_X)\n",
        "\n",
        "    X_test = []\n",
        "    for sentence in test_data['document']:\n",
        "        temp_X = tokenizer.morphs(sentence) \n",
        "        temp_X = [word for word in temp_X if not word in stopwords] \n",
        "        X_test.append(temp_X)\n",
        "    \n",
        "    words = np.concatenate(X_train).tolist()\n",
        "    counter = Counter(words)\n",
        "    counter = counter.most_common(50000-4)\n",
        "    vocab = ['', '', '', ''] + [key for key, _ in counter]\n",
        "    word_to_index = {word:index for index, word in enumerate(vocab)}\n",
        "        \n",
        "    def wordlist_to_indexlist(wordlist):\n",
        "        return [word_to_index[word] if word in word_to_index else word_to_index[''] for word in wordlist]\n",
        "        \n",
        "    X_train = list(map(wordlist_to_indexlist, X_train))\n",
        "    X_test = list(map(wordlist_to_indexlist, X_test))\n",
        "        \n",
        "    return X_train, np.array(list(train_data['label'])), X_test, np.array(list(test_data['label'])), word_to_index\n",
        "    \n",
        "X_train, y_train, X_test, y_test, word_to_index = load_data(train_data, test_data) \n",
        "\n",
        "end = time.time()\n",
        "print(end - start)"
      ],
      "metadata": {
        "id": "k6sd7je_A-u2",
        "colab": {
          "base_uri": "https://localhost:8080/"
        },
        "outputId": "d036fa0a-303b-4946-9481-e8cc98c4a638"
      },
      "execution_count": 533,
      "outputs": [
        {
          "output_type": "stream",
          "name": "stdout",
          "text": [
            "32.08212494850159\n"
          ]
        }
      ]
    },
    {
      "cell_type": "code",
      "source": [
        "index_to_word = {index:word for word, index in word_to_index.items()}\n",
        "print(index_to_word[4])\n",
        "print(index_to_word[5])\n",
        "print(word_to_index['영화'])"
      ],
      "metadata": {
        "colab": {
          "base_uri": "https://localhost:8080/"
        },
        "id": "GLmnLjgMWZsj",
        "outputId": "52aa80bd-6d9b-4abb-cbdc-37445e2e5d56"
      },
      "execution_count": 534,
      "outputs": [
        {
          "output_type": "stream",
          "name": "stdout",
          "text": [
            ".\n",
            "영화\n",
            "5\n"
          ]
        }
      ]
    },
    {
      "cell_type": "code",
      "source": [
        "print(len(index_to_word))"
      ],
      "metadata": {
        "colab": {
          "base_uri": "https://localhost:8080/"
        },
        "id": "S_0ELZ5CWazT",
        "outputId": "426077c4-fcd3-473b-eb8b-868560779581"
      },
      "execution_count": 535,
      "outputs": [
        {
          "output_type": "stream",
          "name": "stdout",
          "text": [
            "42710\n"
          ]
        }
      ]
    },
    {
      "cell_type": "code",
      "source": [
        "word_to_index = {k:(v) for k,v in word_to_index.items()}\n",
        "\n",
        "word_to_index[\"<PAD>\"] = 0\n",
        "word_to_index[\"<BOS>\"] = 1\n",
        "word_to_index[\"<UNK>\"] = 2  \n",
        "word_to_index[\"<UNUSED>\"] = 3\n",
        "\n",
        "index_to_word = {index:word for word, index in word_to_index.items()}\n",
        "\n",
        "print(index_to_word[1])    \n",
        "print(word_to_index['the']) \n",
        "print(index_to_word[3]) \n",
        "print(index_to_word[4])    \n",
        "print(index_to_word[5])\n",
        "print(word_to_index['영화'])"
      ],
      "metadata": {
        "colab": {
          "base_uri": "https://localhost:8080/"
        },
        "id": "njhWEOWqW-Dh",
        "outputId": "4771e72f-9168-4790-8305-a3cc4596120c"
      },
      "execution_count": 536,
      "outputs": [
        {
          "output_type": "stream",
          "name": "stdout",
          "text": [
            "<BOS>\n",
            "1906\n",
            "<UNUSED>\n",
            ".\n",
            "영화\n",
            "5\n"
          ]
        }
      ]
    },
    {
      "cell_type": "code",
      "source": [
        "def get_encoded_sentence(sentence, word_to_index):\n",
        "    return [word_to_index['<BOS>']]+[word_to_index[word] if word in word_to_index else word_to_index['<UNK>'] for word in sentence.split()]\n",
        "\n",
        "def get_encoded_sentences(sentences, word_to_index):\n",
        "    return [get_encoded_sentence(sentence, word_to_index) for sentence in sentences]\n",
        "\n",
        "def get_decoded_sentence(encoded_sentence, index_to_word):\n",
        "    return ' '.join(index_to_word[index] if index in index_to_word else '<UNK>' for index in encoded_sentence[1:])  \n",
        "\n",
        "def get_decoded_sentences(encoded_sentences, index_to_word):\n",
        "    return [get_decoded_sentence(encoded_sentence, index_to_word) for encoded_sentence in encoded_sentences]"
      ],
      "metadata": {
        "id": "c2nzS9TZXBA1"
      },
      "execution_count": 537,
      "outputs": []
    },
    {
      "cell_type": "markdown",
      "source": [
        "## 패딩 추가"
      ],
      "metadata": {
        "id": "KL9T1dZ_cZQT"
      }
    },
    {
      "cell_type": "code",
      "source": [
        "train_data = tf.keras.preprocessing.sequence.pad_sequences(X_train,\n",
        "                                                        value=word_to_index[\"<PAD>\"],\n",
        "                                                        padding='pre',\n",
        "                                                        maxlen=60)\n",
        "\n",
        "test_data = tf.keras.preprocessing.sequence.pad_sequences(X_test,\n",
        "                                                       value=word_to_index[\"<PAD>\"],\n",
        "                                                       padding='pre',\n",
        "                                                       maxlen=60)\n",
        "\n",
        "print(train_data.shape)\n",
        "print(test_data.shape)"
      ],
      "metadata": {
        "colab": {
          "base_uri": "https://localhost:8080/"
        },
        "id": "kncbWAQPXjiK",
        "outputId": "e0dab684-3577-4868-ba86-db83b354d233"
      },
      "execution_count": 538,
      "outputs": [
        {
          "output_type": "stream",
          "name": "stdout",
          "text": [
            "(123040, 60)\n",
            "(41198, 60)\n"
          ]
        }
      ]
    },
    {
      "cell_type": "markdown",
      "source": [
        "## 데이터 분리"
      ],
      "metadata": {
        "id": "2DhCE2HmZuld"
      }
    },
    {
      "cell_type": "code",
      "source": [
        "X_train, X_val, y_train, y_val = train_test_split(train_data, y_train, test_size=0.2, shuffle=True, random_state=34)"
      ],
      "metadata": {
        "id": "uqf3_xgoX1sk"
      },
      "execution_count": 539,
      "outputs": []
    },
    {
      "cell_type": "markdown",
      "source": [
        "## 임베딩 사이즈 및 차원 설정"
      ],
      "metadata": {
        "id": "1RDia2YiZx-I"
      }
    },
    {
      "cell_type": "code",
      "source": [
        "vocab_size = 50000\n",
        "word_vector_dim = 100"
      ],
      "metadata": {
        "id": "cJhPycz9RUVY"
      },
      "execution_count": 540,
      "outputs": []
    },
    {
      "cell_type": "markdown",
      "source": [
        "## Mecab_morphs_lstm 모델"
      ],
      "metadata": {
        "id": "BiPy1iW1Z_iT"
      }
    },
    {
      "cell_type": "code",
      "source": [
        "lstm_model = tf.keras.Sequential()\n",
        "lstm_model.add(tf.keras.layers.Embedding(vocab_size, word_vector_dim, input_shape=(None,)))\n",
        "lstm_model.add(tf.keras.layers.LSTM(256))   \n",
        "lstm_model.add(tf.keras.layers.Dense(8, activation='relu'))\n",
        "lstm_model.add(tf.keras.layers.Dense(1, activation='sigmoid'))  \n",
        "\n",
        "lstm_model.summary()"
      ],
      "metadata": {
        "colab": {
          "base_uri": "https://localhost:8080/"
        },
        "id": "QT-WBIqaX_AE",
        "outputId": "915e98f2-5ee6-4063-85cf-89b9cecb738e"
      },
      "execution_count": 541,
      "outputs": [
        {
          "output_type": "stream",
          "name": "stdout",
          "text": [
            "Model: \"sequential_18\"\n",
            "_________________________________________________________________\n",
            " Layer (type)                Output Shape              Param #   \n",
            "=================================================================\n",
            " embedding_18 (Embedding)    (None, None, 100)         5000000   \n",
            "                                                                 \n",
            " lstm_18 (LSTM)              (None, 256)               365568    \n",
            "                                                                 \n",
            " dense_36 (Dense)            (None, 8)                 2056      \n",
            "                                                                 \n",
            " dense_37 (Dense)            (None, 1)                 9         \n",
            "                                                                 \n",
            "=================================================================\n",
            "Total params: 5,367,633\n",
            "Trainable params: 5,367,633\n",
            "Non-trainable params: 0\n",
            "_________________________________________________________________\n"
          ]
        }
      ]
    },
    {
      "cell_type": "markdown",
      "source": [
        "## 컴파일 및 학습"
      ],
      "metadata": {
        "id": "lKKq6klOaYvL"
      }
    },
    {
      "cell_type": "code",
      "source": [
        "start = time.time()\n",
        "\n",
        "lstm_model.compile(optimizer='adam',\n",
        "              loss='binary_crossentropy',\n",
        "              metrics=['accuracy'])\n",
        "              \n",
        "epochs=5\n",
        "\n",
        "lstm_history = lstm_model.fit(X_train,\n",
        "                    y_train,\n",
        "                    epochs=epochs,\n",
        "                    batch_size=512,\n",
        "                    validation_data=(X_val, y_val),\n",
        "                    verbose=1)\n",
        "\n",
        "end = time.time()\n",
        "print(end - start)"
      ],
      "metadata": {
        "colab": {
          "base_uri": "https://localhost:8080/"
        },
        "id": "KaA9L_4zYAz6",
        "outputId": "627f89b6-30e3-46b7-c2bf-e83fecc811d0"
      },
      "execution_count": 542,
      "outputs": [
        {
          "output_type": "stream",
          "name": "stdout",
          "text": [
            "Epoch 1/5\n",
            "193/193 [==============================] - 27s 120ms/step - loss: 0.4602 - accuracy: 0.7852 - val_loss: 0.3622 - val_accuracy: 0.8411\n",
            "Epoch 2/5\n",
            "193/193 [==============================] - 11s 59ms/step - loss: 0.3098 - accuracy: 0.8727 - val_loss: 0.3587 - val_accuracy: 0.8453\n",
            "Epoch 3/5\n",
            "193/193 [==============================] - 8s 42ms/step - loss: 0.2589 - accuracy: 0.8981 - val_loss: 0.3705 - val_accuracy: 0.8431\n",
            "Epoch 4/5\n",
            "193/193 [==============================] - 8s 42ms/step - loss: 0.2203 - accuracy: 0.9142 - val_loss: 0.3730 - val_accuracy: 0.8436\n",
            "Epoch 5/5\n",
            "193/193 [==============================] - 7s 36ms/step - loss: 0.1862 - accuracy: 0.9284 - val_loss: 0.4047 - val_accuracy: 0.8430\n",
            "84.63340830802917\n"
          ]
        }
      ]
    },
    {
      "cell_type": "markdown",
      "source": [
        "## 결과 데이터"
      ],
      "metadata": {
        "id": "TvuxDkeladGx"
      }
    },
    {
      "cell_type": "code",
      "source": [
        "lstm_history_dict = lstm_history.history\n",
        "\n",
        "acc = lstm_history_dict['accuracy']\n",
        "val_acc = lstm_history_dict['val_accuracy']\n",
        "loss = lstm_history_dict['loss']\n",
        "val_loss = lstm_history_dict['val_loss']\n",
        "\n",
        "epochs = range(1, len(acc) + 1)\n",
        "\n",
        "\n",
        "plt.plot(epochs, loss, 'bo', label='Training loss')\n",
        "\n",
        "plt.plot(epochs, val_loss, 'b', label='Validation loss')\n",
        "plt.title('Training and validation loss(LSTM)')\n",
        "plt.xlabel('Epochs')\n",
        "plt.ylabel('Loss')\n",
        "plt.legend()\n",
        "\n",
        "plt.show()"
      ],
      "metadata": {
        "colab": {
          "base_uri": "https://localhost:8080/",
          "height": 295
        },
        "id": "_F91f6ktYE_P",
        "outputId": "68973851-b8f1-43fa-d207-999dddb13f2f"
      },
      "execution_count": 543,
      "outputs": [
        {
          "output_type": "display_data",
          "data": {
            "text/plain": [
              "<Figure size 432x288 with 1 Axes>"
            ],
            "image/png": "[encoded data removed]"
          },
          "metadata": {
            "needs_background": "light"
          }
        }
      ]
    },
    {
      "cell_type": "code",
      "source": [
        "plt.clf()   \n",
        "\n",
        "plt.plot(epochs, acc, 'bo', label='Training acc')\n",
        "plt.plot(epochs, val_acc, 'b', label='Validation acc')\n",
        "plt.title('Training and validation accuracy(LSTM)')\n",
        "plt.xlabel('Epochs')\n",
        "plt.ylabel('Accuracy')\n",
        "plt.legend()\n",
        "\n",
        "plt.show()"
      ],
      "metadata": {
        "colab": {
          "base_uri": "https://localhost:8080/",
          "height": 295
        },
        "id": "6y6FLOW-YHJu",
        "outputId": "8054c258-d252-42e5-dfe0-d5b68e327f34"
      },
      "execution_count": 544,
      "outputs": [
        {
          "output_type": "display_data",
          "data": {
            "text/plain": [
              "<Figure size 432x288 with 1 Axes>"
            ],
            "image/png": "[encoded data removed]"
          },
          "metadata": {
            "needs_background": "light"
          }
        }
      ]
    },
    {
      "cell_type": "code",
      "source": [
        "lstm_results = lstm_model.evaluate(test_data,  y_test, verbose=2)\n",
        "\n",
        "print(lstm_results)"
      ],
      "metadata": {
        "colab": {
          "base_uri": "https://localhost:8080/"
        },
        "id": "ktktVwACYIw-",
        "outputId": "b02688d8-403d-42e9-e12f-31ed9b91ff73"
      },
      "execution_count": 545,
      "outputs": [
        {
          "output_type": "stream",
          "name": "stdout",
          "text": [
            "1288/1288 - 5s - loss: 0.4109 - accuracy: 0.8420 - 5s/epoch - 4ms/step\n",
            "[0.4108560383319855, 0.8420311808586121]\n"
          ]
        }
      ]
    },
    {
      "cell_type": "markdown",
      "source": [
        "# Sentencepiece - Unigram"
      ],
      "metadata": {
        "id": "WHq9m4Hb5mMz"
      }
    },
    {
      "cell_type": "markdown",
      "source": [
        "## 데이터 로드"
      ],
      "metadata": {
        "id": "-kCGKZE2qwCv"
      }
    },
    {
      "cell_type": "code",
      "source": [
        "train_data = pd.read_table('/content/drive/MyDrive/Exploration/e08/data/ratings_train.txt')\n",
        "test_data = pd.read_table('/content/drive/MyDrive/Exploration/e08/data/ratings_test.txt')"
      ],
      "metadata": {
        "id": "9oHHelOwqz7z"
      },
      "execution_count": 546,
      "outputs": []
    },
    {
      "cell_type": "markdown",
      "source": [
        "\n",
        "## 결측치 및 중복값 제거"
      ],
      "metadata": {
        "id": "bmEdVgAXq1UP"
      }
    },
    {
      "cell_type": "code",
      "source": [
        "train_data.drop_duplicates(subset=['document'], inplace=True)\n",
        "train_data = train_data.dropna(how = 'any') \n",
        "test_data.drop_duplicates(subset=['document'], inplace=True)\n",
        "test_data = test_data.dropna(how = 'any') "
      ],
      "metadata": {
        "id": "RRQMjuIiq5Ru"
      },
      "execution_count": 547,
      "outputs": []
    },
    {
      "cell_type": "markdown",
      "source": [
        "## 문장 길이 조절"
      ],
      "metadata": {
        "id": "kXDPLJLRc_Ui"
      }
    },
    {
      "cell_type": "code",
      "source": [
        "max_len = 60\n",
        "min_len = 5\n",
        "\n",
        "train_corpus = train_data.loc[(train_data['document'].str.len() >= min_len) & (train_data['document'].str.len() < max_len), 'document']\n",
        "y_train = train_data.loc[(train_data['document'].str.len() >= min_len) & (train_data['document'].str.len() < max_len), 'label']\n",
        "\n",
        "test_corpus = test_data.loc[(test_data['document'].str.len() >= min_len) & (test_data['document'].str.len() < max_len), 'document']\n",
        "y_test = test_data.loc[(test_data['document'].str.len() >= min_len) & (test_data['document'].str.len() < max_len), 'label']\n",
        "\n",
        "print(len(train_corpus))\n",
        "print(len(test_corpus))"
      ],
      "metadata": {
        "colab": {
          "base_uri": "https://localhost:8080/"
        },
        "id": "xOnYcC22c-k_",
        "outputId": "87cf3dc1-cf7b-4aa7-c6c8-61a887e79dbb"
      },
      "execution_count": 548,
      "outputs": [
        {
          "output_type": "stream",
          "name": "stdout",
          "text": [
            "123040\n",
            "41198\n"
          ]
        }
      ]
    },
    {
      "cell_type": "markdown",
      "source": [
        "## Unigram 옵션 학습"
      ],
      "metadata": {
        "id": "9cjFckz5zF9L"
      }
    },
    {
      "cell_type": "code",
      "source": [
        "start = time.time()\n",
        "\n",
        "temp_file = '/content/drive/MyDrive/deepNLP/Sentencepiece_uigram'\n",
        "\n",
        "with open(temp_file, 'w') as f:\n",
        "    for row in train_corpus:   \n",
        "        f.write(str(row) + '\\n')\n",
        "\n",
        "spm.SentencePieceTrainer.Train(\n",
        "    '--input={} --model_prefix=unigram_spm --vocab_size={}'.format(temp_file, vocab_size)    \n",
        ")\n",
        "\n",
        "end = time.time()\n",
        "print(end - start)"
      ],
      "metadata": {
        "colab": {
          "base_uri": "https://localhost:8080/"
        },
        "id": "Mdt5ZEbdr76V",
        "outputId": "8338954c-7c1b-465e-ef12-4f757a80a6af"
      },
      "execution_count": 549,
      "outputs": [
        {
          "output_type": "stream",
          "name": "stdout",
          "text": [
            "17.54297423362732\n"
          ]
        }
      ]
    },
    {
      "cell_type": "markdown",
      "source": [
        "## Unigram 토큰화"
      ],
      "metadata": {
        "id": "a5CHasKkzNCz"
      }
    },
    {
      "cell_type": "code",
      "source": [
        "def sp_tokenize(s, corpus):\n",
        "\n",
        "    tensor = []\n",
        "\n",
        "    for sen in corpus:\n",
        "        tensor.append(s.EncodeAsIds(sen))\n",
        "\n",
        "    with open(\"/content/unigram_spm.vocab\", 'r') as f:\n",
        "        vocab = f.readlines()\n",
        "\n",
        "    word_index = {}\n",
        "    index_word = {}\n",
        "\n",
        "    for idx, line in enumerate(vocab):\n",
        "        word = line.split(\"\\t\")[0]\n",
        "\n",
        "        word_index.update({word:idx})\n",
        "        index_word.update({idx:word})\n",
        "\n",
        "    tensor = tf.keras.preprocessing.sequence.pad_sequences(tensor, padding='pre', maxlen=max_len)\n",
        "\n",
        "    return tensor, word_index, index_word"
      ],
      "metadata": {
        "id": "iHzDM29qfhps"
      },
      "execution_count": 550,
      "outputs": []
    },
    {
      "cell_type": "code",
      "source": [
        "s = spm.SentencePieceProcessor()\n",
        "s.Load('/content/unigram_spm.model')\n",
        "\n",
        "train_data, word_index, index_word = sp_tokenize(s, train_corpus)\n",
        "test_data, word_index, index_word = sp_tokenize(s, test_corpus)\n",
        "\n",
        "print(train_data.shape)\n",
        "print(test_data.shape)"
      ],
      "metadata": {
        "colab": {
          "base_uri": "https://localhost:8080/"
        },
        "id": "CfJj3EUgfj1Q",
        "outputId": "72cea6ab-13c3-49c0-cd0c-9b5dbc010a66"
      },
      "execution_count": 551,
      "outputs": [
        {
          "output_type": "stream",
          "name": "stdout",
          "text": [
            "(123040, 60)\n",
            "(41198, 60)\n"
          ]
        }
      ]
    },
    {
      "cell_type": "markdown",
      "source": [
        "## 데이터 분리"
      ],
      "metadata": {
        "id": "q4wzqNBfRbEb"
      }
    },
    {
      "cell_type": "code",
      "source": [
        "X_train, X_val, y_train, y_val = train_test_split(train_data, y_train, test_size=0.2, shuffle=True, random_state=34)"
      ],
      "metadata": {
        "id": "4_b5u5M97stm"
      },
      "execution_count": 552,
      "outputs": []
    },
    {
      "cell_type": "markdown",
      "source": [
        "## SP_unigram_lstm 모델"
      ],
      "metadata": {
        "id": "HG5vSX8BRgJs"
      }
    },
    {
      "cell_type": "code",
      "source": [
        "ugm_lstm_model = tf.keras.Sequential()\n",
        "ugm_lstm_model.add(tf.keras.layers.Embedding(vocab_size, word_vector_dim, input_shape=(None,)))\n",
        "ugm_lstm_model.add(tf.keras.layers.LSTM(256))   \n",
        "ugm_lstm_model.add(tf.keras.layers.Dense(8, activation='relu'))\n",
        "ugm_lstm_model.add(tf.keras.layers.Dense(1, activation='sigmoid'))  \n",
        "\n",
        "ugm_lstm_model.summary()"
      ],
      "metadata": {
        "colab": {
          "base_uri": "https://localhost:8080/"
        },
        "id": "5pdA8N6ji2aH",
        "outputId": "55411dfb-4158-422d-e4a5-dcf9188f4ef7"
      },
      "execution_count": 553,
      "outputs": [
        {
          "output_type": "stream",
          "name": "stdout",
          "text": [
            "Model: \"sequential_19\"\n",
            "_________________________________________________________________\n",
            " Layer (type)                Output Shape              Param #   \n",
            "=================================================================\n",
            " embedding_19 (Embedding)    (None, None, 100)         5000000   \n",
            "                                                                 \n",
            " lstm_19 (LSTM)              (None, 256)               365568    \n",
            "                                                                 \n",
            " dense_38 (Dense)            (None, 8)                 2056      \n",
            "                                                                 \n",
            " dense_39 (Dense)            (None, 1)                 9         \n",
            "                                                                 \n",
            "=================================================================\n",
            "Total params: 5,367,633\n",
            "Trainable params: 5,367,633\n",
            "Non-trainable params: 0\n",
            "_________________________________________________________________\n"
          ]
        }
      ]
    },
    {
      "cell_type": "markdown",
      "source": [
        "## 컴파일 및 학습"
      ],
      "metadata": {
        "id": "haygEwS_zSIr"
      }
    },
    {
      "cell_type": "code",
      "source": [
        "start = time.time()\n",
        "\n",
        "ugm_lstm_model.compile(optimizer='adam',\n",
        "              loss='binary_crossentropy',\n",
        "              metrics=['accuracy'])\n",
        "              \n",
        "epochs=5\n",
        "\n",
        "ugm_lstm_history = ugm_lstm_model.fit(X_train,\n",
        "                    y_train,\n",
        "                    epochs=epochs,\n",
        "                    batch_size=512,\n",
        "                    validation_data=(X_val, y_val),\n",
        "                    verbose=1)\n",
        "\n",
        "end = time.time()\n",
        "print(end - start)"
      ],
      "metadata": {
        "colab": {
          "base_uri": "https://localhost:8080/"
        },
        "id": "azTnrh1ZjXRy",
        "outputId": "e551872a-bf85-45f8-a923-8965dba80226"
      },
      "execution_count": 554,
      "outputs": [
        {
          "output_type": "stream",
          "name": "stdout",
          "text": [
            "Epoch 1/5\n",
            "193/193 [==============================] - 25s 115ms/step - loss: 0.4763 - accuracy: 0.7757 - val_loss: 0.3696 - val_accuracy: 0.8405\n",
            "Epoch 2/5\n",
            "193/193 [==============================] - 13s 67ms/step - loss: 0.2660 - accuracy: 0.8939 - val_loss: 0.3691 - val_accuracy: 0.8435\n",
            "Epoch 3/5\n",
            "193/193 [==============================] - 11s 56ms/step - loss: 0.1929 - accuracy: 0.9279 - val_loss: 0.4027 - val_accuracy: 0.8375\n",
            "Epoch 4/5\n",
            "193/193 [==============================] - 9s 46ms/step - loss: 0.1392 - accuracy: 0.9509 - val_loss: 0.4540 - val_accuracy: 0.8327\n",
            "Epoch 5/5\n",
            "193/193 [==============================] - 8s 44ms/step - loss: 0.0996 - accuracy: 0.9663 - val_loss: 0.5840 - val_accuracy: 0.8244\n",
            "66.76785683631897\n"
          ]
        }
      ]
    },
    {
      "cell_type": "markdown",
      "source": [
        "## 결과 데이터"
      ],
      "metadata": {
        "id": "oYSepCG-08XB"
      }
    },
    {
      "cell_type": "code",
      "source": [
        "ugm_lstm_history_dict = ugm_lstm_history.history\n",
        "\n",
        "acc = ugm_lstm_history_dict['accuracy']\n",
        "val_acc = ugm_lstm_history_dict['val_accuracy']\n",
        "loss = ugm_lstm_history_dict['loss']\n",
        "val_loss = ugm_lstm_history_dict['val_loss']\n",
        "\n",
        "epochs = range(1, len(acc) + 1)"
      ],
      "metadata": {
        "id": "l_rIZF6Dmlms"
      },
      "execution_count": 555,
      "outputs": []
    },
    {
      "cell_type": "code",
      "source": [
        "plt.plot(epochs, loss, 'bo', label='Training loss')\n",
        "\n",
        "plt.plot(epochs, val_loss, 'b', label='Validation loss')\n",
        "plt.title('Training and validation loss(LSTM)')\n",
        "plt.xlabel('Epochs')\n",
        "plt.ylabel('Loss')\n",
        "plt.legend()\n",
        "\n",
        "plt.show()"
      ],
      "metadata": {
        "colab": {
          "base_uri": "https://localhost:8080/",
          "height": 295
        },
        "id": "xc3H-alOR8Ry",
        "outputId": "f412181c-b41d-4f0a-e553-3eed1025444f"
      },
      "execution_count": 556,
      "outputs": [
        {
          "output_type": "display_data",
          "data": {
            "text/plain": [
              "<Figure size 432x288 with 1 Axes>"
            ],
            "image/png": "[encoded data removed]"
          },
          "metadata": {
            "needs_background": "light"
          }
        }
      ]
    },
    {
      "cell_type": "code",
      "source": [
        "plt.clf()   \n",
        "\n",
        "plt.plot(epochs, acc, 'bo', label='Training acc')\n",
        "plt.plot(epochs, val_acc, 'b', label='Validation acc')\n",
        "plt.title('Training and validation accuracy(LSTM)')\n",
        "plt.xlabel('Epochs')\n",
        "plt.ylabel('Accuracy')\n",
        "plt.legend()\n",
        "\n",
        "plt.show()"
      ],
      "metadata": {
        "colab": {
          "base_uri": "https://localhost:8080/",
          "height": 295
        },
        "id": "nu5mRHQfmm8m",
        "outputId": "6b9bf652-2132-471b-d554-3026130f1025"
      },
      "execution_count": 557,
      "outputs": [
        {
          "output_type": "display_data",
          "data": {
            "text/plain": [
              "<Figure size 432x288 with 1 Axes>"
            ],
            "image/png": "[encoded data removed]"
          },
          "metadata": {
            "needs_background": "light"
          }
        }
      ]
    },
    {
      "cell_type": "code",
      "source": [
        "ugm_lstm_results = ugm_lstm_model.evaluate(test_data,  y_test, verbose=2)"
      ],
      "metadata": {
        "colab": {
          "base_uri": "https://localhost:8080/"
        },
        "id": "MnXzP4swmoLY",
        "outputId": "cde25e02-39bc-4f5e-8cc3-6fdb84fc7a57"
      },
      "execution_count": 558,
      "outputs": [
        {
          "output_type": "stream",
          "name": "stdout",
          "text": [
            "1288/1288 - 5s - loss: 0.5987 - accuracy: 0.8198 - 5s/epoch - 4ms/step\n"
          ]
        }
      ]
    },
    {
      "cell_type": "markdown",
      "source": [
        "# Sentencepiece - BPE"
      ],
      "metadata": {
        "id": "4n5uHZAv7MfA"
      }
    },
    {
      "cell_type": "markdown",
      "source": [
        "## 데이터 로드"
      ],
      "metadata": {
        "id": "Qo0OsMcdz1lO"
      }
    },
    {
      "cell_type": "code",
      "source": [
        "train_data = pd.read_table('/content/drive/MyDrive/Exploration/e08/data/ratings_train.txt')\n",
        "test_data = pd.read_table('/content/drive/MyDrive/Exploration/e08/data/ratings_test.txt')"
      ],
      "metadata": {
        "id": "AIiLeMKhz3zl"
      },
      "execution_count": 559,
      "outputs": []
    },
    {
      "cell_type": "markdown",
      "source": [
        "## 결측치 및 중복값 제거"
      ],
      "metadata": {
        "id": "VCc_7HPhz6M3"
      }
    },
    {
      "cell_type": "code",
      "source": [
        "train_data.drop_duplicates(subset=['document'], inplace=True)\n",
        "train_data = train_data.dropna(how = 'any') \n",
        "test_data.drop_duplicates(subset=['document'], inplace=True)\n",
        "test_data = test_data.dropna(how = 'any') "
      ],
      "metadata": {
        "id": "SVXyp6rfz8en"
      },
      "execution_count": 560,
      "outputs": []
    },
    {
      "cell_type": "markdown",
      "source": [
        "## 문장 길이 조절"
      ],
      "metadata": {
        "id": "ceuuZQx9z_1c"
      }
    },
    {
      "cell_type": "code",
      "source": [
        "max_len = 60\n",
        "min_len = 5\n",
        "\n",
        "train_corpus = train_data.loc[(train_data['document'].str.len() >= min_len) & (train_data['document'].str.len() < max_len), 'document']\n",
        "y_train = train_data.loc[(train_data['document'].str.len() >= min_len) & (train_data['document'].str.len() < max_len), 'label']\n",
        "\n",
        "test_corpus = test_data.loc[(test_data['document'].str.len() >= min_len) & (test_data['document'].str.len() < max_len), 'document']\n",
        "y_test = test_data.loc[(test_data['document'].str.len() >= min_len) & (test_data['document'].str.len() < max_len), 'label']\n",
        "\n",
        "print(len(train_corpus))\n",
        "print(len(test_corpus))"
      ],
      "metadata": {
        "colab": {
          "base_uri": "https://localhost:8080/"
        },
        "id": "U_nq4z-60DgQ",
        "outputId": "14ad9245-a09a-4914-82a5-d5c0e2a4e397"
      },
      "execution_count": 561,
      "outputs": [
        {
          "output_type": "stream",
          "name": "stdout",
          "text": [
            "123040\n",
            "41198\n"
          ]
        }
      ]
    },
    {
      "cell_type": "markdown",
      "source": [
        "## BPE 옵션 학습"
      ],
      "metadata": {
        "id": "45eW5hUjxtEf"
      }
    },
    {
      "cell_type": "code",
      "source": [
        "start = time.time()\n",
        "\n",
        "temp_file = '/content/drive/MyDrive/deepNLP/Sentencepiece_bpe'\n",
        "\n",
        "with open(temp_file, 'w') as f:\n",
        "    for row in train_corpus:   \n",
        "        f.write(str(row) + '\\n')\n",
        "\n",
        "spm.SentencePieceTrainer.Train(\n",
        "    '--input={} --model_prefix=bpe_spm --vocab_size={} --model_type=bpe'.format(temp_file, vocab_size)    \n",
        ")\n",
        "\n",
        "end = time.time()\n",
        "print(end - start)"
      ],
      "metadata": {
        "colab": {
          "base_uri": "https://localhost:8080/"
        },
        "id": "GGJ1eB0Pp4df",
        "outputId": "4f157931-1699-41fe-ae0b-4aeb24e5bd37"
      },
      "execution_count": 562,
      "outputs": [
        {
          "output_type": "stream",
          "name": "stdout",
          "text": [
            "99.36567306518555\n"
          ]
        }
      ]
    },
    {
      "cell_type": "markdown",
      "source": [
        "## BPE 토큰화"
      ],
      "metadata": {
        "id": "TZSxgxHj0kja"
      }
    },
    {
      "cell_type": "code",
      "source": [
        "def sp_tokenize(s, corpus):\n",
        "\n",
        "    tensor = []\n",
        "\n",
        "    for sen in corpus:\n",
        "        tensor.append(s.EncodeAsIds(sen))\n",
        "\n",
        "    with open(\"./bpe_spm.vocab\", 'r') as f:\n",
        "        vocab = f.readlines()\n",
        "\n",
        "    word_index = {}\n",
        "    index_word = {}\n",
        "\n",
        "    for idx, line in enumerate(vocab):\n",
        "        word = line.split(\"\\t\")[0]\n",
        "\n",
        "        word_index.update({word:idx})\n",
        "        index_word.update({idx:word})\n",
        "\n",
        "    tensor = tf.keras.preprocessing.sequence.pad_sequences(tensor, padding='pre', maxlen=max_len)\n",
        "\n",
        "    return tensor, word_index, index_word"
      ],
      "metadata": {
        "id": "1ZWhucXexZBI"
      },
      "execution_count": 563,
      "outputs": []
    },
    {
      "cell_type": "code",
      "source": [
        "s = spm.SentencePieceProcessor()\n",
        "s.Load('/content/bpe_spm.model')\n",
        "\n",
        "train_data, word_index, index_word = sp_tokenize(s, train_corpus)\n",
        "test_data, word_index, index_word = sp_tokenize(s, test_corpus)\n",
        "\n",
        "print(train_data.shape)\n",
        "print(test_data.shape)"
      ],
      "metadata": {
        "id": "kAqs4Lhh2fWT",
        "colab": {
          "base_uri": "https://localhost:8080/"
        },
        "outputId": "4fb2c5f2-266f-4757-c9ee-fc5d9dac2a2d"
      },
      "execution_count": 564,
      "outputs": [
        {
          "output_type": "stream",
          "name": "stdout",
          "text": [
            "(123040, 60)\n",
            "(41198, 60)\n"
          ]
        }
      ]
    },
    {
      "cell_type": "markdown",
      "source": [
        "## 데이터 분리"
      ],
      "metadata": {
        "id": "4414UoK00n0z"
      }
    },
    {
      "cell_type": "code",
      "source": [
        "X_train, X_val, y_train, y_val = train_test_split(train_data, y_train, test_size=0.2, shuffle=True, random_state=34)"
      ],
      "metadata": {
        "id": "hf9qHoy42mQI"
      },
      "execution_count": 565,
      "outputs": []
    },
    {
      "cell_type": "markdown",
      "source": [
        "## SP_BPE_lstm 모델"
      ],
      "metadata": {
        "id": "LUtz0fGpTQPF"
      }
    },
    {
      "cell_type": "code",
      "source": [
        "bpm_lstm_model = tf.keras.Sequential()\n",
        "bpm_lstm_model.add(tf.keras.layers.Embedding(vocab_size, word_vector_dim, input_shape=(None,)))\n",
        "bpm_lstm_model.add(tf.keras.layers.LSTM(256))   \n",
        "bpm_lstm_model.add(tf.keras.layers.Dense(8, activation='relu'))\n",
        "bpm_lstm_model.add(tf.keras.layers.Dense(1, activation='sigmoid'))  \n",
        "\n",
        "bpm_lstm_model.summary()"
      ],
      "metadata": {
        "colab": {
          "base_uri": "https://localhost:8080/"
        },
        "id": "2yQtyAPm2oJv",
        "outputId": "0289ef08-7571-4e53-9c6b-284941032d67"
      },
      "execution_count": 566,
      "outputs": [
        {
          "output_type": "stream",
          "name": "stdout",
          "text": [
            "Model: \"sequential_20\"\n",
            "_________________________________________________________________\n",
            " Layer (type)                Output Shape              Param #   \n",
            "=================================================================\n",
            " embedding_20 (Embedding)    (None, None, 100)         5000000   \n",
            "                                                                 \n",
            " lstm_20 (LSTM)              (None, 256)               365568    \n",
            "                                                                 \n",
            " dense_40 (Dense)            (None, 8)                 2056      \n",
            "                                                                 \n",
            " dense_41 (Dense)            (None, 1)                 9         \n",
            "                                                                 \n",
            "=================================================================\n",
            "Total params: 5,367,633\n",
            "Trainable params: 5,367,633\n",
            "Non-trainable params: 0\n",
            "_________________________________________________________________\n"
          ]
        }
      ]
    },
    {
      "cell_type": "markdown",
      "source": [
        "## 컴파일 및 학습"
      ],
      "metadata": {
        "id": "9_BINjoi1FKP"
      }
    },
    {
      "cell_type": "code",
      "source": [
        "start = time.time()\n",
        "bpm_lstm_model.compile(optimizer='adam',\n",
        "              loss='binary_crossentropy',\n",
        "              metrics=['accuracy'])\n",
        "              \n",
        "epochs=5\n",
        "\n",
        "bpm_lstm_history = bpm_lstm_model.fit(X_train,\n",
        "                    y_train,\n",
        "                    epochs=epochs,\n",
        "                    batch_size=512,\n",
        "                    validation_data=(X_val, y_val),\n",
        "                    verbose=1)\n",
        "\n",
        "end = time.time()\n",
        "\n",
        "print(end - start)"
      ],
      "metadata": {
        "colab": {
          "base_uri": "https://localhost:8080/"
        },
        "id": "XGKWfdOn2p8A",
        "outputId": "5418b837-c92a-4e7d-8454-921a00e1e4fc"
      },
      "execution_count": 567,
      "outputs": [
        {
          "output_type": "stream",
          "name": "stdout",
          "text": [
            "Epoch 1/5\n",
            "193/193 [==============================] - 33s 157ms/step - loss: 0.4526 - accuracy: 0.7878 - val_loss: 0.3569 - val_accuracy: 0.8440\n",
            "Epoch 2/5\n",
            "193/193 [==============================] - 14s 75ms/step - loss: 0.2533 - accuracy: 0.8992 - val_loss: 0.3641 - val_accuracy: 0.8409\n",
            "Epoch 3/5\n",
            "193/193 [==============================] - 13s 66ms/step - loss: 0.2104 - accuracy: 0.9201 - val_loss: 0.4179 - val_accuracy: 0.8382\n",
            "Epoch 4/5\n",
            "193/193 [==============================] - 11s 58ms/step - loss: 0.1487 - accuracy: 0.9457 - val_loss: 0.4502 - val_accuracy: 0.8309\n",
            "Epoch 5/5\n",
            "193/193 [==============================] - 8s 41ms/step - loss: 0.1091 - accuracy: 0.9601 - val_loss: 0.5815 - val_accuracy: 0.8285\n",
            "78.94586038589478\n"
          ]
        }
      ]
    },
    {
      "cell_type": "markdown",
      "source": [
        "## 결과 데이터"
      ],
      "metadata": {
        "id": "VSF8SrPB0_Ez"
      }
    },
    {
      "cell_type": "code",
      "source": [
        "bpm_lstm_history_dict = bpm_lstm_history.history\n",
        "\n",
        "acc = bpm_lstm_history_dict['accuracy']\n",
        "val_acc = bpm_lstm_history_dict['val_accuracy']\n",
        "loss = bpm_lstm_history_dict['loss']\n",
        "val_loss = bpm_lstm_history_dict['val_loss']\n",
        "\n",
        "epochs = range(1, len(acc) + 1)"
      ],
      "metadata": {
        "id": "rDzVwaId2xwE"
      },
      "execution_count": 568,
      "outputs": []
    },
    {
      "cell_type": "code",
      "source": [
        "plt.plot(epochs, loss, 'bo', label='Training loss')\n",
        "\n",
        "plt.plot(epochs, val_loss, 'b', label='Validation loss')\n",
        "plt.title('Training and validation loss(LSTM)')\n",
        "plt.xlabel('Epochs')\n",
        "plt.ylabel('Loss')\n",
        "plt.legend()\n",
        "\n",
        "plt.show()"
      ],
      "metadata": {
        "colab": {
          "base_uri": "https://localhost:8080/",
          "height": 295
        },
        "id": "ntCAU5wIVGvL",
        "outputId": "0a91b7fa-2e21-4328-e510-27d1e63b33d9"
      },
      "execution_count": 569,
      "outputs": [
        {
          "output_type": "display_data",
          "data": {
            "text/plain": [
              "<Figure size 432x288 with 1 Axes>"
            ],
            "image/png": "[encoded data removed]"
          },
          "metadata": {
            "needs_background": "light"
          }
        }
      ]
    },
    {
      "cell_type": "code",
      "source": [
        "plt.clf()   \n",
        "\n",
        "plt.plot(epochs, acc, 'bo', label='Training acc')\n",
        "plt.plot(epochs, val_acc, 'b', label='Validation acc')\n",
        "plt.title('Training and validation accuracy(LSTM)')\n",
        "plt.xlabel('Epochs')\n",
        "plt.ylabel('Accuracy')\n",
        "plt.legend()\n",
        "\n",
        "plt.show()"
      ],
      "metadata": {
        "colab": {
          "base_uri": "https://localhost:8080/",
          "height": 295
        },
        "id": "rGiuW7mr2zoh",
        "outputId": "0c03c10c-dffc-4bed-c9bc-b326fc78e738"
      },
      "execution_count": 570,
      "outputs": [
        {
          "output_type": "display_data",
          "data": {
            "text/plain": [
              "<Figure size 432x288 with 1 Axes>"
            ],
            "image/png": "[encoded data removed]"
          },
          "metadata": {
            "needs_background": "light"
          }
        }
      ]
    },
    {
      "cell_type": "code",
      "source": [
        "bpm_lstm_results = bpm_lstm_model.evaluate(test_data,  y_test, verbose=2)"
      ],
      "metadata": {
        "colab": {
          "base_uri": "https://localhost:8080/"
        },
        "id": "WCYeV-QOMmyy",
        "outputId": "cc9ad63e-6d65-4fbb-d35c-843f9ccb0c81"
      },
      "execution_count": 571,
      "outputs": [
        {
          "output_type": "stream",
          "name": "stdout",
          "text": [
            "1288/1288 - 6s - loss: 0.5911 - accuracy: 0.8262 - 6s/epoch - 5ms/step\n"
          ]
        }
      ]
    },
    {
      "cell_type": "markdown",
      "source": [
        "# Sentencepiece - Char"
      ],
      "metadata": {
        "id": "wTDugx6KTXoC"
      }
    },
    {
      "cell_type": "markdown",
      "source": [
        "## 데이터 로드"
      ],
      "metadata": {
        "id": "YCr6y5uL1huz"
      }
    },
    {
      "cell_type": "code",
      "source": [
        "train_data = pd.read_table('/content/drive/MyDrive/Exploration/e08/data/ratings_train.txt')\n",
        "test_data = pd.read_table('/content/drive/MyDrive/Exploration/e08/data/ratings_test.txt')"
      ],
      "metadata": {
        "id": "H3p_UTBF1jeQ"
      },
      "execution_count": 585,
      "outputs": []
    },
    {
      "cell_type": "markdown",
      "source": [
        "## 결측치 및 중복값 제거"
      ],
      "metadata": {
        "id": "C4X9lfe11lnc"
      }
    },
    {
      "cell_type": "code",
      "source": [
        "train_data.drop_duplicates(subset=['document'], inplace=True)\n",
        "train_data = train_data.dropna(how = 'any') \n",
        "test_data.drop_duplicates(subset=['document'], inplace=True)\n",
        "test_data = test_data.dropna(how = 'any') "
      ],
      "metadata": {
        "id": "s0aPb4yX1ncD"
      },
      "execution_count": 586,
      "outputs": []
    },
    {
      "cell_type": "markdown",
      "source": [
        "## 문장 길이 조절"
      ],
      "metadata": {
        "id": "Q7YPSIjx1pdw"
      }
    },
    {
      "cell_type": "code",
      "source": [
        "max_len = 60\n",
        "min_len = 5\n",
        "\n",
        "train_corpus = train_data.loc[(train_data['document'].str.len() >= min_len) & (train_data['document'].str.len() < max_len), 'document']\n",
        "y_train = train_data.loc[(train_data['document'].str.len() >= min_len) & (train_data['document'].str.len() < max_len), 'label']\n",
        "\n",
        "test_corpus = test_data.loc[(test_data['document'].str.len() >= min_len) & (test_data['document'].str.len() < max_len), 'document']\n",
        "y_test = test_data.loc[(test_data['document'].str.len() >= min_len) & (test_data['document'].str.len() < max_len), 'label']\n",
        "\n",
        "print(len(train_corpus))\n",
        "print(len(test_corpus))"
      ],
      "metadata": {
        "colab": {
          "base_uri": "https://localhost:8080/"
        },
        "id": "1VWD65mr1qsb",
        "outputId": "bf7f9bb3-8d4c-4eb1-ed12-c6f128f41971"
      },
      "execution_count": 587,
      "outputs": [
        {
          "output_type": "stream",
          "name": "stdout",
          "text": [
            "123040\n",
            "41198\n"
          ]
        }
      ]
    },
    {
      "cell_type": "markdown",
      "source": [
        "## Char 옵션 학습"
      ],
      "metadata": {
        "id": "Mq9OMNbhTtaM"
      }
    },
    {
      "cell_type": "code",
      "source": [
        "start = time.time()\n",
        "\n",
        "temp_file = '/content/drive/MyDrive/deepNLP/Sentencepiece_char'\n",
        "\n",
        "with open(temp_file, 'w') as f:\n",
        "    for row in train_corpus:   \n",
        "        f.write(str(row) + '\\n')\n",
        "\n",
        "spm.SentencePieceTrainer.Train(\n",
        "    '--input={} --model_prefix=char_spm --vocab_size={} --model_type=char'.format(temp_file, vocab_size)    \n",
        ")\n",
        "\n",
        "end = time.time()\n",
        "print(end - start)"
      ],
      "metadata": {
        "colab": {
          "base_uri": "https://localhost:8080/"
        },
        "id": "jSEJIkmlN-jt",
        "outputId": "749f5b56-619a-4b1e-ae46-d3bf3699cc91"
      },
      "execution_count": 588,
      "outputs": [
        {
          "output_type": "stream",
          "name": "stdout",
          "text": [
            "0.7919669151306152\n"
          ]
        }
      ]
    },
    {
      "cell_type": "markdown",
      "source": [
        "## Char 토큰화"
      ],
      "metadata": {
        "id": "5HgnJ2i22AOC"
      }
    },
    {
      "cell_type": "code",
      "source": [
        "def sp_tokenize(s, corpus):\n",
        "\n",
        "    tensor = []\n",
        "\n",
        "    for sen in corpus:\n",
        "        tensor.append(s.EncodeAsIds(sen))\n",
        "\n",
        "    with open(\"./char_spm.vocab\", 'r') as f:\n",
        "        vocab = f.readlines()\n",
        "\n",
        "    word_index = {}\n",
        "    index_word = {}\n",
        "\n",
        "    for idx, line in enumerate(vocab):\n",
        "        word = line.split(\"\\t\")[0]\n",
        "\n",
        "        word_index.update({word:idx})\n",
        "        index_word.update({idx:word})\n",
        "\n",
        "    tensor = tf.keras.preprocessing.sequence.pad_sequences(tensor, padding='pre', maxlen=max_len)\n",
        "\n",
        "    return tensor, word_index, index_word"
      ],
      "metadata": {
        "id": "JPG75ZAvPIpJ"
      },
      "execution_count": 589,
      "outputs": []
    },
    {
      "cell_type": "code",
      "source": [
        "s = spm.SentencePieceProcessor()\n",
        "s.Load('/content/char_spm.model')\n",
        "\n",
        "train_data, word_index, index_word = sp_tokenize(s, train_corpus)\n",
        "test_data, word_index, index_word = sp_tokenize(s, test_corpus)\n",
        "\n",
        "print(train_data.shape)\n",
        "print(test_data.shape)"
      ],
      "metadata": {
        "id": "v-cLwO1gPIjS",
        "colab": {
          "base_uri": "https://localhost:8080/"
        },
        "outputId": "2f62ee34-6a45-4e98-8173-0e1a9a0dd12b"
      },
      "execution_count": 590,
      "outputs": [
        {
          "output_type": "stream",
          "name": "stdout",
          "text": [
            "(123040, 60)\n",
            "(41198, 60)\n"
          ]
        }
      ]
    },
    {
      "cell_type": "markdown",
      "source": [
        "## 데이터 분리"
      ],
      "metadata": {
        "id": "W3TrnnfDVOS3"
      }
    },
    {
      "cell_type": "code",
      "source": [
        "X_train, X_val, y_train, y_val = train_test_split(train_data, y_train, test_size=0.2, shuffle=True, random_state=34)"
      ],
      "metadata": {
        "id": "6fJ9RFcLPUfK"
      },
      "execution_count": 591,
      "outputs": []
    },
    {
      "cell_type": "markdown",
      "source": [
        "## SP_Char_lstm 모델"
      ],
      "metadata": {
        "id": "AkrgXJ8HVQNV"
      }
    },
    {
      "cell_type": "code",
      "source": [
        "char_lstm_model = tf.keras.Sequential()\n",
        "char_lstm_model.add(tf.keras.layers.Embedding(vocab_size, word_vector_dim, input_shape=(None,)))\n",
        "char_lstm_model.add(tf.keras.layers.LSTM(256))   \n",
        "char_lstm_model.add(tf.keras.layers.Dense(8, activation='relu'))\n",
        "char_lstm_model.add(tf.keras.layers.Dense(1, activation='sigmoid'))  \n",
        "\n",
        "char_lstm_model.summary()"
      ],
      "metadata": {
        "colab": {
          "base_uri": "https://localhost:8080/"
        },
        "id": "5DyX6refPYdG",
        "outputId": "f5732b76-316f-4206-87bb-57fcde168e12"
      },
      "execution_count": 592,
      "outputs": [
        {
          "output_type": "stream",
          "name": "stdout",
          "text": [
            "Model: \"sequential_22\"\n",
            "_________________________________________________________________\n",
            " Layer (type)                Output Shape              Param #   \n",
            "=================================================================\n",
            " embedding_22 (Embedding)    (None, None, 100)         5000000   \n",
            "                                                                 \n",
            " lstm_22 (LSTM)              (None, 256)               365568    \n",
            "                                                                 \n",
            " dense_44 (Dense)            (None, 8)                 2056      \n",
            "                                                                 \n",
            " dense_45 (Dense)            (None, 1)                 9         \n",
            "                                                                 \n",
            "=================================================================\n",
            "Total params: 5,367,633\n",
            "Trainable params: 5,367,633\n",
            "Non-trainable params: 0\n",
            "_________________________________________________________________\n"
          ]
        }
      ]
    },
    {
      "cell_type": "markdown",
      "source": [
        "## 컴파일 및 학습"
      ],
      "metadata": {
        "id": "y7Vh5K3dVXka"
      }
    },
    {
      "cell_type": "code",
      "source": [
        "start = time.time()\n",
        "char_lstm_model.compile(optimizer='adam',\n",
        "              loss='binary_crossentropy',\n",
        "              metrics=['accuracy'])\n",
        "              \n",
        "epochs=5\n",
        "\n",
        "char_lstm_history = char_lstm_model.fit(X_train,\n",
        "                    y_train,\n",
        "                    epochs=epochs,\n",
        "                    batch_size=512,\n",
        "                    validation_data=(X_val, y_val),\n",
        "                    verbose=1)\n",
        "\n",
        "end = time.time()\n",
        "print(end - start)"
      ],
      "metadata": {
        "colab": {
          "base_uri": "https://localhost:8080/"
        },
        "id": "OFiZkwcKPvJT",
        "outputId": "0ff3eca8-47b0-463f-e5a3-7a2a62ab1a8a"
      },
      "execution_count": 593,
      "outputs": [
        {
          "output_type": "stream",
          "name": "stdout",
          "text": [
            "Epoch 1/5\n",
            "193/193 [==============================] - 18s 78ms/step - loss: 0.5033 - accuracy: 0.7526 - val_loss: 0.4466 - val_accuracy: 0.7919\n",
            "Epoch 2/5\n",
            "193/193 [==============================] - 8s 42ms/step - loss: 0.4298 - accuracy: 0.7996 - val_loss: 0.4217 - val_accuracy: 0.8027\n",
            "Epoch 3/5\n",
            "193/193 [==============================] - 8s 39ms/step - loss: 0.3982 - accuracy: 0.8163 - val_loss: 0.3996 - val_accuracy: 0.8154\n",
            "Epoch 4/5\n",
            "193/193 [==============================] - 8s 39ms/step - loss: 0.3767 - accuracy: 0.8285 - val_loss: 0.3882 - val_accuracy: 0.8218\n",
            "Epoch 5/5\n",
            "193/193 [==============================] - 7s 36ms/step - loss: 0.3618 - accuracy: 0.8370 - val_loss: 0.3868 - val_accuracy: 0.8230\n",
            "48.565237522125244\n"
          ]
        }
      ]
    },
    {
      "cell_type": "markdown",
      "source": [
        "## 결과 데이터"
      ],
      "metadata": {
        "id": "SCXbqH1i2dBJ"
      }
    },
    {
      "cell_type": "code",
      "source": [
        "char_lstm_history_dict = char_lstm_history.history\n",
        "\n",
        "acc = char_lstm_history_dict['accuracy']\n",
        "val_acc = char_lstm_history_dict['val_accuracy']\n",
        "loss = char_lstm_history_dict['loss']\n",
        "val_loss = char_lstm_history_dict['val_loss']\n",
        "\n",
        "epochs = range(1, len(acc) + 1)\n",
        "\n",
        "plt.plot(epochs, loss, 'bo', label='Training loss')\n",
        "\n",
        "plt.plot(epochs, val_loss, 'b', label='Validation loss')\n",
        "plt.title('Training and validation loss(LSTM)')\n",
        "plt.xlabel('Epochs')\n",
        "plt.ylabel('Loss')\n",
        "plt.legend()\n",
        "\n",
        "plt.show()"
      ],
      "metadata": {
        "colab": {
          "base_uri": "https://localhost:8080/",
          "height": 295
        },
        "id": "QZh2zUdlP0wC",
        "outputId": "5c382d0b-3d5f-41d5-e8fe-59a3ae7c0b9b"
      },
      "execution_count": 594,
      "outputs": [
        {
          "output_type": "display_data",
          "data": {
            "text/plain": [
              "<Figure size 432x288 with 1 Axes>"
            ],
            "image/png": "[encoded data removed]"
          },
          "metadata": {
            "needs_background": "light"
          }
        }
      ]
    },
    {
      "cell_type": "code",
      "source": [
        "plt.plot(epochs, loss, 'bo', label='Training loss')\n",
        "\n",
        "plt.plot(epochs, val_loss, 'b', label='Validation loss')\n",
        "plt.title('Training and validation loss(LSTM)')\n",
        "plt.xlabel('Epochs')\n",
        "plt.ylabel('Loss')\n",
        "plt.legend()\n",
        "\n",
        "plt.show()"
      ],
      "metadata": {
        "colab": {
          "base_uri": "https://localhost:8080/",
          "height": 295
        },
        "id": "PXvZZO4U3Aqi",
        "outputId": "ce641fdb-f2b8-415f-e380-d972ee86d84b"
      },
      "execution_count": 595,
      "outputs": [
        {
          "output_type": "display_data",
          "data": {
            "text/plain": [
              "<Figure size 432x288 with 1 Axes>"
            ],
            "image/png": "[encoded data removed]"
          },
          "metadata": {
            "needs_background": "light"
          }
        }
      ]
    },
    {
      "cell_type": "code",
      "source": [
        "plt.clf()   \n",
        "\n",
        "plt.plot(epochs, acc, 'bo', label='Training acc')\n",
        "plt.plot(epochs, val_acc, 'b', label='Validation acc')\n",
        "plt.title('Training and validation accuracy(LSTM)')\n",
        "plt.xlabel('Epochs')\n",
        "plt.ylabel('Accuracy')\n",
        "plt.legend()\n",
        "\n",
        "plt.show()"
      ],
      "metadata": {
        "colab": {
          "base_uri": "https://localhost:8080/",
          "height": 295
        },
        "id": "XJlqsL-TP7hP",
        "outputId": "e120926f-b1f9-4b3e-db55-cb3ec8a58146"
      },
      "execution_count": 596,
      "outputs": [
        {
          "output_type": "display_data",
          "data": {
            "text/plain": [
              "<Figure size 432x288 with 1 Axes>"
            ],
            "image/png": "[encoded data removed]"
          },
          "metadata": {
            "needs_background": "light"
          }
        }
      ]
    },
    {
      "cell_type": "code",
      "source": [
        "char_lstm_results = char_lstm_model.evaluate(test_data,  y_test, verbose=2)"
      ],
      "metadata": {
        "colab": {
          "base_uri": "https://localhost:8080/"
        },
        "id": "Vm3HFtaIP-0u",
        "outputId": "56a0770b-65df-4c8f-ed9b-5481fd93ed22"
      },
      "execution_count": 597,
      "outputs": [
        {
          "output_type": "stream",
          "name": "stdout",
          "text": [
            "1288/1288 - 5s - loss: 0.3871 - accuracy: 0.8266 - 5s/epoch - 4ms/step\n"
          ]
        }
      ]
    },
    {
      "cell_type": "markdown",
      "source": [
        "# 최종 결과 정리"
      ],
      "metadata": {
        "id": "QReJp0OZ62HX"
      }
    },
    {
      "cell_type": "markdown",
      "source": [
        "|토큰화 방법|정확도|학습 시간|훈련 시간|에폭 수|\n",
        "|:---|:---|:---|:---|:---|\n",
        "|Mecab-Morphs| 0.8420|32.08초|84.63초|5|\n",
        "|SentencePiece-Unigram|0.8198|17.54초|66.76초|5|\n",
        "|SentencePiece-BPE|0.8262|99.36초|78.94초|5|\n",
        "|SentencePiece-Char|0.8266|0.79초|48.56초|5|\n",
        "|SentencePiece-Char|0.8391|1.28초|99.85초|12|"
      ],
      "metadata": {
        "id": "Rg8ZGrc4-u8F"
      }
    },
    {
      "cell_type": "markdown",
      "source": [
        "## 특징 \n",
        "\n",
        "1. 정확도는 Mecab의 형태소 분석이 가장 뛰어나지만 훈련 시간은 가장 길다(동일 에폭 수 기준) \n",
        "2. char 옵션의 경우 오버피팅이 잘 일어나지 않아 에폭 수를 늘릴 경우 Mecab-morphs와 비슷한 수준으로 정확도가 상승한다.\n",
        "3. 학습에 걸리는 시간은 BPE 옵션이 유독 느리고, char 옵션이 압도적으로 빠르다.\n",
        "4. 한국어 처리에서는 센텐스피스에서 char 옵션이 속도 및 정확도 모두 가장 좋았다.\n",
        "\n",
        "## 결론\n",
        "\n",
        "정확도가 중요하다면 Mecab을 속도가 중요하다면 SentencePiece-Char (동일 에폭 수) 옵션을, 중간을 원한다면 SentencePiece-Char의 에폭 수를 조금 늘려 사용한다.\n",
        "\n"
      ],
      "metadata": {
        "id": "BFSmORlsCImn"
      }
    }
  ]
}