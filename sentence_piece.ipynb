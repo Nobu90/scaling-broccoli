{
  "nbformat": 4,
  "nbformat_minor": 0,
  "metadata": {
    "colab": {
      "provenance": [],
      "collapsed_sections": [
        "tfVF-Gf-SnG4",
        "n0Os04Y9DeiG"
      ],
      "toc_visible": true,
      "authorship_tag": "ABX9TyMzWRfrxPhMu6WvvatDwbZT",
      "include_colab_link": true
    },
    "kernelspec": {
      "name": "python3",
      "display_name": "Python 3"
    },
    "language_info": {
      "name": "python"
    },
    "accelerator": "GPU",
    "gpuClass": "standard"
  },
  "cells": [
    {
      "cell_type": "markdown",
      "metadata": {
        "id": "view-in-github",
        "colab_type": "text"
      },
      "source": [
        "<a href=\"https://colab.research.google.com/github/Nobu90/scaling-broccoli/blob/main/sentence_piece.ipynb\" target=\"_parent\"><img src=\"https://colab.research.google.com/assets/colab-badge.svg\" alt=\"Open In Colab\"/></a>"
      ]
    },
    {
      "cell_type": "markdown",
      "source": [
        "# 루브릭 "
      ],
      "metadata": {
        "id": "tfVF-Gf-SnG4"
      }
    },
    {
      "cell_type": "markdown",
      "source": [
        "|평가 문항|상세 기준|\n",
        "|:---|:---|\n",
        "|1. SentencePiece를 이용하여 모델을 만들기까지의 과정이 정상적으로 진행되었는가?| 코퍼스 분석, 전처리, SentencePiece 적용, 토크나이저 구현 및 동작이 빠짐없이 진행되었는가?|\n",
        "|2. SentencePiece를 통해 만든 Tokenizer가 자연어처리 모델과 결합하여 동작하는가?|SentencePiece 토크나이저가 적용된 Text Classifier 모델이 정상적으로 수렴하여 80% 이상의 test accuracy가 확인되었다.|\n",
        "|3. SentencePiece의 성능을 다각도로 비교분석하였는가?|SentencePiece 토크나이저를 활용했을 때의 성능을 다른 토크나이저 혹은 SentencePiece의 다른 옵션의 경우와 비교하여 분석을 체계적으로 진행하였다.|"
      ],
      "metadata": {
        "id": "5LIsgvdR82MB"
      }
    },
    {
      "cell_type": "markdown",
      "source": [
        "# 환경 세팅"
      ],
      "metadata": {
        "id": "n0Os04Y9DeiG"
      }
    },
    {
      "cell_type": "code",
      "execution_count": null,
      "metadata": {
        "id": "EimNRkwSrtEK"
      },
      "outputs": [],
      "source": [
        "! pip install sentencepiece\n",
        "! pip install matplotlib\n",
        "!sudo apt-get install g++ openjdk-7-jdk python-dev python3-dev   \n",
        "!pip3 install JPype1-py3\n",
        "!pip3 install konlpy   \n",
        "!sudo apt-get install curl\n",
        "!bash <(curl -s https://raw.githubusercontent.com/konlpy/konlpy/master/scripts/mecab.sh)"
      ]
    },
    {
      "cell_type": "code",
      "source": [
        "from google.colab import drive\n",
        "drive.mount('/content/drive')"
      ],
      "metadata": {
        "id": "8dkiyfvT9Qdg"
      },
      "execution_count": null,
      "outputs": []
    },
    {
      "cell_type": "code",
      "source": [
        "import pandas as pd\n",
        "import numpy as np\n",
        "\n",
        "import konlpy\n",
        "from konlpy.tag import Mecab\n",
        "\n",
        "from sklearn.model_selection import train_test_split\n",
        "import matplotlib.pyplot as plt \n",
        "\n",
        "import tensorflow as tf\n",
        "from tensorflow import keras\n",
        "from tensorflow.python.keras.initializers import Constant\n",
        "\n",
        "import gensim\n",
        "from gensim.models.keyedvectors import Word2VecKeyedVectors\n",
        "from gensim.models import KeyedVectors\n",
        "\n",
        "from collections import Counter\n",
        "\n",
        "import sentencepiece as spm\n",
        "import time\n",
        "import os\n",
        "\n",
        "import nltk\n",
        "nltk.download('punkt')\n",
        "\n",
        "from nltk.corpus import stopwords \n",
        "from nltk.tokenize import word_tokenize \n",
        "\n",
        "print(tf.__version__)\n",
        "print(np.__version__)\n",
        "print(pd.__version__)\n",
        "print(konlpy.__version__)\n",
        "print(gensim.__version__)\n",
        "!python --version"
      ],
      "metadata": {
        "id": "QnLDcLrOr8uJ"
      },
      "execution_count": null,
      "outputs": []
    },
    {
      "cell_type": "markdown",
      "source": [
        "# Mecab - Morphs"
      ],
      "metadata": {
        "id": "Jou47f78mMvo"
      }
    },
    {
      "cell_type": "markdown",
      "source": [
        "## 데이터 로드"
      ],
      "metadata": {
        "id": "xLFvqulgUQnh"
      }
    },
    {
      "cell_type": "code",
      "source": [
        "train_data = pd.read_table('/content/drive/MyDrive/Exploration/e08/data/ratings_train.txt')\n",
        "test_data = pd.read_table('/content/drive/MyDrive/Exploration/e08/data/ratings_test.txt')"
      ],
      "metadata": {
        "id": "GwSbfmgk9ap2"
      },
      "execution_count": 414,
      "outputs": []
    },
    {
      "cell_type": "markdown",
      "source": [
        "## 결측치 및 중복값 제거"
      ],
      "metadata": {
        "id": "bLRKZdxLmTEf"
      }
    },
    {
      "cell_type": "code",
      "source": [
        "train_data.drop_duplicates(subset=['document'], inplace=True)\n",
        "train_data = train_data.dropna(how = 'any') \n",
        "test_data.drop_duplicates(subset=['document'], inplace=True)\n",
        "test_data = test_data.dropna(how = 'any') "
      ],
      "metadata": {
        "id": "taIdNtRfWnD9"
      },
      "execution_count": 415,
      "outputs": []
    },
    {
      "cell_type": "markdown",
      "source": [
        "## 문장 길이 분석"
      ],
      "metadata": {
        "id": "R-Pau5ComXlv"
      }
    },
    {
      "cell_type": "code",
      "source": [
        "min_len = 999\n",
        "max_len = 0\n",
        "sum_len = 0\n",
        "\n",
        "for sen in train_data['document']:\n",
        "    length = len(sen)\n",
        "    if min_len > length: min_len = length\n",
        "    if max_len < length: max_len = length\n",
        "    sum_len += length\n",
        "\n",
        "print(\"문장의 최단 길이:\", min_len)\n",
        "print(\"문장의 최장 길이:\", max_len)\n",
        "print(\"문장의 평균 길이:\", sum_len // len(train_data['document']))\n",
        "\n",
        "sentence_length = np.zeros((max_len), dtype=int)\n",
        "\n",
        "for sen in train_data['document']:\n",
        "    sentence_length[len(sen)-1] += 1\n",
        "\n",
        "plt.bar(range(max_len), sentence_length, width=0.5)\n",
        "plt.title(\"Sentence Length Distribution\")\n",
        "plt.show()"
      ],
      "metadata": {
        "colab": {
          "base_uri": "https://localhost:8080/",
          "height": 333
        },
        "id": "5f0-Y618962y",
        "outputId": "185d3a6b-329f-4acc-9fa3-b07bb95f4d25"
      },
      "execution_count": 416,
      "outputs": [
        {
          "output_type": "stream",
          "name": "stdout",
          "text": [
            "문장의 최단 길이: 1\n",
            "문장의 최장 길이: 146\n",
            "문장의 평균 길이: 35\n"
          ]
        },
        {
          "output_type": "display_data",
          "data": {
            "text/plain": [
              "<Figure size 432x288 with 1 Axes>"
            ],
            "image/png": "[encoded data removed]"
          },
          "metadata": {
            "needs_background": "light"
          }
        }
      ]
    },
    {
      "cell_type": "code",
      "source": [
        "def check_sentence_with_length(raw, length):\n",
        "    count = 0\n",
        "    \n",
        "    for sen in train_data['document']:\n",
        "        if len(sen) == length:\n",
        "            print(sen)\n",
        "            count += 1\n",
        "            if count > 100: return\n",
        "\n",
        "check_sentence_with_length(train_data['document'], 1)"
      ],
      "metadata": {
        "id": "PjE-yHzn-1xD",
        "colab": {
          "base_uri": "https://localhost:8080/"
        },
        "outputId": "b5d9c886-8f4b-4a75-b535-437a80fee656"
      },
      "execution_count": 417,
      "outputs": [
        {
          "output_type": "stream",
          "name": "stdout",
          "text": [
            "아\n",
            "잼\n",
            "1\n",
            "4\n",
            "굿\n",
            "짱\n",
            "휴\n",
            ".\n",
            "음\n",
            "?\n",
            "ㅎ\n",
            "ㅋ\n",
            "즐\n",
            "♥\n",
            "굳\n",
            "네\n",
            "ㅇ\n",
            "k\n",
            "ㅠ\n",
            "쒯\n",
            "♬\n",
            "토\n",
            "O\n",
            "똥\n",
            "z\n",
            "헐\n",
            "삼\n",
            "꽝\n",
            "!\n",
            "풉\n",
            "ㅅ\n",
            "왜\n",
            "ㄴ\n",
            "쉣\n",
            "봐\n",
            "뿌\n",
            "ㅜ\n",
            "♡\n",
            "ㅁ\n",
            "0\n",
            "ㅉ\n",
            "d\n",
            "흥\n",
            "乃\n",
            "찜\n",
            "귯\n",
            "린\n",
            "시\n",
            "ㅗ\n",
            "a\n",
            "c\n",
            "흠\n",
            "웅\n",
            "ㅣ\n",
            "오\n",
            "9\n",
            "쩜\n",
            "애\n",
            "헝\n",
            "쨩\n",
            "f\n",
            "움\n",
            "ㄳ\n",
            "업\n",
            "헉\n",
            "군\n",
            "b\n",
            ";\n",
            "g\n",
            "올\n",
            "걍\n",
            "허\n",
            "-\n",
            "쀍\n",
            "로\n",
            "ㄹ\n",
            "ㅂ\n",
            "갑\n",
            "즛\n",
            "킥\n",
            "함\n",
            "진\n",
            "ㅡ\n",
            "잠\n",
            "곧\n",
            "ㅍ\n",
            "h\n",
            "·\n",
            "캬\n",
            "ㅆ\n",
            ",\n",
            "풋\n",
            "ㄱ\n",
            "파\n",
            "ㄷ\n",
            "웩\n",
            "꺅\n",
            "욜\n",
            "ㅄ\n",
            "2\n",
            "핡\n"
          ]
        }
      ]
    },
    {
      "cell_type": "code",
      "source": [
        "check_sentence_with_length(train_data['document'], 146)"
      ],
      "metadata": {
        "colab": {
          "base_uri": "https://localhost:8080/"
        },
        "id": "W0mwbAwzDBcs",
        "outputId": "c7428bb0-5ace-424b-a7b3-b72072d65876"
      },
      "execution_count": 418,
      "outputs": [
        {
          "output_type": "stream",
          "name": "stdout",
          "text": [
            "\"스폰으로 먹고사는 방송이라 어쩔수 없다고 하지만. 이건 그냥 비현실적인 자동차만;...독일3사&슈퍼카 홍보 프로그램도 아니구.대중적인 자동차 방송으로 이루어 졌으면 합니다. 보는내내 \"\"카탈로그 책자\"\"를 \"\"동영상으로 보여주는 방송\"\" 같아서 씁쓸하네요.!\"\n",
            "\"\"\"니 짓은 생각않고, 웬 복수!\"\"의 교훈이라! 그럼 \"\"서바이벌 액션\"\"으로 홍보하면 안되지! 초반 45분은 멋지게 열더니.. 억지 반전, 하드고어로 시간끌다가, 허둥지둥 화해로 끝내버리네. 90분 러닝타임에 엔딩자막만 11분 틀어주는 해괴망측한 영화~!\"\n",
            "\"2007.02.25_ 벌교의 한 국밥집_ 점심: \"\"갸는 첫째고, 저 놈은 우리 둘째~\"\" 재문: \"\"아줌마! 미안해~ 그냥.. 아줌마! 나 그 남방 잘 어울려ㅠ_ㅠ?\"\" 대식에게 복수하려던 1주일 전_ 대식의 엄마를 먼저 만났다. 사랑의 꽃남방도..^-^o\"\n"
          ]
        }
      ]
    },
    {
      "cell_type": "code",
      "source": [
        "max_len = 60\n",
        "min_len = 5\n",
        "\n",
        "train_data = train_data.loc[(train_data['document'].str.len() >= min_len) & (train_data['document'].str.len() < max_len)]\n",
        "y_train = train_data.loc[(train_data['document'].str.len() >= min_len) & (train_data['document'].str.len() < max_len)]\n",
        "\n",
        "test_data = test_data.loc[(test_data['document'].str.len() >= min_len) & (test_data['document'].str.len() < max_len)]\n",
        "y_test = test_data.loc[(test_data['document'].str.len() >= min_len) & (test_data['document'].str.len() < max_len)]\n",
        "\n",
        "print(train_data.shape)\n",
        "print(test_data.shape)"
      ],
      "metadata": {
        "id": "i3bpUXrLcbYu",
        "colab": {
          "base_uri": "https://localhost:8080/"
        },
        "outputId": "dd820ac9-d658-4a71-909c-ebd4e38e5f46"
      },
      "execution_count": 419,
      "outputs": [
        {
          "output_type": "stream",
          "name": "stdout",
          "text": [
            "(123040, 3)\n",
            "(41198, 3)\n"
          ]
        }
      ]
    },
    {
      "cell_type": "code",
      "source": [
        "sentence_length = np.zeros((max_len), dtype=int)\n",
        "\n",
        "for sen in train_data['document']:\n",
        "    sentence_length[len(sen)-1] += 1\n",
        "\n",
        "plt.bar(range(max_len), sentence_length, width=1.0)\n",
        "plt.title(\"Sentence Length Distribution\")\n",
        "plt.show()"
      ],
      "metadata": {
        "colab": {
          "base_uri": "https://localhost:8080/",
          "height": 281
        },
        "id": "qGoEntdbDQjF",
        "outputId": "fccea2b5-8373-4816-fae4-a3346ff8fa26"
      },
      "execution_count": 420,
      "outputs": [
        {
          "output_type": "display_data",
          "data": {
            "text/plain": [
              "<Figure size 432x288 with 1 Axes>"
            ],
            "image/png": "[encoded data removed]"
          },
          "metadata": {
            "needs_background": "light"
          }
        }
      ]
    },
    {
      "cell_type": "code",
      "source": [
        "print(train_data.shape)\n",
        "print(test_data.shape)"
      ],
      "metadata": {
        "colab": {
          "base_uri": "https://localhost:8080/"
        },
        "id": "RJ2OmquChFHZ",
        "outputId": "d9c70b2d-13c5-4908-9d7b-4706ff2d4d71"
      },
      "execution_count": 421,
      "outputs": [
        {
          "output_type": "stream",
          "name": "stdout",
          "text": [
            "(123040, 3)\n",
            "(41198, 3)\n"
          ]
        }
      ]
    },
    {
      "cell_type": "code",
      "source": [
        "train_data"
      ],
      "metadata": {
        "colab": {
          "base_uri": "https://localhost:8080/",
          "height": 424
        },
        "id": "q9CRdE4rlwA_",
        "outputId": "d88ee841-e777-42d6-eec8-869a180838ea"
      },
      "execution_count": 422,
      "outputs": [
        {
          "output_type": "execute_result",
          "data": {
            "text/plain": [
              "              id                                       document  label\n",
              "0        9976970                            아 더빙.. 진짜 짜증나네요 목소리      0\n",
              "1        3819312              흠...포스터보고 초딩영화줄....오버연기조차 가볍지 않구나      1\n",
              "2       10265843                              너무재밓었다그래서보는것을추천한다      0\n",
              "3        9045019                  교도소 이야기구먼 ..솔직히 재미는 없다..평점 조정      0\n",
              "5        5403919  막 걸음마 뗀 3세부터 초등학교 1학년생인 8살용영화.ㅋㅋㅋ...별반개도 아까움.      0\n",
              "...          ...                                            ...    ...\n",
              "149995   6222902                            인간이 문제지.. 소는 뭔죄인가..      0\n",
              "149996   8549745                                  평점이 너무 낮아서...      1\n",
              "149997   9311800                이게 뭐요? 한국인은 거들먹거리고 필리핀 혼혈은 착하다?      0\n",
              "149998   2376369                    청춘 영화의 최고봉.방황과 우울했던 날들의 자화상      1\n",
              "149999   9619869                       한국 영화 최초로 수간하는 내용이 담긴 영화      0\n",
              "\n",
              "[123040 rows x 3 columns]"
            ],
            "text/html": [
              "\n",
              "  <div id=\"df-2cf7d5a7-3968-47db-87f4-c78b3a8e5ed7\">\n",
              "    <div class=\"colab-df-container\">\n",
              "      <div>\n",
              "<style scoped>\n",
              "    .dataframe tbody tr th:only-of-type {\n",
              "        vertical-align: middle;\n",
              "    }\n",
              "\n",
              "    .dataframe tbody tr th {\n",
              "        vertical-align: top;\n",
              "    }\n",
              "\n",
              "    .dataframe thead th {\n",
              "        text-align: right;\n",
              "    }\n",
              "</style>\n",
              "<table border=\"1\" class=\"dataframe\">\n",
              "  <thead>\n",
              "    <tr style=\"text-align: right;\">\n",
              "      <th></th>\n",
              "      <th>id</th>\n",
              "      <th>document</th>\n",
              "      <th>label</th>\n",
              "    </tr>\n",
              "  </thead>\n",
              "  <tbody>\n",
              "    <tr>\n",
              "      <th>0</th>\n",
              "      <td>9976970</td>\n",
              "      <td>아 더빙.. 진짜 짜증나네요 목소리</td>\n",
              "      <td>0</td>\n",
              "    </tr>\n",
              "    <tr>\n",
              "      <th>1</th>\n",
              "      <td>3819312</td>\n",
              "      <td>흠...포스터보고 초딩영화줄....오버연기조차 가볍지 않구나</td>\n",
              "      <td>1</td>\n",
              "    </tr>\n",
              "    <tr>\n",
              "      <th>2</th>\n",
              "      <td>10265843</td>\n",
              "      <td>너무재밓었다그래서보는것을추천한다</td>\n",
              "      <td>0</td>\n",
              "    </tr>\n",
              "    <tr>\n",
              "      <th>3</th>\n",
              "      <td>9045019</td>\n",
              "      <td>교도소 이야기구먼 ..솔직히 재미는 없다..평점 조정</td>\n",
              "      <td>0</td>\n",
              "    </tr>\n",
              "    <tr>\n",
              "      <th>5</th>\n",
              "      <td>5403919</td>\n",
              "      <td>막 걸음마 뗀 3세부터 초등학교 1학년생인 8살용영화.ㅋㅋㅋ...별반개도 아까움.</td>\n",
              "      <td>0</td>\n",
              "    </tr>\n",
              "    <tr>\n",
              "      <th>...</th>\n",
              "      <td>...</td>\n",
              "      <td>...</td>\n",
              "      <td>...</td>\n",
              "    </tr>\n",
              "    <tr>\n",
              "      <th>149995</th>\n",
              "      <td>6222902</td>\n",
              "      <td>인간이 문제지.. 소는 뭔죄인가..</td>\n",
              "      <td>0</td>\n",
              "    </tr>\n",
              "    <tr>\n",
              "      <th>149996</th>\n",
              "      <td>8549745</td>\n",
              "      <td>평점이 너무 낮아서...</td>\n",
              "      <td>1</td>\n",
              "    </tr>\n",
              "    <tr>\n",
              "      <th>149997</th>\n",
              "      <td>9311800</td>\n",
              "      <td>이게 뭐요? 한국인은 거들먹거리고 필리핀 혼혈은 착하다?</td>\n",
              "      <td>0</td>\n",
              "    </tr>\n",
              "    <tr>\n",
              "      <th>149998</th>\n",
              "      <td>2376369</td>\n",
              "      <td>청춘 영화의 최고봉.방황과 우울했던 날들의 자화상</td>\n",
              "      <td>1</td>\n",
              "    </tr>\n",
              "    <tr>\n",
              "      <th>149999</th>\n",
              "      <td>9619869</td>\n",
              "      <td>한국 영화 최초로 수간하는 내용이 담긴 영화</td>\n",
              "      <td>0</td>\n",
              "    </tr>\n",
              "  </tbody>\n",
              "</table>\n",
              "<p>123040 rows × 3 columns</p>\n",
              "</div>\n",
              "      <button class=\"colab-df-convert\" onclick=\"convertToInteractive('df-2cf7d5a7-3968-47db-87f4-c78b3a8e5ed7')\"\n",
              "              title=\"Convert this dataframe to an interactive table.\"\n",
              "              style=\"display:none;\">\n",
              "        \n",
              "  <svg xmlns=\"http://www.w3.org/2000/svg\" height=\"24px\"viewBox=\"0 0 24 24\"\n",
              "       width=\"24px\">\n",
              "    <path d=\"M0 0h24v24H0V0z\" fill=\"none\"/>\n",
              "    <path d=\"M18.56 5.44l.94 2.06.94-2.06 2.06-.94-2.06-.94-.94-2.06-.94 2.06-2.06.94zm-11 1L8.5 8.5l.94-2.06 2.06-.94-2.06-.94L8.5 2.5l-.94 2.06-2.06.94zm10 10l.94 2.06.94-2.06 2.06-.94-2.06-.94-.94-2.06-.94 2.06-2.06.94z\"/><path d=\"M17.41 7.96l-1.37-1.37c-.4-.4-.92-.59-1.43-.59-.52 0-1.04.2-1.43.59L10.3 9.45l-7.72 7.72c-.78.78-.78 2.05 0 2.83L4 21.41c.39.39.9.59 1.41.59.51 0 1.02-.2 1.41-.59l7.78-7.78 2.81-2.81c.8-.78.8-2.07 0-2.86zM5.41 20L4 18.59l7.72-7.72 1.47 1.35L5.41 20z\"/>\n",
              "  </svg>\n",
              "      </button>\n",
              "      \n",
              "  <style>\n",
              "    .colab-df-container {\n",
              "      display:flex;\n",
              "      flex-wrap:wrap;\n",
              "      gap: 12px;\n",
              "    }\n",
              "\n",
              "    .colab-df-convert {\n",
              "      background-color: #E8F0FE;\n",
              "      border: none;\n",
              "      border-radius: 50%;\n",
              "      cursor: pointer;\n",
              "      display: none;\n",
              "      fill: #1967D2;\n",
              "      height: 32px;\n",
              "      padding: 0 0 0 0;\n",
              "      width: 32px;\n",
              "    }\n",
              "\n",
              "    .colab-df-convert:hover {\n",
              "      background-color: #E2EBFA;\n",
              "      box-shadow: 0px 1px 2px rgba(60, 64, 67, 0.3), 0px 1px 3px 1px rgba(60, 64, 67, 0.15);\n",
              "      fill: #174EA6;\n",
              "    }\n",
              "\n",
              "    [theme=dark] .colab-df-convert {\n",
              "      background-color: #3B4455;\n",
              "      fill: #D2E3FC;\n",
              "    }\n",
              "\n",
              "    [theme=dark] .colab-df-convert:hover {\n",
              "      background-color: #434B5C;\n",
              "      box-shadow: 0px 1px 3px 1px rgba(0, 0, 0, 0.15);\n",
              "      filter: drop-shadow(0px 1px 2px rgba(0, 0, 0, 0.3));\n",
              "      fill: #FFFFFF;\n",
              "    }\n",
              "  </style>\n",
              "\n",
              "      <script>\n",
              "        const buttonEl =\n",
              "          document.querySelector('#df-2cf7d5a7-3968-47db-87f4-c78b3a8e5ed7 button.colab-df-convert');\n",
              "        buttonEl.style.display =\n",
              "          google.colab.kernel.accessAllowed ? 'block' : 'none';\n",
              "\n",
              "        async function convertToInteractive(key) {\n",
              "          const element = document.querySelector('#df-2cf7d5a7-3968-47db-87f4-c78b3a8e5ed7');\n",
              "          const dataTable =\n",
              "            await google.colab.kernel.invokeFunction('convertToInteractive',\n",
              "                                                     [key], {});\n",
              "          if (!dataTable) return;\n",
              "\n",
              "          const docLinkHtml = 'Like what you see? Visit the ' +\n",
              "            '<a target=\"_blank\" href=https://colab.research.google.com/notebooks/data_table.ipynb>data table notebook</a>'\n",
              "            + ' to learn more about interactive tables.';\n",
              "          element.innerHTML = '';\n",
              "          dataTable['output_type'] = 'display_data';\n",
              "          await google.colab.output.renderOutput(dataTable, element);\n",
              "          const docLink = document.createElement('div');\n",
              "          docLink.innerHTML = docLinkHtml;\n",
              "          element.appendChild(docLink);\n",
              "        }\n",
              "      </script>\n",
              "    </div>\n",
              "  </div>\n",
              "  "
            ]
          },
          "metadata": {},
          "execution_count": 422
        }
      ]
    },
    {
      "cell_type": "markdown",
      "source": [
        "## 불용어 제거 및 토큰화"
      ],
      "metadata": {
        "id": "2MUb4AVoWo2O"
      }
    },
    {
      "cell_type": "code",
      "source": [
        "start = time.time()\n",
        "\n",
        "tokenizer = Mecab()\n",
        "stopwords = ['의','가','이','은','들','는','좀','잘','걍','과','도','를','으로','자','에','와','한','하다']\n",
        "\n",
        "def load_data(train_data, test_data, num_words=50000):\n",
        "  \n",
        "    X_train = []\n",
        "    for sentence in train_data['document']:\n",
        "        temp_X = tokenizer.morphs(sentence) \n",
        "        temp_X = [word for word in temp_X if not word in stopwords] \n",
        "        X_train.append(temp_X)\n",
        "\n",
        "    X_test = []\n",
        "    for sentence in test_data['document']:\n",
        "        temp_X = tokenizer.morphs(sentence) \n",
        "        temp_X = [word for word in temp_X if not word in stopwords] \n",
        "        X_test.append(temp_X)\n",
        "    \n",
        "    words = np.concatenate(X_train).tolist()\n",
        "    counter = Counter(words)\n",
        "    counter = counter.most_common(50000-4)\n",
        "    vocab = ['', '', '', ''] + [key for key, _ in counter]\n",
        "    word_to_index = {word:index for index, word in enumerate(vocab)}\n",
        "        \n",
        "    def wordlist_to_indexlist(wordlist):\n",
        "        return [word_to_index[word] if word in word_to_index else word_to_index[''] for word in wordlist]\n",
        "        \n",
        "    X_train = list(map(wordlist_to_indexlist, X_train))\n",
        "    X_test = list(map(wordlist_to_indexlist, X_test))\n",
        "        \n",
        "    return X_train, np.array(list(train_data['label'])), X_test, np.array(list(test_data['label'])), word_to_index\n",
        "    \n",
        "X_train, y_train, X_test, y_test, word_to_index = load_data(train_data, test_data) \n",
        "\n",
        "end = time.time()\n",
        "print(end - start)"
      ],
      "metadata": {
        "id": "k6sd7je_A-u2"
      },
      "execution_count": 423,
      "outputs": []
    },
    {
      "cell_type": "code",
      "source": [
        "index_to_word = {index:word for word, index in word_to_index.items()}\n",
        "print(index_to_word[4])\n",
        "print(index_to_word[5])\n",
        "print(word_to_index['영화'])"
      ],
      "metadata": {
        "colab": {
          "base_uri": "https://localhost:8080/"
        },
        "id": "GLmnLjgMWZsj",
        "outputId": "86b2c785-49e6-4db8-cc26-89a112f6581c"
      },
      "execution_count": 424,
      "outputs": [
        {
          "output_type": "stream",
          "name": "stdout",
          "text": [
            ".\n",
            "영화\n",
            "5\n"
          ]
        }
      ]
    },
    {
      "cell_type": "code",
      "source": [
        "print(len(index_to_word))"
      ],
      "metadata": {
        "colab": {
          "base_uri": "https://localhost:8080/"
        },
        "id": "S_0ELZ5CWazT",
        "outputId": "c6f85616-a1c6-4e19-c909-3f1de380a9ad"
      },
      "execution_count": 425,
      "outputs": [
        {
          "output_type": "stream",
          "name": "stdout",
          "text": [
            "42710\n"
          ]
        }
      ]
    },
    {
      "cell_type": "code",
      "source": [
        "word_to_index = {k:(v) for k,v in word_to_index.items()}\n",
        "\n",
        "word_to_index[\"<PAD>\"] = 0\n",
        "word_to_index[\"<BOS>\"] = 1\n",
        "word_to_index[\"<UNK>\"] = 2  \n",
        "word_to_index[\"<UNUSED>\"] = 3\n",
        "\n",
        "index_to_word = {index:word for word, index in word_to_index.items()}\n",
        "\n",
        "print(index_to_word[1])    \n",
        "print(word_to_index['the']) \n",
        "print(index_to_word[3]) \n",
        "print(index_to_word[4])    \n",
        "print(index_to_word[5])\n",
        "print(word_to_index['영화'])"
      ],
      "metadata": {
        "colab": {
          "base_uri": "https://localhost:8080/"
        },
        "id": "njhWEOWqW-Dh",
        "outputId": "aebce9da-7310-4ac3-fcd5-fc0da7f68396"
      },
      "execution_count": 426,
      "outputs": [
        {
          "output_type": "stream",
          "name": "stdout",
          "text": [
            "<BOS>\n",
            "1906\n",
            "<UNUSED>\n",
            ".\n",
            "영화\n",
            "5\n"
          ]
        }
      ]
    },
    {
      "cell_type": "code",
      "source": [
        "def get_encoded_sentence(sentence, word_to_index):\n",
        "    return [word_to_index['<BOS>']]+[word_to_index[word] if word in word_to_index else word_to_index['<UNK>'] for word in sentence.split()]\n",
        "\n",
        "def get_encoded_sentences(sentences, word_to_index):\n",
        "    return [get_encoded_sentence(sentence, word_to_index) for sentence in sentences]\n",
        "\n",
        "def get_decoded_sentence(encoded_sentence, index_to_word):\n",
        "    return ' '.join(index_to_word[index] if index in index_to_word else '<UNK>' for index in encoded_sentence[1:])  \n",
        "\n",
        "def get_decoded_sentences(encoded_sentences, index_to_word):\n",
        "    return [get_decoded_sentence(encoded_sentence, index_to_word) for encoded_sentence in encoded_sentences]"
      ],
      "metadata": {
        "id": "c2nzS9TZXBA1"
      },
      "execution_count": 427,
      "outputs": []
    },
    {
      "cell_type": "markdown",
      "source": [
        "## 패딩 추가"
      ],
      "metadata": {
        "id": "KL9T1dZ_cZQT"
      }
    },
    {
      "cell_type": "code",
      "source": [
        "train_data = tf.keras.preprocessing.sequence.pad_sequences(X_train,\n",
        "                                                        value=word_to_index[\"<PAD>\"],\n",
        "                                                        padding='pre',\n",
        "                                                        maxlen=60)\n",
        "\n",
        "test_data = tf.keras.preprocessing.sequence.pad_sequences(X_test,\n",
        "                                                       value=word_to_index[\"<PAD>\"],\n",
        "                                                       padding='pre',\n",
        "                                                       maxlen=60)\n",
        "\n",
        "print(train_data.shape)\n",
        "print(test_data.shape)"
      ],
      "metadata": {
        "colab": {
          "base_uri": "https://localhost:8080/"
        },
        "id": "kncbWAQPXjiK",
        "outputId": "a4616a5d-3ac7-4c7c-e9bd-dbb74176a50e"
      },
      "execution_count": 428,
      "outputs": [
        {
          "output_type": "stream",
          "name": "stdout",
          "text": [
            "(123040, 60)\n",
            "(41198, 60)\n"
          ]
        }
      ]
    },
    {
      "cell_type": "markdown",
      "source": [
        "## 테스트 데이터 분리"
      ],
      "metadata": {
        "id": "2DhCE2HmZuld"
      }
    },
    {
      "cell_type": "code",
      "source": [
        "X_train, X_val, y_train, y_val = train_test_split(train_data, y_train, test_size=0.2, shuffle=True, random_state=34)"
      ],
      "metadata": {
        "id": "uqf3_xgoX1sk"
      },
      "execution_count": 429,
      "outputs": []
    },
    {
      "cell_type": "markdown",
      "source": [
        "## 임베딩 사이즈 및 차원 설정"
      ],
      "metadata": {
        "id": "1RDia2YiZx-I"
      }
    },
    {
      "cell_type": "code",
      "source": [
        "vocab_size = 50000\n",
        "word_vector_dim = 100"
      ],
      "metadata": {
        "id": "cJhPycz9RUVY"
      },
      "execution_count": 430,
      "outputs": []
    },
    {
      "cell_type": "markdown",
      "source": [
        "## Mecab_morphs_lstm 모델"
      ],
      "metadata": {
        "id": "BiPy1iW1Z_iT"
      }
    },
    {
      "cell_type": "code",
      "source": [
        "lstm_model = tf.keras.Sequential()\n",
        "lstm_model.add(tf.keras.layers.Embedding(vocab_size, word_vector_dim, input_shape=(None,)))\n",
        "lstm_model.add(tf.keras.layers.LSTM(256))   \n",
        "lstm_model.add(tf.keras.layers.Dense(8, activation='relu'))\n",
        "lstm_model.add(tf.keras.layers.Dense(1, activation='sigmoid'))  \n",
        "\n",
        "lstm_model.summary()"
      ],
      "metadata": {
        "colab": {
          "base_uri": "https://localhost:8080/"
        },
        "id": "QT-WBIqaX_AE",
        "outputId": "1d62d734-4451-4613-b5fd-172971acd6b3"
      },
      "execution_count": 431,
      "outputs": [
        {
          "output_type": "stream",
          "name": "stdout",
          "text": [
            "Model: \"sequential_10\"\n",
            "_________________________________________________________________\n",
            " Layer (type)                Output Shape              Param #   \n",
            "=================================================================\n",
            " embedding_10 (Embedding)    (None, None, 100)         5000000   \n",
            "                                                                 \n",
            " lstm_10 (LSTM)              (None, 256)               365568    \n",
            "                                                                 \n",
            " dense_20 (Dense)            (None, 8)                 2056      \n",
            "                                                                 \n",
            " dense_21 (Dense)            (None, 1)                 9         \n",
            "                                                                 \n",
            "=================================================================\n",
            "Total params: 5,367,633\n",
            "Trainable params: 5,367,633\n",
            "Non-trainable params: 0\n",
            "_________________________________________________________________\n"
          ]
        }
      ]
    },
    {
      "cell_type": "markdown",
      "source": [
        "## 컴파일 및 학습"
      ],
      "metadata": {
        "id": "lKKq6klOaYvL"
      }
    },
    {
      "cell_type": "code",
      "source": [
        "start = time.time()\n",
        "\n",
        "lstm_model.compile(optimizer='adam',\n",
        "              loss='binary_crossentropy',\n",
        "              metrics=['accuracy'])\n",
        "              \n",
        "epochs=5\n",
        "\n",
        "lstm_history = lstm_model.fit(X_train,\n",
        "                    y_train,\n",
        "                    epochs=epochs,\n",
        "                    batch_size=512,\n",
        "                    validation_data=(X_val, y_val),\n",
        "                    verbose=1)\n",
        "\n",
        "end = time.time()\n",
        "print(end - start)"
      ],
      "metadata": {
        "colab": {
          "base_uri": "https://localhost:8080/"
        },
        "id": "KaA9L_4zYAz6",
        "outputId": "4efe9a99-f539-47a7-ef2e-7635fa4e00ec"
      },
      "execution_count": 432,
      "outputs": [
        {
          "output_type": "stream",
          "name": "stdout",
          "text": [
            "Epoch 1/5\n",
            "193/193 [==============================] - 35s 153ms/step - loss: 0.4494 - accuracy: 0.7882 - val_loss: 0.3615 - val_accuracy: 0.8410\n",
            "Epoch 2/5\n",
            "193/193 [==============================] - 14s 70ms/step - loss: 0.3057 - accuracy: 0.8733 - val_loss: 0.3537 - val_accuracy: 0.8457\n",
            "Epoch 3/5\n",
            "193/193 [==============================] - 9s 46ms/step - loss: 0.2535 - accuracy: 0.8994 - val_loss: 0.3615 - val_accuracy: 0.8456\n",
            "Epoch 4/5\n",
            "193/193 [==============================] - 10s 52ms/step - loss: 0.2152 - accuracy: 0.9171 - val_loss: 0.3816 - val_accuracy: 0.8450\n",
            "Epoch 5/5\n",
            "193/193 [==============================] - 8s 42ms/step - loss: 0.1827 - accuracy: 0.9302 - val_loss: 0.4073 - val_accuracy: 0.8449\n"
          ]
        }
      ]
    },
    {
      "cell_type": "markdown",
      "source": [
        "## 결과 데이터"
      ],
      "metadata": {
        "id": "TvuxDkeladGx"
      }
    },
    {
      "cell_type": "code",
      "source": [
        "lstm_history_dict = lstm_history.history\n",
        "\n",
        "acc = lstm_history_dict['accuracy']\n",
        "val_acc = lstm_history_dict['val_accuracy']\n",
        "loss = lstm_history_dict['loss']\n",
        "val_loss = lstm_history_dict['val_loss']\n",
        "\n",
        "epochs = range(1, len(acc) + 1)\n",
        "\n",
        "\n",
        "plt.plot(epochs, loss, 'bo', label='Training loss')\n",
        "\n",
        "plt.plot(epochs, val_loss, 'b', label='Validation loss')\n",
        "plt.title('Training and validation loss(LSTM)')\n",
        "plt.xlabel('Epochs')\n",
        "plt.ylabel('Loss')\n",
        "plt.legend()\n",
        "\n",
        "plt.show()"
      ],
      "metadata": {
        "colab": {
          "base_uri": "https://localhost:8080/",
          "height": 295
        },
        "id": "_F91f6ktYE_P",
        "outputId": "7b2d5820-3722-4d75-acdd-00816de71db0"
      },
      "execution_count": 433,
      "outputs": [
        {
          "output_type": "display_data",
          "data": {
            "text/plain": [
              "<Figure size 432x288 with 1 Axes>"
            ],
            "image/png": "[encoded data removed]"
          },
          "metadata": {
            "needs_background": "light"
          }
        }
      ]
    },
    {
      "cell_type": "code",
      "source": [
        "plt.clf()   \n",
        "\n",
        "plt.plot(epochs, acc, 'bo', label='Training acc')\n",
        "plt.plot(epochs, val_acc, 'b', label='Validation acc')\n",
        "plt.title('Training and validation accuracy(LSTM)')\n",
        "plt.xlabel('Epochs')\n",
        "plt.ylabel('Accuracy')\n",
        "plt.legend()\n",
        "\n",
        "plt.show()"
      ],
      "metadata": {
        "colab": {
          "base_uri": "https://localhost:8080/",
          "height": 295
        },
        "id": "6y6FLOW-YHJu",
        "outputId": "437005f7-1d12-452a-d112-2ac69f87e426"
      },
      "execution_count": 434,
      "outputs": [
        {
          "output_type": "display_data",
          "data": {
            "text/plain": [
              "<Figure size 432x288 with 1 Axes>"
            ],
            "image/png": "[encoded data removed]"
          },
          "metadata": {
            "needs_background": "light"
          }
        }
      ]
    },
    {
      "cell_type": "code",
      "source": [
        "lstm_results = lstm_model.evaluate(test_data,  y_test, verbose=2)\n",
        "\n",
        "print(lstm_results)"
      ],
      "metadata": {
        "colab": {
          "base_uri": "https://localhost:8080/"
        },
        "id": "ktktVwACYIw-",
        "outputId": "fb852284-484b-4de4-df38-6bd952fc1999"
      },
      "execution_count": 435,
      "outputs": [
        {
          "output_type": "stream",
          "name": "stdout",
          "text": [
            "1288/1288 - 4s - loss: 0.4082 - accuracy: 0.8426 - 4s/epoch - 3ms/step\n",
            "[0.40817761421203613, 0.8426380157470703]\n"
          ]
        }
      ]
    },
    {
      "cell_type": "markdown",
      "source": [
        "# Sentencepiece - Unigram"
      ],
      "metadata": {
        "id": "WHq9m4Hb5mMz"
      }
    },
    {
      "cell_type": "markdown",
      "source": [
        "## 데이터 로드"
      ],
      "metadata": {
        "id": "-kCGKZE2qwCv"
      }
    },
    {
      "cell_type": "code",
      "source": [
        "train_data = pd.read_table('/content/drive/MyDrive/Exploration/e08/data/ratings_train.txt')\n",
        "test_data = pd.read_table('/content/drive/MyDrive/Exploration/e08/data/ratings_test.txt')"
      ],
      "metadata": {
        "id": "9oHHelOwqz7z"
      },
      "execution_count": 436,
      "outputs": []
    },
    {
      "cell_type": "markdown",
      "source": [
        "\n",
        "## 결측치 및 중복값 제거"
      ],
      "metadata": {
        "id": "bmEdVgAXq1UP"
      }
    },
    {
      "cell_type": "code",
      "source": [
        "train_data.drop_duplicates(subset=['document'], inplace=True)\n",
        "train_data = train_data.dropna(how = 'any') \n",
        "test_data.drop_duplicates(subset=['document'], inplace=True)\n",
        "test_data = test_data.dropna(how = 'any') "
      ],
      "metadata": {
        "id": "RRQMjuIiq5Ru"
      },
      "execution_count": 437,
      "outputs": []
    },
    {
      "cell_type": "markdown",
      "source": [
        "## 문장 길이 조절"
      ],
      "metadata": {
        "id": "kXDPLJLRc_Ui"
      }
    },
    {
      "cell_type": "code",
      "source": [
        "max_len = 60\n",
        "min_len = 5\n",
        "\n",
        "train_corpus = train_data.loc[(train_data['document'].str.len() >= min_len) & (train_data['document'].str.len() < max_len), 'document']\n",
        "y_train = train_data.loc[(train_data['document'].str.len() >= min_len) & (train_data['document'].str.len() < max_len), 'label']\n",
        "\n",
        "test_corpus = test_data.loc[(test_data['document'].str.len() >= min_len) & (test_data['document'].str.len() < max_len), 'document']\n",
        "y_test = test_data.loc[(test_data['document'].str.len() >= min_len) & (test_data['document'].str.len() < max_len), 'label']\n",
        "\n",
        "print(len(train_corpus))\n",
        "print(len(test_corpus))"
      ],
      "metadata": {
        "colab": {
          "base_uri": "https://localhost:8080/"
        },
        "id": "xOnYcC22c-k_",
        "outputId": "641d7bf6-ffc1-4614-c20a-58da1aff7ef8"
      },
      "execution_count": 438,
      "outputs": [
        {
          "output_type": "stream",
          "name": "stdout",
          "text": [
            "123040\n",
            "41198\n"
          ]
        }
      ]
    },
    {
      "cell_type": "markdown",
      "source": [
        "## Unigram 옵션 학습"
      ],
      "metadata": {
        "id": "9cjFckz5zF9L"
      }
    },
    {
      "cell_type": "code",
      "source": [
        "start = time.time()\n",
        "\n",
        "temp_file = '/content/drive/MyDrive/deepNLP/Sentencepiece_uigram'\n",
        "\n",
        "with open(temp_file, 'w') as f:\n",
        "    for row in train_corpus:   \n",
        "        f.write(str(row) + '\\n')\n",
        "\n",
        "spm.SentencePieceTrainer.Train(\n",
        "    '--input={} --model_prefix=unigram_spm --vocab_size={}'.format(temp_file, vocab_size)    \n",
        ")\n",
        "\n",
        "end = time.time()\n",
        "print(end - start)"
      ],
      "metadata": {
        "colab": {
          "base_uri": "https://localhost:8080/"
        },
        "id": "Mdt5ZEbdr76V",
        "outputId": "4b715502-41f5-40ef-cc83-56e6289f5420"
      },
      "execution_count": 439,
      "outputs": [
        {
          "output_type": "stream",
          "name": "stdout",
          "text": [
            "19.35115623474121\n"
          ]
        }
      ]
    },
    {
      "cell_type": "markdown",
      "source": [
        "## Unigram 토큰화"
      ],
      "metadata": {
        "id": "a5CHasKkzNCz"
      }
    },
    {
      "cell_type": "code",
      "source": [
        "def sp_tokenize(s, corpus):\n",
        "\n",
        "    tensor = []\n",
        "\n",
        "    for sen in corpus:\n",
        "        tensor.append(s.EncodeAsIds(sen))\n",
        "\n",
        "    with open(\"/content/unigram_spm.vocab\", 'r') as f:\n",
        "        vocab = f.readlines()\n",
        "\n",
        "    word_index = {}\n",
        "    index_word = {}\n",
        "\n",
        "    for idx, line in enumerate(vocab):\n",
        "        word = line.split(\"\\t\")[0]\n",
        "\n",
        "        word_index.update({word:idx})\n",
        "        index_word.update({idx:word})\n",
        "\n",
        "    tensor = tf.keras.preprocessing.sequence.pad_sequences(tensor, padding='pre', maxlen=max_len)\n",
        "\n",
        "    return tensor, word_index, index_word"
      ],
      "metadata": {
        "id": "iHzDM29qfhps"
      },
      "execution_count": 440,
      "outputs": []
    },
    {
      "cell_type": "code",
      "source": [
        "s = spm.SentencePieceProcessor()\n",
        "s.Load('/content/unigram_spm.model')\n",
        "\n",
        "train_data, word_index, index_word = sp_tokenize(s, train_corpus)\n",
        "test_data, word_index, index_word = sp_tokenize(s, test_corpus)\n",
        "\n",
        "print(train_data.shape)\n",
        "print(test_data.shape)"
      ],
      "metadata": {
        "colab": {
          "base_uri": "https://localhost:8080/"
        },
        "id": "CfJj3EUgfj1Q",
        "outputId": "3d136154-e48d-494e-b8bc-b679bb1e6e48"
      },
      "execution_count": 441,
      "outputs": [
        {
          "output_type": "stream",
          "name": "stdout",
          "text": [
            "(123040, 60)\n",
            "(41198, 60)\n"
          ]
        }
      ]
    },
    {
      "cell_type": "markdown",
      "source": [
        "## 데이터 분리"
      ],
      "metadata": {
        "id": "q4wzqNBfRbEb"
      }
    },
    {
      "cell_type": "code",
      "source": [
        "X_train, X_val, y_train, y_val = train_test_split(train_data, y_train, test_size=0.2, shuffle=True, random_state=34)"
      ],
      "metadata": {
        "id": "4_b5u5M97stm"
      },
      "execution_count": 442,
      "outputs": []
    },
    {
      "cell_type": "markdown",
      "source": [
        "## SP_unigram_lstm 모델"
      ],
      "metadata": {
        "id": "HG5vSX8BRgJs"
      }
    },
    {
      "cell_type": "code",
      "source": [
        "ugm_lstm_model = tf.keras.Sequential()\n",
        "ugm_lstm_model.add(tf.keras.layers.Embedding(vocab_size, word_vector_dim, input_shape=(None,)))\n",
        "ugm_lstm_model.add(tf.keras.layers.LSTM(256))   \n",
        "ugm_lstm_model.add(tf.keras.layers.Dense(8, activation='relu'))\n",
        "ugm_lstm_model.add(tf.keras.layers.Dense(1, activation='sigmoid'))  \n",
        "\n",
        "ugm_lstm_model.summary()"
      ],
      "metadata": {
        "colab": {
          "base_uri": "https://localhost:8080/"
        },
        "id": "5pdA8N6ji2aH",
        "outputId": "a90101b6-1c2a-47c7-a13e-66775fd4239c"
      },
      "execution_count": 443,
      "outputs": [
        {
          "output_type": "stream",
          "name": "stdout",
          "text": [
            "Model: \"sequential_11\"\n",
            "_________________________________________________________________\n",
            " Layer (type)                Output Shape              Param #   \n",
            "=================================================================\n",
            " embedding_11 (Embedding)    (None, None, 100)         5000000   \n",
            "                                                                 \n",
            " lstm_11 (LSTM)              (None, 256)               365568    \n",
            "                                                                 \n",
            " dense_22 (Dense)            (None, 8)                 2056      \n",
            "                                                                 \n",
            " dense_23 (Dense)            (None, 1)                 9         \n",
            "                                                                 \n",
            "=================================================================\n",
            "Total params: 5,367,633\n",
            "Trainable params: 5,367,633\n",
            "Non-trainable params: 0\n",
            "_________________________________________________________________\n"
          ]
        }
      ]
    },
    {
      "cell_type": "markdown",
      "source": [
        "## 컴파일 및 학습"
      ],
      "metadata": {
        "id": "haygEwS_zSIr"
      }
    },
    {
      "cell_type": "code",
      "source": [
        "start = time.time()\n",
        "\n",
        "ugm_lstm_model.compile(optimizer='adam',\n",
        "              loss='binary_crossentropy',\n",
        "              metrics=['accuracy'])\n",
        "              \n",
        "epochs=5\n",
        "\n",
        "ugm_lstm_history = ugm_lstm_model.fit(X_train,\n",
        "                    y_train,\n",
        "                    epochs=epochs,\n",
        "                    batch_size=512,\n",
        "                    validation_data=(X_val, y_val),\n",
        "                    verbose=1)\n",
        "\n",
        "end = time.time()\n",
        "print(end - start)"
      ],
      "metadata": {
        "colab": {
          "base_uri": "https://localhost:8080/",
          "height": 417
        },
        "id": "azTnrh1ZjXRy",
        "outputId": "d1247517-b6a1-41e6-baf5-24970b6ac499"
      },
      "execution_count": 524,
      "outputs": [
        {
          "output_type": "stream",
          "name": "stdout",
          "text": [
            "Epoch 1/5\n"
          ]
        },
        {
          "output_type": "error",
          "ename": "KeyboardInterrupt",
          "evalue": "ignored",
          "traceback": [
            "\u001b[0;31m---------------------------------------------------------------------------\u001b[0m",
            "\u001b[0;31mKeyboardInterrupt\u001b[0m                         Traceback (most recent call last)",
            "\u001b[0;32m<ipython-input-524-f915a7cb2c7a>\u001b[0m in \u001b[0;36m<module>\u001b[0;34m\u001b[0m\n\u001b[1;32m      7\u001b[0m \u001b[0mepochs\u001b[0m\u001b[0;34m=\u001b[0m\u001b[0;36m5\u001b[0m\u001b[0;34m\u001b[0m\u001b[0;34m\u001b[0m\u001b[0m\n\u001b[1;32m      8\u001b[0m \u001b[0;34m\u001b[0m\u001b[0m\n\u001b[0;32m----> 9\u001b[0;31m ugm_lstm_history = ugm_lstm_model.fit(X_train,\n\u001b[0m\u001b[1;32m     10\u001b[0m                     \u001b[0my_train\u001b[0m\u001b[0;34m,\u001b[0m\u001b[0;34m\u001b[0m\u001b[0;34m\u001b[0m\u001b[0m\n\u001b[1;32m     11\u001b[0m                     \u001b[0mepochs\u001b[0m\u001b[0;34m=\u001b[0m\u001b[0mepochs\u001b[0m\u001b[0;34m,\u001b[0m\u001b[0;34m\u001b[0m\u001b[0;34m\u001b[0m\u001b[0m\n",
            "\u001b[0;32m/usr/local/lib/python3.8/dist-packages/keras/utils/traceback_utils.py\u001b[0m in \u001b[0;36merror_handler\u001b[0;34m(*args, **kwargs)\u001b[0m\n\u001b[1;32m     63\u001b[0m         \u001b[0mfiltered_tb\u001b[0m \u001b[0;34m=\u001b[0m \u001b[0;32mNone\u001b[0m\u001b[0;34m\u001b[0m\u001b[0;34m\u001b[0m\u001b[0m\n\u001b[1;32m     64\u001b[0m         \u001b[0;32mtry\u001b[0m\u001b[0;34m:\u001b[0m\u001b[0;34m\u001b[0m\u001b[0;34m\u001b[0m\u001b[0m\n\u001b[0;32m---> 65\u001b[0;31m             \u001b[0;32mreturn\u001b[0m \u001b[0mfn\u001b[0m\u001b[0;34m(\u001b[0m\u001b[0;34m*\u001b[0m\u001b[0margs\u001b[0m\u001b[0;34m,\u001b[0m \u001b[0;34m**\u001b[0m\u001b[0mkwargs\u001b[0m\u001b[0;34m)\u001b[0m\u001b[0;34m\u001b[0m\u001b[0;34m\u001b[0m\u001b[0m\n\u001b[0m\u001b[1;32m     66\u001b[0m         \u001b[0;32mexcept\u001b[0m \u001b[0mException\u001b[0m \u001b[0;32mas\u001b[0m \u001b[0me\u001b[0m\u001b[0;34m:\u001b[0m\u001b[0;34m\u001b[0m\u001b[0;34m\u001b[0m\u001b[0m\n\u001b[1;32m     67\u001b[0m             \u001b[0mfiltered_tb\u001b[0m \u001b[0;34m=\u001b[0m \u001b[0m_process_traceback_frames\u001b[0m\u001b[0;34m(\u001b[0m\u001b[0me\u001b[0m\u001b[0;34m.\u001b[0m\u001b[0m__traceback__\u001b[0m\u001b[0;34m)\u001b[0m\u001b[0;34m\u001b[0m\u001b[0;34m\u001b[0m\u001b[0m\n",
            "\u001b[0;32m/usr/local/lib/python3.8/dist-packages/keras/engine/training.py\u001b[0m in \u001b[0;36mfit\u001b[0;34m(self, x, y, batch_size, epochs, verbose, callbacks, validation_split, validation_data, shuffle, class_weight, sample_weight, initial_epoch, steps_per_epoch, validation_steps, validation_batch_size, validation_freq, max_queue_size, workers, use_multiprocessing)\u001b[0m\n\u001b[1;32m   1648\u001b[0m                         ):\n\u001b[1;32m   1649\u001b[0m                             \u001b[0mcallbacks\u001b[0m\u001b[0;34m.\u001b[0m\u001b[0mon_train_batch_begin\u001b[0m\u001b[0;34m(\u001b[0m\u001b[0mstep\u001b[0m\u001b[0;34m)\u001b[0m\u001b[0;34m\u001b[0m\u001b[0;34m\u001b[0m\u001b[0m\n\u001b[0;32m-> 1650\u001b[0;31m                             \u001b[0mtmp_logs\u001b[0m \u001b[0;34m=\u001b[0m \u001b[0mself\u001b[0m\u001b[0;34m.\u001b[0m\u001b[0mtrain_function\u001b[0m\u001b[0;34m(\u001b[0m\u001b[0miterator\u001b[0m\u001b[0;34m)\u001b[0m\u001b[0;34m\u001b[0m\u001b[0;34m\u001b[0m\u001b[0m\n\u001b[0m\u001b[1;32m   1651\u001b[0m                             \u001b[0;32mif\u001b[0m \u001b[0mdata_handler\u001b[0m\u001b[0;34m.\u001b[0m\u001b[0mshould_sync\u001b[0m\u001b[0;34m:\u001b[0m\u001b[0;34m\u001b[0m\u001b[0;34m\u001b[0m\u001b[0m\n\u001b[1;32m   1652\u001b[0m                                 \u001b[0mcontext\u001b[0m\u001b[0;34m.\u001b[0m\u001b[0masync_wait\u001b[0m\u001b[0;34m(\u001b[0m\u001b[0;34m)\u001b[0m\u001b[0;34m\u001b[0m\u001b[0;34m\u001b[0m\u001b[0m\n",
            "\u001b[0;32m/usr/local/lib/python3.8/dist-packages/tensorflow/python/util/traceback_utils.py\u001b[0m in \u001b[0;36merror_handler\u001b[0;34m(*args, **kwargs)\u001b[0m\n\u001b[1;32m    148\u001b[0m     \u001b[0mfiltered_tb\u001b[0m \u001b[0;34m=\u001b[0m \u001b[0;32mNone\u001b[0m\u001b[0;34m\u001b[0m\u001b[0;34m\u001b[0m\u001b[0m\n\u001b[1;32m    149\u001b[0m     \u001b[0;32mtry\u001b[0m\u001b[0;34m:\u001b[0m\u001b[0;34m\u001b[0m\u001b[0;34m\u001b[0m\u001b[0m\n\u001b[0;32m--> 150\u001b[0;31m       \u001b[0;32mreturn\u001b[0m \u001b[0mfn\u001b[0m\u001b[0;34m(\u001b[0m\u001b[0;34m*\u001b[0m\u001b[0margs\u001b[0m\u001b[0;34m,\u001b[0m \u001b[0;34m**\u001b[0m\u001b[0mkwargs\u001b[0m\u001b[0;34m)\u001b[0m\u001b[0;34m\u001b[0m\u001b[0;34m\u001b[0m\u001b[0m\n\u001b[0m\u001b[1;32m    151\u001b[0m     \u001b[0;32mexcept\u001b[0m \u001b[0mException\u001b[0m \u001b[0;32mas\u001b[0m \u001b[0me\u001b[0m\u001b[0;34m:\u001b[0m\u001b[0;34m\u001b[0m\u001b[0;34m\u001b[0m\u001b[0m\n\u001b[1;32m    152\u001b[0m       \u001b[0mfiltered_tb\u001b[0m \u001b[0;34m=\u001b[0m \u001b[0m_process_traceback_frames\u001b[0m\u001b[0;34m(\u001b[0m\u001b[0me\u001b[0m\u001b[0;34m.\u001b[0m\u001b[0m__traceback__\u001b[0m\u001b[0;34m)\u001b[0m\u001b[0;34m\u001b[0m\u001b[0;34m\u001b[0m\u001b[0m\n",
            "\u001b[0;32m/usr/local/lib/python3.8/dist-packages/tensorflow/python/eager/polymorphic_function/polymorphic_function.py\u001b[0m in \u001b[0;36m__call__\u001b[0;34m(self, *args, **kwds)\u001b[0m\n\u001b[1;32m    878\u001b[0m \u001b[0;34m\u001b[0m\u001b[0m\n\u001b[1;32m    879\u001b[0m       \u001b[0;32mwith\u001b[0m \u001b[0mOptionalXlaContext\u001b[0m\u001b[0;34m(\u001b[0m\u001b[0mself\u001b[0m\u001b[0;34m.\u001b[0m\u001b[0m_jit_compile\u001b[0m\u001b[0;34m)\u001b[0m\u001b[0;34m:\u001b[0m\u001b[0;34m\u001b[0m\u001b[0;34m\u001b[0m\u001b[0m\n\u001b[0;32m--> 880\u001b[0;31m         \u001b[0mresult\u001b[0m \u001b[0;34m=\u001b[0m \u001b[0mself\u001b[0m\u001b[0;34m.\u001b[0m\u001b[0m_call\u001b[0m\u001b[0;34m(\u001b[0m\u001b[0;34m*\u001b[0m\u001b[0margs\u001b[0m\u001b[0;34m,\u001b[0m \u001b[0;34m**\u001b[0m\u001b[0mkwds\u001b[0m\u001b[0;34m)\u001b[0m\u001b[0;34m\u001b[0m\u001b[0;34m\u001b[0m\u001b[0m\n\u001b[0m\u001b[1;32m    881\u001b[0m \u001b[0;34m\u001b[0m\u001b[0m\n\u001b[1;32m    882\u001b[0m       \u001b[0mnew_tracing_count\u001b[0m \u001b[0;34m=\u001b[0m \u001b[0mself\u001b[0m\u001b[0;34m.\u001b[0m\u001b[0mexperimental_get_tracing_count\u001b[0m\u001b[0;34m(\u001b[0m\u001b[0;34m)\u001b[0m\u001b[0;34m\u001b[0m\u001b[0;34m\u001b[0m\u001b[0m\n",
            "\u001b[0;32m/usr/local/lib/python3.8/dist-packages/tensorflow/python/eager/polymorphic_function/polymorphic_function.py\u001b[0m in \u001b[0;36m_call\u001b[0;34m(self, *args, **kwds)\u001b[0m\n\u001b[1;32m    943\u001b[0m         \u001b[0;31m# Lifting succeeded, so variables are initialized and we can run the\u001b[0m\u001b[0;34m\u001b[0m\u001b[0;34m\u001b[0m\u001b[0;34m\u001b[0m\u001b[0m\n\u001b[1;32m    944\u001b[0m         \u001b[0;31m# no_variable_creation function.\u001b[0m\u001b[0;34m\u001b[0m\u001b[0;34m\u001b[0m\u001b[0;34m\u001b[0m\u001b[0m\n\u001b[0;32m--> 945\u001b[0;31m         \u001b[0;32mreturn\u001b[0m \u001b[0mself\u001b[0m\u001b[0;34m.\u001b[0m\u001b[0m_no_variable_creation_fn\u001b[0m\u001b[0;34m(\u001b[0m\u001b[0;34m*\u001b[0m\u001b[0margs\u001b[0m\u001b[0;34m,\u001b[0m \u001b[0;34m**\u001b[0m\u001b[0mkwds\u001b[0m\u001b[0;34m)\u001b[0m\u001b[0;34m\u001b[0m\u001b[0;34m\u001b[0m\u001b[0m\n\u001b[0m\u001b[1;32m    946\u001b[0m     \u001b[0;32melse\u001b[0m\u001b[0;34m:\u001b[0m\u001b[0;34m\u001b[0m\u001b[0;34m\u001b[0m\u001b[0m\n\u001b[1;32m    947\u001b[0m       _, _, filtered_flat_args = (\n",
            "\u001b[0;32m/usr/local/lib/python3.8/dist-packages/tensorflow/python/eager/polymorphic_function/tracing_compiler.py\u001b[0m in \u001b[0;36m__call__\u001b[0;34m(self, *args, **kwargs)\u001b[0m\n\u001b[1;32m    132\u001b[0m       (concrete_function,\n\u001b[1;32m    133\u001b[0m        filtered_flat_args) = self._maybe_define_function(args, kwargs)\n\u001b[0;32m--> 134\u001b[0;31m     return concrete_function._call_flat(\n\u001b[0m\u001b[1;32m    135\u001b[0m         filtered_flat_args, captured_inputs=concrete_function.captured_inputs)  # pylint: disable=protected-access\n\u001b[1;32m    136\u001b[0m \u001b[0;34m\u001b[0m\u001b[0m\n",
            "\u001b[0;32m/usr/local/lib/python3.8/dist-packages/tensorflow/python/eager/polymorphic_function/monomorphic_function.py\u001b[0m in \u001b[0;36m_call_flat\u001b[0;34m(self, args, captured_inputs, cancellation_manager)\u001b[0m\n\u001b[1;32m   1743\u001b[0m         and executing_eagerly):\n\u001b[1;32m   1744\u001b[0m       \u001b[0;31m# No tape is watching; skip to running the function.\u001b[0m\u001b[0;34m\u001b[0m\u001b[0;34m\u001b[0m\u001b[0;34m\u001b[0m\u001b[0m\n\u001b[0;32m-> 1745\u001b[0;31m       return self._build_call_outputs(self._inference_function.call(\n\u001b[0m\u001b[1;32m   1746\u001b[0m           ctx, args, cancellation_manager=cancellation_manager))\n\u001b[1;32m   1747\u001b[0m     forward_backward = self._select_forward_and_backward_functions(\n",
            "\u001b[0;32m/usr/local/lib/python3.8/dist-packages/tensorflow/python/eager/polymorphic_function/monomorphic_function.py\u001b[0m in \u001b[0;36mcall\u001b[0;34m(self, ctx, args, cancellation_manager)\u001b[0m\n\u001b[1;32m    376\u001b[0m       \u001b[0;32mwith\u001b[0m \u001b[0m_InterpolateFunctionError\u001b[0m\u001b[0;34m(\u001b[0m\u001b[0mself\u001b[0m\u001b[0;34m)\u001b[0m\u001b[0;34m:\u001b[0m\u001b[0;34m\u001b[0m\u001b[0;34m\u001b[0m\u001b[0m\n\u001b[1;32m    377\u001b[0m         \u001b[0;32mif\u001b[0m \u001b[0mcancellation_manager\u001b[0m \u001b[0;32mis\u001b[0m \u001b[0;32mNone\u001b[0m\u001b[0;34m:\u001b[0m\u001b[0;34m\u001b[0m\u001b[0;34m\u001b[0m\u001b[0m\n\u001b[0;32m--> 378\u001b[0;31m           outputs = execute.execute(\n\u001b[0m\u001b[1;32m    379\u001b[0m               \u001b[0mstr\u001b[0m\u001b[0;34m(\u001b[0m\u001b[0mself\u001b[0m\u001b[0;34m.\u001b[0m\u001b[0msignature\u001b[0m\u001b[0;34m.\u001b[0m\u001b[0mname\u001b[0m\u001b[0;34m)\u001b[0m\u001b[0;34m,\u001b[0m\u001b[0;34m\u001b[0m\u001b[0;34m\u001b[0m\u001b[0m\n\u001b[1;32m    380\u001b[0m               \u001b[0mnum_outputs\u001b[0m\u001b[0;34m=\u001b[0m\u001b[0mself\u001b[0m\u001b[0;34m.\u001b[0m\u001b[0m_num_outputs\u001b[0m\u001b[0;34m,\u001b[0m\u001b[0;34m\u001b[0m\u001b[0;34m\u001b[0m\u001b[0m\n",
            "\u001b[0;32m/usr/local/lib/python3.8/dist-packages/tensorflow/python/eager/execute.py\u001b[0m in \u001b[0;36mquick_execute\u001b[0;34m(op_name, num_outputs, inputs, attrs, ctx, name)\u001b[0m\n\u001b[1;32m     50\u001b[0m   \u001b[0;32mtry\u001b[0m\u001b[0;34m:\u001b[0m\u001b[0;34m\u001b[0m\u001b[0;34m\u001b[0m\u001b[0m\n\u001b[1;32m     51\u001b[0m     \u001b[0mctx\u001b[0m\u001b[0;34m.\u001b[0m\u001b[0mensure_initialized\u001b[0m\u001b[0;34m(\u001b[0m\u001b[0;34m)\u001b[0m\u001b[0;34m\u001b[0m\u001b[0;34m\u001b[0m\u001b[0m\n\u001b[0;32m---> 52\u001b[0;31m     tensors = pywrap_tfe.TFE_Py_Execute(ctx._handle, device_name, op_name,\n\u001b[0m\u001b[1;32m     53\u001b[0m                                         inputs, attrs, num_outputs)\n\u001b[1;32m     54\u001b[0m   \u001b[0;32mexcept\u001b[0m \u001b[0mcore\u001b[0m\u001b[0;34m.\u001b[0m\u001b[0m_NotOkStatusException\u001b[0m \u001b[0;32mas\u001b[0m \u001b[0me\u001b[0m\u001b[0;34m:\u001b[0m\u001b[0;34m\u001b[0m\u001b[0;34m\u001b[0m\u001b[0m\n",
            "\u001b[0;31mKeyboardInterrupt\u001b[0m: "
          ]
        }
      ]
    },
    {
      "cell_type": "markdown",
      "source": [
        "## 결과 데이터"
      ],
      "metadata": {
        "id": "oYSepCG-08XB"
      }
    },
    {
      "cell_type": "code",
      "source": [
        "ugm_lstm_history_dict = ugm_lstm_history.history\n",
        "\n",
        "acc = ugm_lstm_history_dict['accuracy']\n",
        "val_acc = ugm_lstm_history_dict['val_accuracy']\n",
        "loss = ugm_lstm_history_dict['loss']\n",
        "val_loss = ugm_lstm_history_dict['val_loss']\n",
        "\n",
        "epochs = range(1, len(acc) + 1)"
      ],
      "metadata": {
        "id": "l_rIZF6Dmlms"
      },
      "execution_count": 445,
      "outputs": []
    },
    {
      "cell_type": "code",
      "source": [
        "plt.plot(epochs, loss, 'bo', label='Training loss')\n",
        "\n",
        "plt.plot(epochs, val_loss, 'b', label='Validation loss')\n",
        "plt.title('Training and validation loss(LSTM)')\n",
        "plt.xlabel('Epochs')\n",
        "plt.ylabel('Loss')\n",
        "plt.legend()\n",
        "\n",
        "plt.show()"
      ],
      "metadata": {
        "colab": {
          "base_uri": "https://localhost:8080/",
          "height": 295
        },
        "id": "xc3H-alOR8Ry",
        "outputId": "2ac76839-1f20-42e0-8b49-9ee8520c8763"
      },
      "execution_count": 446,
      "outputs": [
        {
          "output_type": "display_data",
          "data": {
            "text/plain": [
              "<Figure size 432x288 with 1 Axes>"
            ],
            "image/png": "[encoded data removed]"
          },
          "metadata": {
            "needs_background": "light"
          }
        }
      ]
    },
    {
      "cell_type": "code",
      "source": [
        "plt.clf()   \n",
        "\n",
        "plt.plot(epochs, acc, 'bo', label='Training acc')\n",
        "plt.plot(epochs, val_acc, 'b', label='Validation acc')\n",
        "plt.title('Training and validation accuracy(LSTM)')\n",
        "plt.xlabel('Epochs')\n",
        "plt.ylabel('Accuracy')\n",
        "plt.legend()\n",
        "\n",
        "plt.show()"
      ],
      "metadata": {
        "colab": {
          "base_uri": "https://localhost:8080/",
          "height": 295
        },
        "id": "nu5mRHQfmm8m",
        "outputId": "7ab896dc-1fb1-45d0-c08e-917dc1205e48"
      },
      "execution_count": 447,
      "outputs": [
        {
          "output_type": "display_data",
          "data": {
            "text/plain": [
              "<Figure size 432x288 with 1 Axes>"
            ],
            "image/png": "[encoded data removed]"
          },
          "metadata": {
            "needs_background": "light"
          }
        }
      ]
    },
    {
      "cell_type": "code",
      "source": [
        "ugm_lstm_results = ugm_lstm_model.evaluate(test_data,  y_test, verbose=2)"
      ],
      "metadata": {
        "colab": {
          "base_uri": "https://localhost:8080/"
        },
        "id": "MnXzP4swmoLY",
        "outputId": "4417435d-27ed-48f2-9831-1ba27e58a5a1"
      },
      "execution_count": 448,
      "outputs": [
        {
          "output_type": "stream",
          "name": "stdout",
          "text": [
            "1288/1288 - 5s - loss: 0.5327 - accuracy: 0.8234 - 5s/epoch - 4ms/step\n"
          ]
        }
      ]
    },
    {
      "cell_type": "markdown",
      "source": [
        "# Sentencepiece - BPE"
      ],
      "metadata": {
        "id": "4n5uHZAv7MfA"
      }
    },
    {
      "cell_type": "markdown",
      "source": [
        "## 데이터 로드"
      ],
      "metadata": {
        "id": "Qo0OsMcdz1lO"
      }
    },
    {
      "cell_type": "code",
      "source": [
        "train_data = pd.read_table('/content/drive/MyDrive/Exploration/e08/data/ratings_train.txt')\n",
        "test_data = pd.read_table('/content/drive/MyDrive/Exploration/e08/data/ratings_test.txt')"
      ],
      "metadata": {
        "id": "AIiLeMKhz3zl"
      },
      "execution_count": 449,
      "outputs": []
    },
    {
      "cell_type": "markdown",
      "source": [
        "## 결측치 및 중복값 제거"
      ],
      "metadata": {
        "id": "VCc_7HPhz6M3"
      }
    },
    {
      "cell_type": "code",
      "source": [
        "train_data.drop_duplicates(subset=['document'], inplace=True)\n",
        "train_data = train_data.dropna(how = 'any') \n",
        "test_data.drop_duplicates(subset=['document'], inplace=True)\n",
        "test_data = test_data.dropna(how = 'any') "
      ],
      "metadata": {
        "id": "SVXyp6rfz8en"
      },
      "execution_count": 450,
      "outputs": []
    },
    {
      "cell_type": "markdown",
      "source": [
        "## 문장 길이 조절"
      ],
      "metadata": {
        "id": "ceuuZQx9z_1c"
      }
    },
    {
      "cell_type": "code",
      "source": [
        "max_len = 60\n",
        "min_len = 5\n",
        "\n",
        "train_corpus = train_data.loc[(train_data['document'].str.len() >= min_len) & (train_data['document'].str.len() < max_len), 'document']\n",
        "y_train = train_data.loc[(train_data['document'].str.len() >= min_len) & (train_data['document'].str.len() < max_len), 'label']\n",
        "\n",
        "test_corpus = test_data.loc[(test_data['document'].str.len() >= min_len) & (test_data['document'].str.len() < max_len), 'document']\n",
        "y_test = test_data.loc[(test_data['document'].str.len() >= min_len) & (test_data['document'].str.len() < max_len), 'label']\n",
        "\n",
        "print(len(train_corpus))\n",
        "print(len(test_corpus))"
      ],
      "metadata": {
        "colab": {
          "base_uri": "https://localhost:8080/"
        },
        "id": "U_nq4z-60DgQ",
        "outputId": "78861df2-10f5-4ad3-dda0-094bed167ac8"
      },
      "execution_count": 451,
      "outputs": [
        {
          "output_type": "stream",
          "name": "stdout",
          "text": [
            "123040\n",
            "41198\n"
          ]
        }
      ]
    },
    {
      "cell_type": "markdown",
      "source": [
        "## BPE 옵션 학습"
      ],
      "metadata": {
        "id": "45eW5hUjxtEf"
      }
    },
    {
      "cell_type": "code",
      "source": [
        "start = time.time()\n",
        "\n",
        "temp_file = '/content/drive/MyDrive/deepNLP/Sentencepiece_bpe'\n",
        "\n",
        "with open(temp_file, 'w') as f:\n",
        "    for row in train_corpus:   \n",
        "        f.write(str(row) + '\\n')\n",
        "\n",
        "spm.SentencePieceTrainer.Train(\n",
        "    '--input={} --model_prefix=bpe_spm --vocab_size={} --model_type=bpe'.format(temp_file, vocab_size)    \n",
        ")\n",
        "\n",
        "end = time.time()\n",
        "print(end - start)"
      ],
      "metadata": {
        "colab": {
          "base_uri": "https://localhost:8080/"
        },
        "id": "GGJ1eB0Pp4df",
        "outputId": "cc98b021-f15c-445b-e25d-b07ac0e705e3"
      },
      "execution_count": 452,
      "outputs": [
        {
          "output_type": "stream",
          "name": "stdout",
          "text": [
            "89.24936985969543\n"
          ]
        }
      ]
    },
    {
      "cell_type": "markdown",
      "source": [
        "## BPE 토큰화"
      ],
      "metadata": {
        "id": "TZSxgxHj0kja"
      }
    },
    {
      "cell_type": "code",
      "source": [
        "def sp_tokenize(s, corpus):\n",
        "\n",
        "    tensor = []\n",
        "\n",
        "    for sen in corpus:\n",
        "        tensor.append(s.EncodeAsIds(sen))\n",
        "\n",
        "    with open(\"./bpe_spm.vocab\", 'r') as f:\n",
        "        vocab = f.readlines()\n",
        "\n",
        "    word_index = {}\n",
        "    index_word = {}\n",
        "\n",
        "    for idx, line in enumerate(vocab):\n",
        "        word = line.split(\"\\t\")[0]\n",
        "\n",
        "        word_index.update({word:idx})\n",
        "        index_word.update({idx:word})\n",
        "\n",
        "    tensor = tf.keras.preprocessing.sequence.pad_sequences(tensor, padding='pre', maxlen=max_len)\n",
        "\n",
        "    return tensor, word_index, index_word"
      ],
      "metadata": {
        "id": "1ZWhucXexZBI"
      },
      "execution_count": 453,
      "outputs": []
    },
    {
      "cell_type": "code",
      "source": [
        "s = spm.SentencePieceProcessor()\n",
        "s.Load('/content/bpe_spm.model')\n",
        "\n",
        "train_data, word_index, index_word = sp_tokenize(s, train_corpus)\n",
        "test_data, word_index, index_word = sp_tokenize(s, test_corpus)\n",
        "\n",
        "print(train_data.shape)\n",
        "print(test_data.shape)"
      ],
      "metadata": {
        "id": "kAqs4Lhh2fWT",
        "colab": {
          "base_uri": "https://localhost:8080/"
        },
        "outputId": "63829a01-f1b8-436b-8969-4e6050168c99"
      },
      "execution_count": 454,
      "outputs": [
        {
          "output_type": "stream",
          "name": "stdout",
          "text": [
            "(123040, 60)\n",
            "(41198, 60)\n"
          ]
        }
      ]
    },
    {
      "cell_type": "markdown",
      "source": [
        "## 데이터 분리"
      ],
      "metadata": {
        "id": "4414UoK00n0z"
      }
    },
    {
      "cell_type": "code",
      "source": [
        "X_train, X_val, y_train, y_val = train_test_split(train_data, y_train, test_size=0.2, shuffle=True, random_state=34)"
      ],
      "metadata": {
        "id": "hf9qHoy42mQI"
      },
      "execution_count": 455,
      "outputs": []
    },
    {
      "cell_type": "markdown",
      "source": [
        "## SP_BPE_lstm 모델"
      ],
      "metadata": {
        "id": "LUtz0fGpTQPF"
      }
    },
    {
      "cell_type": "code",
      "source": [
        "bpm_lstm_model = tf.keras.Sequential()\n",
        "bpm_lstm_model.add(tf.keras.layers.Embedding(vocab_size, word_vector_dim, input_shape=(None,)))\n",
        "bpm_lstm_model.add(tf.keras.layers.LSTM(256))   \n",
        "bpm_lstm_model.add(tf.keras.layers.Dense(8, activation='relu'))\n",
        "bpm_lstm_model.add(tf.keras.layers.Dense(1, activation='sigmoid'))  \n",
        "\n",
        "bpm_lstm_model.summary()"
      ],
      "metadata": {
        "colab": {
          "base_uri": "https://localhost:8080/"
        },
        "id": "2yQtyAPm2oJv",
        "outputId": "32887e59-bdc3-41a2-c4f9-71a9f51c5475"
      },
      "execution_count": 456,
      "outputs": [
        {
          "output_type": "stream",
          "name": "stdout",
          "text": [
            "Model: \"sequential_12\"\n",
            "_________________________________________________________________\n",
            " Layer (type)                Output Shape              Param #   \n",
            "=================================================================\n",
            " embedding_12 (Embedding)    (None, None, 100)         5000000   \n",
            "                                                                 \n",
            " lstm_12 (LSTM)              (None, 256)               365568    \n",
            "                                                                 \n",
            " dense_24 (Dense)            (None, 8)                 2056      \n",
            "                                                                 \n",
            " dense_25 (Dense)            (None, 1)                 9         \n",
            "                                                                 \n",
            "=================================================================\n",
            "Total params: 5,367,633\n",
            "Trainable params: 5,367,633\n",
            "Non-trainable params: 0\n",
            "_________________________________________________________________\n"
          ]
        }
      ]
    },
    {
      "cell_type": "markdown",
      "source": [
        "## 컴파일 및 학습"
      ],
      "metadata": {
        "id": "9_BINjoi1FKP"
      }
    },
    {
      "cell_type": "code",
      "source": [
        "start = time.time()\n",
        "bpm_lstm_model.compile(optimizer='adam',\n",
        "              loss='binary_crossentropy',\n",
        "              metrics=['accuracy'])\n",
        "              \n",
        "epochs=5\n",
        "\n",
        "bpm_lstm_history = bpm_lstm_model.fit(X_train,\n",
        "                    y_train,\n",
        "                    epochs=epochs,\n",
        "                    batch_size=512,\n",
        "                    validation_data=(X_val, y_val),\n",
        "                    verbose=1)\n",
        "\n",
        "end = time.time()\n",
        "\n",
        "print(end - start)"
      ],
      "metadata": {
        "colab": {
          "base_uri": "https://localhost:8080/"
        },
        "id": "XGKWfdOn2p8A",
        "outputId": "f4b2e922-828f-41c0-e7ac-212202b65c59"
      },
      "execution_count": 457,
      "outputs": [
        {
          "output_type": "stream",
          "name": "stdout",
          "text": [
            "Epoch 1/5\n",
            "193/193 [==============================] - 25s 119ms/step - loss: 0.4646 - accuracy: 0.7751 - val_loss: 0.3613 - val_accuracy: 0.8433\n",
            "Epoch 2/5\n",
            "193/193 [==============================] - 13s 70ms/step - loss: 0.2595 - accuracy: 0.8970 - val_loss: 0.3663 - val_accuracy: 0.8403\n",
            "Epoch 3/5\n",
            "193/193 [==============================] - 10s 52ms/step - loss: 0.1901 - accuracy: 0.9295 - val_loss: 0.4408 - val_accuracy: 0.8324\n",
            "Epoch 4/5\n",
            "193/193 [==============================] - 9s 45ms/step - loss: 0.1385 - accuracy: 0.9499 - val_loss: 0.4888 - val_accuracy: 0.8308\n",
            "Epoch 5/5\n",
            "193/193 [==============================] - 9s 47ms/step - loss: 0.1023 - accuracy: 0.9638 - val_loss: 0.5723 - val_accuracy: 0.8249\n",
            "83.76262760162354\n"
          ]
        }
      ]
    },
    {
      "cell_type": "markdown",
      "source": [
        "## 결과 데이터"
      ],
      "metadata": {
        "id": "VSF8SrPB0_Ez"
      }
    },
    {
      "cell_type": "code",
      "source": [
        "bpm_lstm_history_dict = bpm_lstm_history.history\n",
        "\n",
        "acc = bpm_lstm_history_dict['accuracy']\n",
        "val_acc = bpm_lstm_history_dict['val_accuracy']\n",
        "loss = bpm_lstm_history_dict['loss']\n",
        "val_loss = bpm_lstm_history_dict['val_loss']\n",
        "\n",
        "epochs = range(1, len(acc) + 1)"
      ],
      "metadata": {
        "id": "rDzVwaId2xwE"
      },
      "execution_count": 458,
      "outputs": []
    },
    {
      "cell_type": "code",
      "source": [
        "plt.plot(epochs, loss, 'bo', label='Training loss')\n",
        "\n",
        "plt.plot(epochs, val_loss, 'b', label='Validation loss')\n",
        "plt.title('Training and validation loss(LSTM)')\n",
        "plt.xlabel('Epochs')\n",
        "plt.ylabel('Loss')\n",
        "plt.legend()\n",
        "\n",
        "plt.show()"
      ],
      "metadata": {
        "colab": {
          "base_uri": "https://localhost:8080/",
          "height": 295
        },
        "id": "ntCAU5wIVGvL",
        "outputId": "b56d4ac4-cfa1-4a1c-b091-188898259040"
      },
      "execution_count": 459,
      "outputs": [
        {
          "output_type": "display_data",
          "data": {
            "text/plain": [
              "<Figure size 432x288 with 1 Axes>"
            ],
            "image/png": "[encoded data removed]"
          },
          "metadata": {
            "needs_background": "light"
          }
        }
      ]
    },
    {
      "cell_type": "code",
      "source": [
        "plt.clf()   \n",
        "\n",
        "plt.plot(epochs, acc, 'bo', label='Training acc')\n",
        "plt.plot(epochs, val_acc, 'b', label='Validation acc')\n",
        "plt.title('Training and validation accuracy(LSTM)')\n",
        "plt.xlabel('Epochs')\n",
        "plt.ylabel('Accuracy')\n",
        "plt.legend()\n",
        "\n",
        "plt.show()"
      ],
      "metadata": {
        "colab": {
          "base_uri": "https://localhost:8080/",
          "height": 295
        },
        "id": "rGiuW7mr2zoh",
        "outputId": "0d75c319-9f5b-4764-9f1f-0b176dd5e882"
      },
      "execution_count": 460,
      "outputs": [
        {
          "output_type": "display_data",
          "data": {
            "text/plain": [
              "<Figure size 432x288 with 1 Axes>"
            ],
            "image/png": "[encoded data removed]"
          },
          "metadata": {
            "needs_background": "light"
          }
        }
      ]
    },
    {
      "cell_type": "code",
      "source": [
        "bpm_lstm_results = bpm_lstm_model.evaluate(test_data,  y_test, verbose=2)"
      ],
      "metadata": {
        "colab": {
          "base_uri": "https://localhost:8080/"
        },
        "id": "WCYeV-QOMmyy",
        "outputId": "163baa47-e953-4b2e-9bdd-59fb55b64f5d"
      },
      "execution_count": 461,
      "outputs": [
        {
          "output_type": "stream",
          "name": "stdout",
          "text": [
            "1288/1288 - 5s - loss: 0.5789 - accuracy: 0.8228 - 5s/epoch - 4ms/step\n"
          ]
        }
      ]
    },
    {
      "cell_type": "markdown",
      "source": [
        "# Sentencepiece - Char"
      ],
      "metadata": {
        "id": "wTDugx6KTXoC"
      }
    },
    {
      "cell_type": "markdown",
      "source": [
        "## 데이터 로드"
      ],
      "metadata": {
        "id": "YCr6y5uL1huz"
      }
    },
    {
      "cell_type": "code",
      "source": [
        "train_data = pd.read_table('/content/drive/MyDrive/Exploration/e08/data/ratings_train.txt')\n",
        "test_data = pd.read_table('/content/drive/MyDrive/Exploration/e08/data/ratings_test.txt')"
      ],
      "metadata": {
        "id": "H3p_UTBF1jeQ"
      },
      "execution_count": 511,
      "outputs": []
    },
    {
      "cell_type": "markdown",
      "source": [
        "## 결측치 및 중복값 제거"
      ],
      "metadata": {
        "id": "C4X9lfe11lnc"
      }
    },
    {
      "cell_type": "code",
      "source": [
        "train_data.drop_duplicates(subset=['document'], inplace=True)\n",
        "train_data = train_data.dropna(how = 'any') \n",
        "test_data.drop_duplicates(subset=['document'], inplace=True)\n",
        "test_data = test_data.dropna(how = 'any') "
      ],
      "metadata": {
        "id": "s0aPb4yX1ncD"
      },
      "execution_count": 512,
      "outputs": []
    },
    {
      "cell_type": "markdown",
      "source": [
        "## 문장 길이 조절"
      ],
      "metadata": {
        "id": "Q7YPSIjx1pdw"
      }
    },
    {
      "cell_type": "code",
      "source": [
        "max_len = 60\n",
        "min_len = 5\n",
        "\n",
        "train_corpus = train_data.loc[(train_data['document'].str.len() >= min_len) & (train_data['document'].str.len() < max_len), 'document']\n",
        "y_train = train_data.loc[(train_data['document'].str.len() >= min_len) & (train_data['document'].str.len() < max_len), 'label']\n",
        "\n",
        "test_corpus = test_data.loc[(test_data['document'].str.len() >= min_len) & (test_data['document'].str.len() < max_len), 'document']\n",
        "y_test = test_data.loc[(test_data['document'].str.len() >= min_len) & (test_data['document'].str.len() < max_len), 'label']\n",
        "\n",
        "print(len(train_corpus))\n",
        "print(len(test_corpus))"
      ],
      "metadata": {
        "colab": {
          "base_uri": "https://localhost:8080/"
        },
        "id": "1VWD65mr1qsb",
        "outputId": "3ff7e1eb-523e-44f6-c4cd-a4cf41406b6d"
      },
      "execution_count": 513,
      "outputs": [
        {
          "output_type": "stream",
          "name": "stdout",
          "text": [
            "123040\n",
            "41198\n"
          ]
        }
      ]
    },
    {
      "cell_type": "markdown",
      "source": [
        "## Char 옵션 학습"
      ],
      "metadata": {
        "id": "Mq9OMNbhTtaM"
      }
    },
    {
      "cell_type": "code",
      "source": [
        "start = time.time()\n",
        "\n",
        "temp_file = '/content/drive/MyDrive/deepNLP/Sentencepiece_char'\n",
        "\n",
        "with open(temp_file, 'w') as f:\n",
        "    for row in train_corpus:   \n",
        "        f.write(str(row) + '\\n')\n",
        "\n",
        "spm.SentencePieceTrainer.Train(\n",
        "    '--input={} --model_prefix=char_spm --vocab_size={} --model_type=char'.format(temp_file, vocab_size)    \n",
        ")\n",
        "\n",
        "end = time.time()\n",
        "print(end - start)"
      ],
      "metadata": {
        "colab": {
          "base_uri": "https://localhost:8080/"
        },
        "id": "jSEJIkmlN-jt",
        "outputId": "b4a92724-04b5-4ab1-d756-f51c3af0fb7d"
      },
      "execution_count": 514,
      "outputs": [
        {
          "output_type": "stream",
          "name": "stdout",
          "text": [
            "0.7281494140625\n"
          ]
        }
      ]
    },
    {
      "cell_type": "markdown",
      "source": [
        "## Char 토큰화"
      ],
      "metadata": {
        "id": "5HgnJ2i22AOC"
      }
    },
    {
      "cell_type": "code",
      "source": [
        "def sp_tokenize(s, corpus):\n",
        "\n",
        "    tensor = []\n",
        "\n",
        "    for sen in corpus:\n",
        "        tensor.append(s.EncodeAsIds(sen))\n",
        "\n",
        "    with open(\"./char_spm.vocab\", 'r') as f:\n",
        "        vocab = f.readlines()\n",
        "\n",
        "    word_index = {}\n",
        "    index_word = {}\n",
        "\n",
        "    for idx, line in enumerate(vocab):\n",
        "        word = line.split(\"\\t\")[0]\n",
        "\n",
        "        word_index.update({word:idx})\n",
        "        index_word.update({idx:word})\n",
        "\n",
        "    tensor = tf.keras.preprocessing.sequence.pad_sequences(tensor, padding='pre', maxlen=max_len)\n",
        "\n",
        "    return tensor, word_index, index_word"
      ],
      "metadata": {
        "id": "JPG75ZAvPIpJ"
      },
      "execution_count": 515,
      "outputs": []
    },
    {
      "cell_type": "code",
      "source": [
        "s = spm.SentencePieceProcessor()\n",
        "s.Load('/content/char_spm.model')\n",
        "\n",
        "train_data, word_index, index_word = sp_tokenize(s, train_corpus)\n",
        "test_data, word_index, index_word = sp_tokenize(s, test_corpus)\n",
        "\n",
        "print(train_data.shape)\n",
        "print(test_data.shape)"
      ],
      "metadata": {
        "id": "v-cLwO1gPIjS",
        "colab": {
          "base_uri": "https://localhost:8080/"
        },
        "outputId": "236f9031-5125-4b44-9a8f-a36d09d338d2"
      },
      "execution_count": 516,
      "outputs": [
        {
          "output_type": "stream",
          "name": "stdout",
          "text": [
            "(123040, 60)\n",
            "(41198, 60)\n"
          ]
        }
      ]
    },
    {
      "cell_type": "markdown",
      "source": [
        "## 데이터 분리"
      ],
      "metadata": {
        "id": "W3TrnnfDVOS3"
      }
    },
    {
      "cell_type": "code",
      "source": [
        "X_train, X_val, y_train, y_val = train_test_split(train_data, y_train, test_size=0.2, shuffle=True, random_state=34)"
      ],
      "metadata": {
        "id": "6fJ9RFcLPUfK"
      },
      "execution_count": 517,
      "outputs": []
    },
    {
      "cell_type": "markdown",
      "source": [
        "## SP_Char_lstm 모델"
      ],
      "metadata": {
        "id": "AkrgXJ8HVQNV"
      }
    },
    {
      "cell_type": "code",
      "source": [
        "char_lstm_model = tf.keras.Sequential()\n",
        "char_lstm_model.add(tf.keras.layers.Embedding(vocab_size, word_vector_dim, input_shape=(None,)))\n",
        "char_lstm_model.add(tf.keras.layers.LSTM(256))   \n",
        "char_lstm_model.add(tf.keras.layers.Dense(8, activation='relu'))\n",
        "char_lstm_model.add(tf.keras.layers.Dense(1, activation='sigmoid'))  \n",
        "\n",
        "char_lstm_model.summary()"
      ],
      "metadata": {
        "colab": {
          "base_uri": "https://localhost:8080/"
        },
        "id": "5DyX6refPYdG",
        "outputId": "edf0b977-0a92-4b56-a6a1-8898542b0bca"
      },
      "execution_count": 518,
      "outputs": [
        {
          "output_type": "stream",
          "name": "stdout",
          "text": [
            "Model: \"sequential_17\"\n",
            "_________________________________________________________________\n",
            " Layer (type)                Output Shape              Param #   \n",
            "=================================================================\n",
            " embedding_17 (Embedding)    (None, None, 100)         5000000   \n",
            "                                                                 \n",
            " lstm_17 (LSTM)              (None, 256)               365568    \n",
            "                                                                 \n",
            " dense_34 (Dense)            (None, 8)                 2056      \n",
            "                                                                 \n",
            " dense_35 (Dense)            (None, 1)                 9         \n",
            "                                                                 \n",
            "=================================================================\n",
            "Total params: 5,367,633\n",
            "Trainable params: 5,367,633\n",
            "Non-trainable params: 0\n",
            "_________________________________________________________________\n"
          ]
        }
      ]
    },
    {
      "cell_type": "markdown",
      "source": [
        "## 컴파일 및 학습"
      ],
      "metadata": {
        "id": "y7Vh5K3dVXka"
      }
    },
    {
      "cell_type": "code",
      "source": [
        "start = time.time()\n",
        "char_lstm_model.compile(optimizer='adam',\n",
        "              loss='binary_crossentropy',\n",
        "              metrics=['accuracy'])\n",
        "              \n",
        "epochs=12\n",
        "\n",
        "char_lstm_history = char_lstm_model.fit(X_train,\n",
        "                    y_train,\n",
        "                    epochs=epochs,\n",
        "                    batch_size=512,\n",
        "                    validation_data=(X_val, y_val),\n",
        "                    verbose=1)\n",
        "\n",
        "end = time.time()\n",
        "print(end - start)"
      ],
      "metadata": {
        "colab": {
          "base_uri": "https://localhost:8080/"
        },
        "id": "OFiZkwcKPvJT",
        "outputId": "35e74398-5146-4f34-ddce-45ef5acca57a"
      },
      "execution_count": 519,
      "outputs": [
        {
          "output_type": "stream",
          "name": "stdout",
          "text": [
            "Epoch 1/12\n",
            "193/193 [==============================] - 16s 68ms/step - loss: 0.5153 - accuracy: 0.7448 - val_loss: 0.4494 - val_accuracy: 0.7882\n",
            "Epoch 2/12\n",
            "193/193 [==============================] - 8s 41ms/step - loss: 0.4278 - accuracy: 0.8025 - val_loss: 0.4185 - val_accuracy: 0.8037\n",
            "Epoch 3/12\n",
            "193/193 [==============================] - 7s 38ms/step - loss: 0.4010 - accuracy: 0.8154 - val_loss: 0.4057 - val_accuracy: 0.8134\n",
            "Epoch 4/12\n",
            "193/193 [==============================] - 7s 36ms/step - loss: 0.3813 - accuracy: 0.8270 - val_loss: 0.4060 - val_accuracy: 0.8127\n",
            "Epoch 5/12\n",
            "193/193 [==============================] - 7s 35ms/step - loss: 0.3656 - accuracy: 0.8353 - val_loss: 0.3843 - val_accuracy: 0.8248\n",
            "Epoch 6/12\n",
            "193/193 [==============================] - 7s 35ms/step - loss: 0.3517 - accuracy: 0.8426 - val_loss: 0.3819 - val_accuracy: 0.8239\n",
            "Epoch 7/12\n",
            "193/193 [==============================] - 7s 35ms/step - loss: 0.3397 - accuracy: 0.8492 - val_loss: 0.3838 - val_accuracy: 0.8231\n",
            "Epoch 8/12\n",
            "193/193 [==============================] - 7s 35ms/step - loss: 0.3301 - accuracy: 0.8557 - val_loss: 0.3830 - val_accuracy: 0.8312\n",
            "Epoch 9/12\n",
            "193/193 [==============================] - 7s 36ms/step - loss: 0.3192 - accuracy: 0.8603 - val_loss: 0.3782 - val_accuracy: 0.8321\n",
            "Epoch 10/12\n",
            "193/193 [==============================] - 7s 34ms/step - loss: 0.3095 - accuracy: 0.8662 - val_loss: 0.3809 - val_accuracy: 0.8325\n",
            "Epoch 11/12\n",
            "193/193 [==============================] - 7s 35ms/step - loss: 0.3005 - accuracy: 0.8707 - val_loss: 0.3753 - val_accuracy: 0.8355\n",
            "Epoch 12/12\n",
            "193/193 [==============================] - 7s 36ms/step - loss: 0.2915 - accuracy: 0.8748 - val_loss: 0.3749 - val_accuracy: 0.8383\n",
            "92.53812003135681\n"
          ]
        }
      ]
    },
    {
      "cell_type": "markdown",
      "source": [
        "## 결과 데이터"
      ],
      "metadata": {
        "id": "SCXbqH1i2dBJ"
      }
    },
    {
      "cell_type": "code",
      "source": [
        "char_lstm_history_dict = char_lstm_history.history\n",
        "\n",
        "acc = char_lstm_history_dict['accuracy']\n",
        "val_acc = char_lstm_history_dict['val_accuracy']\n",
        "loss = char_lstm_history_dict['loss']\n",
        "val_loss = char_lstm_history_dict['val_loss']\n",
        "\n",
        "epochs = range(1, len(acc) + 1)\n",
        "\n",
        "plt.plot(epochs, loss, 'bo', label='Training loss')\n",
        "\n",
        "plt.plot(epochs, val_loss, 'b', label='Validation loss')\n",
        "plt.title('Training and validation loss(LSTM)')\n",
        "plt.xlabel('Epochs')\n",
        "plt.ylabel('Loss')\n",
        "plt.legend()\n",
        "\n",
        "plt.show()"
      ],
      "metadata": {
        "colab": {
          "base_uri": "https://localhost:8080/",
          "height": 295
        },
        "id": "QZh2zUdlP0wC",
        "outputId": "12d99521-26be-49f5-f256-b122816e9dee"
      },
      "execution_count": 520,
      "outputs": [
        {
          "output_type": "display_data",
          "data": {
            "text/plain": [
              "<Figure size 432x288 with 1 Axes>"
            ],
            "image/png": "[encoded data removed]"
          },
          "metadata": {
            "needs_background": "light"
          }
        }
      ]
    },
    {
      "cell_type": "code",
      "source": [
        "plt.plot(epochs, loss, 'bo', label='Training loss')\n",
        "\n",
        "plt.plot(epochs, val_loss, 'b', label='Validation loss')\n",
        "plt.title('Training and validation loss(LSTM)')\n",
        "plt.xlabel('Epochs')\n",
        "plt.ylabel('Loss')\n",
        "plt.legend()\n",
        "\n",
        "plt.show()"
      ],
      "metadata": {
        "colab": {
          "base_uri": "https://localhost:8080/",
          "height": 295
        },
        "id": "PXvZZO4U3Aqi",
        "outputId": "3564c178-d8ac-4674-f268-a81103314e77"
      },
      "execution_count": 521,
      "outputs": [
        {
          "output_type": "display_data",
          "data": {
            "text/plain": [
              "<Figure size 432x288 with 1 Axes>"
            ],
            "image/png": "[encoded data removed]"
          },
          "metadata": {
            "needs_background": "light"
          }
        }
      ]
    },
    {
      "cell_type": "code",
      "source": [
        "plt.clf()   \n",
        "\n",
        "plt.plot(epochs, acc, 'bo', label='Training acc')\n",
        "plt.plot(epochs, val_acc, 'b', label='Validation acc')\n",
        "plt.title('Training and validation accuracy(LSTM)')\n",
        "plt.xlabel('Epochs')\n",
        "plt.ylabel('Accuracy')\n",
        "plt.legend()\n",
        "\n",
        "plt.show()"
      ],
      "metadata": {
        "colab": {
          "base_uri": "https://localhost:8080/",
          "height": 295
        },
        "id": "XJlqsL-TP7hP",
        "outputId": "c31f1481-b85c-46e5-af52-6bebcd9cfdc0"
      },
      "execution_count": 522,
      "outputs": [
        {
          "output_type": "display_data",
          "data": {
            "text/plain": [
              "<Figure size 432x288 with 1 Axes>"
            ],
            "image/png": "[encoded data removed]"
          },
          "metadata": {
            "needs_background": "light"
          }
        }
      ]
    },
    {
      "cell_type": "code",
      "source": [
        "char_lstm_results = char_lstm_model.evaluate(test_data,  y_test, verbose=2)"
      ],
      "metadata": {
        "colab": {
          "base_uri": "https://localhost:8080/"
        },
        "id": "Vm3HFtaIP-0u",
        "outputId": "1a44eb18-d28f-42cd-d916-57970cc6bfe9"
      },
      "execution_count": 523,
      "outputs": [
        {
          "output_type": "stream",
          "name": "stdout",
          "text": [
            "1288/1288 - 5s - loss: 0.3743 - accuracy: 0.8378 - 5s/epoch - 4ms/step\n"
          ]
        }
      ]
    },
    {
      "cell_type": "markdown",
      "source": [
        "# 최종 결과 정리"
      ],
      "metadata": {
        "id": "QReJp0OZ62HX"
      }
    }
  ]
}